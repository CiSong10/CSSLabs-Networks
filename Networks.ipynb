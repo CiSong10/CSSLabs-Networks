{
 "cells": [
  {
   "cell_type": "markdown",
   "metadata": {},
   "source": [
    "# CSS Lab: Networks"
   ]
  },
  {
   "cell_type": "code",
   "execution_count": null,
   "metadata": {},
   "outputs": [],
   "source": [
    "import json\n",
    "import math\n",
    "import networkx as nx\n",
    "import networkx.algorithms.community as nxcom\n",
    "import pandas as pd\n",
    "import visJS2jupyter.visJS_module as vjs"
   ]
  },
  {
   "cell_type": "markdown",
   "metadata": {},
   "source": [
    "## Build and visualize a network"
   ]
  },
  {
   "cell_type": "code",
   "execution_count": null,
   "metadata": {},
   "outputs": [],
   "source": [
    "def load_lost_circles_json(in_file):\n",
    "    with open(in_file) as f:\n",
    "        raw = json.load(f)\n",
    "    id_to_name = dict((i, datum[\"name\"]) for i, datum in enumerate(raw['nodes']))\n",
    "    edges = [(datum[\"source\"], datum[\"target\"]) for datum in raw['links']]\n",
    "    return id_to_name, edges"
   ]
  },
  {
   "cell_type": "code",
   "execution_count": null,
   "metadata": {},
   "outputs": [],
   "source": [
    "in_file = \"external/LostCircles/sample.json\"\n",
    "id_to_name, edges = load_lost_circles_json(in_file)"
   ]
  },
  {
   "cell_type": "code",
   "execution_count": null,
   "metadata": {},
   "outputs": [],
   "source": [
    "G = nx.Graph()\n",
    "G.add_edges_from(edges)"
   ]
  },
  {
   "cell_type": "code",
   "execution_count": null,
   "metadata": {},
   "outputs": [],
   "source": [
    "def visualize(G):\n",
    "    nodes = list(G.nodes())\n",
    "    edges = list(G.edges())\n",
    "    pos = nx.spring_layout(G, k=3/math.sqrt(len(nodes)), scale=7000)\n",
    "    nodes_dict = [{\n",
    "        \"id\": id_to_name[n],\n",
    "        \"x\": pos[n][0],\n",
    "        \"y\": pos[n][1],\n",
    "        \"node_size_field\": \"node_size\",\n",
    "        \"node_size\": 5}\n",
    "        for n in nodes]\n",
    "    node_map = dict(zip(nodes,range(len(nodes)))) # map to indices for source/target in edges\n",
    "    edges_dict = [{\n",
    "        \"source\": node_map[edges[i][0]],\n",
    "        \"target\": node_map[edges[i][1]],\n",
    "        \"title\":'test',\n",
    "        \"color\": '#d0d0d0'}\n",
    "        for i in range(len(edges))]\n",
    "    return vjs.visjs_network(\n",
    "    nodes_dict, edges_dict,\n",
    "    node_size_multiplier=10.0)"
   ]
  },
  {
   "cell_type": "code",
   "execution_count": null,
   "metadata": {},
   "outputs": [],
   "source": [
    "visualize(G)"
   ]
  },
  {
   "cell_type": "markdown",
   "metadata": {},
   "source": [
    "## Calculate centralities"
   ]
  },
  {
   "cell_type": "code",
   "execution_count": null,
   "metadata": {},
   "outputs": [],
   "source": [
    "degree = nx.degree_centrality(G)\n",
    "betweenness = nx.betweenness_centrality(G)\n",
    "eigenvector = nx.eigenvector_centrality(G)\n",
    "closeness = nx.closeness_centrality(G)"
   ]
  },
  {
   "cell_type": "code",
   "execution_count": null,
   "metadata": {},
   "outputs": [],
   "source": [
    "df = pd.DataFrame({\n",
    "    \"id\": nodes,\n",
    "    \"label\": [id_to_name[n] for n in nodes],\n",
    "    \"degree\": [degree[n] for n in nodes],\n",
    "    \"betweenness\": [betweenness[n] for n in nodes],\n",
    "    \"eigenvector\": [eigenvector[n] for n in nodes],\n",
    "    \"closeness\": [closeness[n] for n in nodes]}).set_index(\"id\")\n",
    "df.sort_values(\"eigenvector\", ascending=False).head()"
   ]
  },
  {
   "cell_type": "markdown",
   "metadata": {},
   "source": [
    "## Find communities"
   ]
  },
  {
   "cell_type": "code",
   "execution_count": null,
   "metadata": {},
   "outputs": [],
   "source": [
    "community = nxcom.girvan_newman(G)"
   ]
  },
  {
   "cell_type": "code",
   "execution_count": null,
   "metadata": {},
   "outputs": [],
   "source": []
  },
  {
   "cell_type": "markdown",
   "metadata": {},
   "source": [
    "## References\n",
    "\n",
    "[RLWGBF2017] Rosenthal, S. B., Len, J., Webster, M., Gary, A., Birmingham, A., & Fisch, K. M. (2017). Interactive network visualization in Jupyter notebooks: visJS2jupyter. Bioinformatics."
   ]
  },
  {
   "cell_type": "code",
   "execution_count": null,
   "metadata": {},
   "outputs": [],
   "source": []
  }
 ],
 "metadata": {
  "kernelspec": {
   "display_name": "Python 3",
   "language": "python",
   "name": "python3"
  },
  "language_info": {
   "codemirror_mode": {
    "name": "ipython",
    "version": 3
   },
   "file_extension": ".py",
   "mimetype": "text/x-python",
   "name": "python",
   "nbconvert_exporter": "python",
   "pygments_lexer": "ipython3",
   "version": "3.6.2"
  }
 },
 "nbformat": 4,
 "nbformat_minor": 2
}
