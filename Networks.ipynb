{
 "cells": [
  {
   "cell_type": "markdown",
   "metadata": {},
   "source": [
    "# CSS Lab: Networks"
   ]
  },
  {
   "cell_type": "code",
   "execution_count": null,
   "metadata": {},
   "outputs": [],
   "source": [
    "%pylab inline\n",
    "import json\n",
    "import math\n",
    "import networkx as nx\n",
    "import networkx.algorithms as nxalg\n",
    "import networkx.algorithms.community as nxcom\n",
    "import networkx.readwrite as nxrw\n",
    "import pandas as pd\n",
    "import visJS2jupyter.visJS_module as vjs"
   ]
  },
  {
   "cell_type": "markdown",
   "metadata": {},
   "source": [
    "## 1. Build and visualize a network\n",
    "\n",
    "This section loads network data from a file and explores its basic properties. "
   ]
  },
  {
   "cell_type": "code",
   "execution_count": null,
   "metadata": {},
   "outputs": [],
   "source": [
    "# Helper functions\n",
    "\n",
    "def load_sample_affiliation(filename=\"external/hamilton.csv\"):\n",
    "    B = nxrw.adjlist.read_adjlist(filename, delimiter=\"; \", comments=\"%\")\n",
    "    return B\n",
    "\n",
    "def load_sample(filename=\"external/hamilton.csv\"):\n",
    "    # Load the song-character affiliation network\n",
    "    B = load_sample_affiliation()\n",
    "    # Get list of songs from the file\n",
    "    songs = set()\n",
    "    with open(filename) as f:\n",
    "        f.readline()\n",
    "        for row in f:\n",
    "            songs.add(row.split(\"; \")[0])\n",
    "    # Deduce list of charactes\n",
    "    characters = set(B.nodes()) - songs\n",
    "    # Project the affiliation network onto the set of characters\n",
    "    G = nxalg.bipartite.projection.weighted_projected_graph(B, characters)\n",
    "    return G\n",
    "\n",
    "def visualize_visjs(\n",
    "        G, communities=None, colors=None, default_color=\"#666666\",\n",
    "        node_size_field=\"node_size\", layout=\"spring\", scale=500):\n",
    "    # Get list of nodes and edges\n",
    "    nodes = list(G.nodes())\n",
    "    edges = list(G.edges())\n",
    "    # Generate a layout for the nodes\n",
    "    if layout == \"circle\":\n",
    "        pos = nx.circular_layout(G, scale=scale)\n",
    "    else:\n",
    "        pos = nx.spring_layout(G, k=3/math.sqrt(len(nodes)), scale=scale)\n",
    "    # If we have communities, assign color based on community\n",
    "    node_colors = {}\n",
    "    if colors is None:\n",
    "        colors = [\"#00ff00\", \"#0000ff\", \"00ffff\", \"7f7f00\", \"ff0000\", \"7f7fff\"]\n",
    "    node_community = {}\n",
    "    if communities is not None:\n",
    "        for i, com in enumerate(sorted(communities, key=lambda x: len(x), reverse=True)):\n",
    "            for node in com:\n",
    "                node_community[node] = i\n",
    "                try:\n",
    "                    node_colors[node] = colors[i]\n",
    "                except IndexError:\n",
    "                    node_colors[node] = default_color\n",
    "    # Per-node properties\n",
    "    nodes_dict = [{\n",
    "        \"id\": n,\n",
    "        \"x\": pos[n][0],\n",
    "        \"y\": pos[n][1],\n",
    "        \"node_size_field\": \"node_size\",\n",
    "        \"node_size\": 5,\n",
    "        \"color\": node_colors.get(n, \"#666666\")}\n",
    "        for n in nodes]\n",
    "    # Map node labels to contiguous ids\n",
    "    node_map = dict(zip(nodes,range(len(nodes))))\n",
    "    # Determine edge colors\n",
    "    edge_colors = {}\n",
    "    for edge in edges:\n",
    "        source_color = node_colors.get(edge[0], \"#d0d0d0\")\n",
    "        target_color = node_colors.get(edge[1], \"#d0d0d0\")\n",
    "        if source_color == target_color:\n",
    "            edge_colors[edge] = source_color\n",
    "    # Per-edge properties, use contiguous ids to identify nodes\n",
    "    edges_dict = [{\n",
    "        \"source\": node_map[edges[i][0]],\n",
    "        \"target\": node_map[edges[i][1]],\n",
    "        \"title\":'test',\n",
    "        \"color\": \"#d0d0d0\"} #edge_colors.get(edge, \"#d0d0d0\")}\n",
    "        for i in range(len(edges))]\n",
    "    return vjs.visjs_network(\n",
    "    nodes_dict, edges_dict,\n",
    "    node_size_multiplier=10.0)"
   ]
  },
  {
   "cell_type": "markdown",
   "metadata": {},
   "source": [
    "### Loading the network\n",
    "\n",
    "The next cell loads data from a file using the `networkx` library,\n",
    "and displays a list of nodes in the network.\n",
    "This example uses characters from the play _Hamilton_."
   ]
  },
  {
   "cell_type": "code",
   "execution_count": null,
   "metadata": {},
   "outputs": [],
   "source": [
    "G = load_sample()\n",
    "sorted(G.nodes())"
   ]
  },
  {
   "cell_type": "markdown",
   "metadata": {},
   "source": [
    "Now that you know the labels of the nodes, you can see which nodes are connected by an edge.\n",
    "In this case, two nodes are connected by an edge if the corresponding characters have parts in the same song.\n",
    "The next cell chooses a single node and prints a list of all the other nodes it's connected to.\n",
    "These nodes are called its neighbors."
   ]
  },
  {
   "cell_type": "code",
   "execution_count": null,
   "metadata": {},
   "outputs": [],
   "source": [
    "sorted(G.neighbors('E. Schuyler'))"
   ]
  },
  {
   "cell_type": "markdown",
   "metadata": {},
   "source": [
    "### Visualizing the network\n",
    "In these visualizations, each circle represents a node.\n",
    "Edges between two nodes are represented by drawing a line between them.\n",
    "\n",
    "There are many ways to draw a network.\n",
    "One simple way is to space all the nodes evenly around a circle."
   ]
  },
  {
   "cell_type": "code",
   "execution_count": null,
   "metadata": {
    "scrolled": false
   },
   "outputs": [],
   "source": [
    "visualize_visjs(G, layout=\"circle\")"
   ]
  },
  {
   "cell_type": "markdown",
   "metadata": {},
   "source": [
    "Another common way to visualize a network is using a \"force-directed\" layout.\n",
    "In a force-directed layout, nodes push away from each other, but edges act like springs pulling them back together.\n",
    "As a result, nodes with many neighbors in common are pulled closer to each other."
   ]
  },
  {
   "cell_type": "code",
   "execution_count": null,
   "metadata": {},
   "outputs": [],
   "source": [
    "visualize_visjs(G, scale=1000)"
   ]
  },
  {
   "cell_type": "markdown",
   "metadata": {},
   "source": [
    "What do the people in the center of the network have in common? What about the people around the edge?\n",
    "\n",
    "What are some benefits and drawbacks of the circular layout versus the force-directed layout?"
   ]
  },
  {
   "cell_type": "markdown",
   "metadata": {},
   "source": [
    "## 2. Centrality measures\n",
    "\n",
    "One benefit of representing data as a network is that the patterns of connections between nodes can reveal useful information.\n",
    "Many standard techniques for investigating the structure of networks have been developed.\n",
    "\n",
    "One of the simplest questions to ask is: which nodes are most important?\n",
    "But what does \"important\" mean exactly?\n",
    "There are several common ways to measure importance, or _centrality_, of nodes in a nework.\n",
    "This section examines several of the most popular.\n",
    "\n",
    "The next cell creates a data frame with the network nodes and then uses `networkx` to calculate their centralities."
   ]
  },
  {
   "cell_type": "code",
   "execution_count": null,
   "metadata": {},
   "outputs": [],
   "source": [
    "df = pd.DataFrame({\"id\": G.nodes(), \"label\": G.nodes()}).set_index(\"id\")\n",
    "df['degree'] = pd.Series(nx.degree_centrality(G))\n",
    "df['betweenness'] = pd.Series(nx.betweenness_centrality(G))\n",
    "df['closeness'] = pd.Series(nx.closeness_centrality(G))\n",
    "df['eigenvector'] = pd.Series(nx.eigenvector_centrality(G))"
   ]
  },
  {
   "cell_type": "markdown",
   "metadata": {},
   "source": [
    "### Degree\n",
    "\n",
    "One very simple way to find important nodes is to count how many neighbors they have.\n",
    "This measure is called the degree centrality.\n",
    "This number is typically divided by the total number of other nodes in the network, so a value\n",
    "of 0.82 means that a node is connected to 82% of the other nodes.\n",
    "The next cell shows the nodes with the highest degree centralities."
   ]
  },
  {
   "cell_type": "code",
   "execution_count": null,
   "metadata": {},
   "outputs": [],
   "source": [
    "df.sort_values('degree', ascending=False).head(5)"
   ]
  },
  {
   "cell_type": "markdown",
   "metadata": {},
   "source": [
    "### Betweenness\n",
    "\n",
    "Rather than highly-connected nodes, you might want to find nodes that connect different parts of the network.\n",
    "These types of nodes are sometimes called bridges, or brokers.\n",
    "The betweenness centrality is based on finding the shortest path between nodes.\n",
    "The nodes on that path play the role of bridges, connecting the endpoints.\n",
    "So the betweenness is the fraction of all shortest paths in the network that pass through a given node."
   ]
  },
  {
   "cell_type": "code",
   "execution_count": null,
   "metadata": {},
   "outputs": [],
   "source": [
    "df.sort_values('betweenness', ascending=False).head(5)"
   ]
  },
  {
   "cell_type": "markdown",
   "metadata": {},
   "source": [
    "### Closeness\n",
    "\n",
    "One very simple way to find important nodes is to count how many neighbors they have.\n",
    "This measure is called the degree centrality.\n",
    "This number is typically divided by the total number of other nodes in the network, so a value\n",
    "of 0.82 means that a node is connected to 82% of the other nodes.\n",
    "Here are the nodes with the highest and lowest degree centrality."
   ]
  },
  {
   "cell_type": "code",
   "execution_count": null,
   "metadata": {},
   "outputs": [],
   "source": [
    "df.sort_values('closeness', ascending=False).head(5)"
   ]
  },
  {
   "cell_type": "markdown",
   "metadata": {},
   "source": [
    "### Eigenvector\n",
    "\n",
    "One very simple way to find important nodes is to count how many neighbors they have.\n",
    "This measure is called the degree centrality.\n",
    "This number is typically divided by the total number of other nodes in the network, so a value\n",
    "of 0.82 means that a node is connected to 82% of the other nodes.\n",
    "Here are the nodes with the highest and lowest degree centrality."
   ]
  },
  {
   "cell_type": "code",
   "execution_count": null,
   "metadata": {},
   "outputs": [],
   "source": [
    "df.sort_values('eigenvector', ascending=False).head(5)"
   ]
  },
  {
   "cell_type": "markdown",
   "metadata": {},
   "source": [
    "## SCRATCH SPACE BELOW HERE"
   ]
  },
  {
   "cell_type": "markdown",
   "metadata": {},
   "source": [
    "## Build and visualize a network"
   ]
  },
  {
   "cell_type": "code",
   "execution_count": null,
   "metadata": {},
   "outputs": [],
   "source": [
    "def load_lost_circles_json(in_file):\n",
    "    with open(in_file) as f:\n",
    "        raw = json.load(f)\n",
    "    id_to_name = dict((i, datum[\"name\"]) for i, datum in enumerate(raw['nodes']))\n",
    "    edges = [(datum[\"source\"], datum[\"target\"]) for datum in raw['links']]\n",
    "    return id_to_name, edges"
   ]
  },
  {
   "cell_type": "code",
   "execution_count": null,
   "metadata": {},
   "outputs": [],
   "source": [
    "in_file = \"external/LostCircles/sample.json\"\n",
    "id_to_name, edges = load_lost_circles_json(in_file)"
   ]
  },
  {
   "cell_type": "code",
   "execution_count": null,
   "metadata": {},
   "outputs": [],
   "source": [
    "G = nx.Graph()\n",
    "G.add_edges_from(edges)\n",
    "giant_component = max(list(nxalg.connected_components(G)), key=len)\n",
    "for node in (set(G.nodes()) - set(giant_component)):\n",
    "    G.remove_node(node)"
   ]
  },
  {
   "cell_type": "code",
   "execution_count": null,
   "metadata": {},
   "outputs": [],
   "source": [
    "def visualize_nx(G, communities=None, colors=None, default_color=\"#666666\", node_size_field=\"node_size\"):\n",
    "    # Get list of nodes and edges\n",
    "    nodes = list(G.nodes())\n",
    "    edges = list(G.edges())\n",
    "    # Generate a layout for the nodes\n",
    "    pos = nx.spring_layout(G, k=1/math.sqrt(len(nodes)), scale=1)    # If we have communities, assign color based on community\n",
    "    node_colors = {}\n",
    "    if colors is None:\n",
    "        colors = [\"#00ff00\", \"#0000ff\", \"00ffff\", \"7f7f00\", \"ff0000\", \"7f7fff\"]\n",
    "    node_community = {}\n",
    "    if False:\n",
    "        if communities is not None:\n",
    "            for i, com in enumerate(sorted(communities, key=lambda x: len(x), reverse=True)):\n",
    "                for node in com:\n",
    "                    node_community[node] = i\n",
    "                    try:\n",
    "                        node_colors[node] = colors[i]\n",
    "                    except IndexError:\n",
    "                        node_colors[node] = default_color\n",
    "        # Per-node properties\n",
    "        nodes_dict = [{\n",
    "            \"id\": id_to_name[n],\n",
    "            \"x\": pos[n][0],\n",
    "            \"y\": pos[n][1],\n",
    "            \"node_size_field\": \"node_size\",\n",
    "            \"node_size\": 5,\n",
    "            \"color\": node_colors.get(n, \"#666666\")}\n",
    "            for n in nodes]\n",
    "        # Map node labels to contiguous ids\n",
    "        node_map = dict(zip(nodes,range(len(nodes))))\n",
    "        # Determine edge colors\n",
    "        edge_colors = {}\n",
    "        for edge in edges:\n",
    "            source_color = node_colors.get(edge[0], \"#d0d0d0\")\n",
    "            target_color = node_colors.get(edge[1], \"#d0d0d0\")\n",
    "            if source_color == target_color:\n",
    "                edge_colors[edge] = source_color\n",
    "        # Per-edge properties, use contiguous ids to identify nodesz\n",
    "        edges_dict = [{\n",
    "            \"source\": node_map[edges[i][0]],\n",
    "            \"target\": node_map[edges[i][1]],\n",
    "            \"title\":'test',\n",
    "            \"color\": \"#d0d0d0\"} #edge_colors.get(edge, \"#d0d0d0\")}\n",
    "            for i in range(len(edges))]\n",
    "    figure(figsize=(128,128))\n",
    "    nx.draw(G, pos, node_size=500, edge_color=\"#d0d0d0\")"
   ]
  },
  {
   "cell_type": "code",
   "execution_count": null,
   "metadata": {
    "scrolled": true
   },
   "outputs": [],
   "source": [
    "visualize_nx(G)"
   ]
  },
  {
   "cell_type": "code",
   "execution_count": null,
   "metadata": {},
   "outputs": [],
   "source": [
    "visualize_visjs(G)"
   ]
  },
  {
   "cell_type": "markdown",
   "metadata": {},
   "source": [
    "## Calculate centralities"
   ]
  },
  {
   "cell_type": "code",
   "execution_count": null,
   "metadata": {},
   "outputs": [],
   "source": [
    "degree = nx.degree_centrality(G)\n",
    "betweenness = nx.betweenness_centrality(G)\n",
    "eigenvector = nx.eigenvector_centrality(G)\n",
    "closeness = nx.closeness_centrality(G)"
   ]
  },
  {
   "cell_type": "code",
   "execution_count": null,
   "metadata": {},
   "outputs": [],
   "source": [
    "degree = nx.degree_centrality(G)\n",
    "betweenness = nx.betweenness_centrality(G)\n",
    "eigenvector = nx.eigenvector_centrality(G)\n",
    "closeness = nx.closeness_centrality(G)nodes = G.nodes()\n",
    "df = pd.DataFrame({\n",
    "    \"id\": nodes,\n",
    "    \"label\": [id_to_name[n] for n in nodes],\n",
    "    \"degree\": [degree[n] for n in nodes],\n",
    "    \"betweenness\": [betweenness[n] for n in nodes],\n",
    "    \"eigenvector\": [eigenvector[n] for n in nodes],\n",
    "    \"closeness\": [closeness[n] for n in nodes]}).set_index(\"id\")"
   ]
  },
  {
   "cell_type": "code",
   "execution_count": null,
   "metadata": {},
   "outputs": [],
   "source": [
    "df.sort_values(\"degree\", ascending=False).head()"
   ]
  },
  {
   "cell_type": "code",
   "execution_count": null,
   "metadata": {},
   "outputs": [],
   "source": [
    "df.sort_values(\"betweenness\", ascending=False).head()"
   ]
  },
  {
   "cell_type": "code",
   "execution_count": null,
   "metadata": {},
   "outputs": [],
   "source": [
    "df.sort_values(\"eigenvector\", ascending=False).head()"
   ]
  },
  {
   "cell_type": "code",
   "execution_count": null,
   "metadata": {},
   "outputs": [],
   "source": [
    "df.sort_values(\"closeness\", ascending=False).head()"
   ]
  },
  {
   "cell_type": "code",
   "execution_count": null,
   "metadata": {},
   "outputs": [],
   "source": [
    "measures = [\"degree\", \"betweenness\", \"eigenvector\", \"closeness\"]\n",
    "plt.figure(figsize=(8,8))\n",
    "for row in range(4):\n",
    "    for col in range(4):\n",
    "        plt.subplot(4,4,1 + row*4 + col)\n",
    "        if row != col:\n",
    "            plt.plot(df[measures[row]], df[measures[col]], '.', markersize=1)\n",
    "        if row == 3:\n",
    "            plt.xlabel(measures[col])\n",
    "        if col == 0:\n",
    "            plt.ylabel(measures[row])\n",
    "plt.tight_layout()"
   ]
  },
  {
   "cell_type": "markdown",
   "metadata": {},
   "source": [
    "## Find communities"
   ]
  },
  {
   "cell_type": "code",
   "execution_count": null,
   "metadata": {},
   "outputs": [],
   "source": [
    "communities = []\n",
    "# Girvan Newman takes about 4 hours to run on ~1000 node social net\n",
    "for i, com in enumerate(nxcom.girvan_newman(G)):\n",
    "    print(\"Found {}:\".format(i))\n",
    "    most_recent = com\n",
    "    communities.append(com)"
   ]
  },
  {
   "cell_type": "code",
   "execution_count": null,
   "metadata": {},
   "outputs": [],
   "source": [
    "list_communities = []\n",
    "for com in communities:\n",
    "    list_communities.append([list(x) for x in com])\n",
    "with open(\"communities.json\",\"wb\") as f:\n",
    "    f.write(json.dumps(list_communities).encode('utf-8'))"
   ]
  },
  {
   "cell_type": "code",
   "execution_count": null,
   "metadata": {},
   "outputs": [],
   "source": [
    "with open(\"communities.json\") as f:\n",
    "    communities = json.loads(f.read())\n",
    "for i, com in enumerate(communities):\n",
    "    communities[i] = sorted(communities[i], key=lambda x: len(x), reverse=True)"
   ]
  },
  {
   "cell_type": "code",
   "execution_count": null,
   "metadata": {
    "scrolled": true
   },
   "outputs": [],
   "source": [
    "visualize_visjs(G, communities[5])"
   ]
  },
  {
   "cell_type": "markdown",
   "metadata": {},
   "source": [
    "## References\n",
    "\n",
    "[RLWGBF2017] Rosenthal, S. B., Len, J., Webster, M., Gary, A., Birmingham, A., & Fisch, K. M. (2017). Interactive network visualization in Jupyter notebooks: visJS2jupyter. Bioinformatics.\n",
    "\n",
    "[BS2016] A. Beveridge and J. Shan, \"Network of Thrones,\" Math Horizons Magazine , Vol. 23, No. 4 (2016), pp. 18-22"
   ]
  },
  {
   "cell_type": "code",
   "execution_count": null,
   "metadata": {},
   "outputs": [],
   "source": []
  }
 ],
 "metadata": {
  "kernelspec": {
   "display_name": "Python 3",
   "language": "python",
   "name": "python3"
  },
  "language_info": {
   "codemirror_mode": {
    "name": "ipython",
    "version": 3
   },
   "file_extension": ".py",
   "mimetype": "text/x-python",
   "name": "python",
   "nbconvert_exporter": "python",
   "pygments_lexer": "ipython3",
   "version": "3.6.2"
  }
 },
 "nbformat": 4,
 "nbformat_minor": 2
}
