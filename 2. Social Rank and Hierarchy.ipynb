{
 "cells": [
  {
   "cell_type": "markdown",
   "metadata": {},
   "source": [
    "# CSS Lab: Social Rank and Hierarchy\n",
    "Network analysis can be used to examine social status within a community. This lab will use data from the 1995-1997 Teenage Friends and Lifestyle study [MA1997]. This study collected friendship and other data from a group of 50 teenage girls over the course of three years.\n",
    "\n",
    "## Contents\n",
    "1. Setup\n",
    "2. Directed networks\n",
    "    1. Load and visualize the social network\n",
    "3. Social status\n",
    "    1. Minimum violation rankings\n",
    "    2. Eigenvector centrality\n",
    "    3. Spring rank\n",
    "    4. Compare MVR approximations\n",
    "    5. Analyze friendships"
   ]
  },
  {
   "cell_type": "markdown",
   "metadata": {},
   "source": [
    "## Setup"
   ]
  },
  {
   "cell_type": "code",
   "execution_count": 135,
   "metadata": {},
   "outputs": [
    {
     "name": "stdout",
     "output_type": "stream",
     "text": [
      "Populating the interactive namespace from numpy and matplotlib\n"
     ]
    }
   ],
   "source": [
    "%pylab inline\n",
    "import itertools\n",
    "import json\n",
    "import math\n",
    "import urllib.request\n",
    "import networkx as nx\n",
    "import networkx.algorithms as nxalg\n",
    "import networkx.algorithms.community as nxcom\n",
    "import networkx.readwrite as nxrw\n",
    "import numpy as np\n",
    "import pandas as pd\n",
    "import scipy as sp\n",
    "import scipy.stats as spstats\n",
    "import visJS2jupyter.visJS_module as vjs\n",
    "import re\n",
    "from springrank.SpringRank_tools import SpringRank\n",
    "from springrank.tools import build_graph_from_adjacency\n"
   ]
  },
  {
   "cell_type": "code",
   "execution_count": 136,
   "metadata": {},
   "outputs": [],
   "source": [
    "# Helper functions\n",
    "\n",
    "def load_social():\n",
    "    G = nx.DiGraph()\n",
    "    edges = dict()\n",
    "    with open(\"external/facebook-wosn-wall/out.facebook-wosn-wall\") as f:\n",
    "        for row in f:\n",
    "            if row[0] == \"%\":\n",
    "                continue\n",
    "            try:\n",
    "                data = [int(x) for x in re.split(\"\\s+\", row.strip())]\n",
    "                source, target, weight, timestamp = data\n",
    "            except ValueError:\n",
    "                print(row)\n",
    "                print(re.split(\"\\s+\", row))\n",
    "                raise\n",
    "            try:\n",
    "                edges[(source, target)] += 1\n",
    "            except KeyError:\n",
    "                edges[(source, target)] = 1\n",
    "    for source, target in edges:\n",
    "        G.add_edge(source, target)\n",
    "    return G\n",
    "\n",
    "def load_tfls():\n",
    "    G = nx.DiGraph()\n",
    "    with open(\"external/s50_data/s50-network1.dat\") as f:\n",
    "        for row, row_data in enumerate(f):\n",
    "            for col, cell_data in enumerate(re.split(\"\\s\", row_data.strip())):\n",
    "                cell_data = float(cell_data)\n",
    "                if cell_data != 0:\n",
    "                    G.add_edge(row, col, weight=cell_data, value=cell_data)\n",
    "    nx.set_node_attributes(G, dict((v, v) for v in G.nodes()), name=\"label\")\n",
    "    return G\n",
    "\n",
    "\n",
    "def get_colors():\n",
    "    phi = (1 + math.sqrt(5)) / 2\n",
    "    color = []\n",
    "    for i in range(1, 20):\n",
    "        theta = phi * i * math.pi * 2\n",
    "        x = 128 + math.floor(64*math.sin(theta))\n",
    "        y = 128 + math.floor(64*math.cos(theta))\n",
    "        color.append((x, x, y))\n",
    "    return color\n",
    "\n",
    "\n",
    "def visualize_visjs(\n",
    "        G, communities=None, colors=None, default_color=\"192,192,192\",\n",
    "        node_size_field=\"node_size\", layout=\"spring\", scale=500, pos=None,\n",
    "        groups=None, weight=None, labels=dict(), title=\"\", node_alpha=1.0):\n",
    "    # Get list of nodes and edges\n",
    "    nodes = list(G.nodes())\n",
    "    edges = list(G.edges())\n",
    "    # Change node shapes for bipartite graph\n",
    "    if groups is None:\n",
    "        node_shapes = dict()\n",
    "        node_sizes = dict()\n",
    "        node_colors = dict()\n",
    "    else:\n",
    "        node_shapes = dict((n, \"square\") for n in groups)\n",
    "        node_sizes = dict((n, 15) for n in groups)\n",
    "        node_colors = dict((n, \"192,128,0\") for n in groups)\n",
    "    # Per-node properties\n",
    "    nodes_dict = dict((n, {\n",
    "        \"id\": str(labels.get(n, n)),\n",
    "        \"node_size\": node_sizes.get(n, 5),\n",
    "        \"node_shape\": node_shapes.get(n, \"dot\")\n",
    "        }) for n in nodes)\n",
    "    # Generate a layout for the nodes\n",
    "    edge_smooth_enabled = False\n",
    "    edge_width = 4\n",
    "    edge_arrow_scale = 2\n",
    "    if communities is not None and pos is None:\n",
    "        # Generate initial positions based on community\n",
    "        phi = 3.14 / len(nodes)\n",
    "        community_node = []\n",
    "        # Create list of nodes and their communities\n",
    "        for i, com in enumerate(sorted(communities, key=lambda x: len(x), reverse=True)):\n",
    "            for node in com:\n",
    "                community_node.append((i, node))\n",
    "        # Sort by community and\n",
    "        community_node = sorted(community_node)\n",
    "        # Generate initial position by placing communities around a circle\n",
    "        pos = dict((d[1], (math.cos(i*phi), math.sin(i*phi))) for i, d in enumerate(community_node))\n",
    "    if layout == \"circle\":\n",
    "        pos = nx.circular_layout(G, scale=scale)\n",
    "    elif layout == \"spring\":\n",
    "        pos = nx.spring_layout(G, k=3/math.sqrt(len(nodes)), scale=scale, pos=pos)\n",
    "    else:\n",
    "        edge_smooth_enabled = True\n",
    "    # Assign position\n",
    "    for n in nodes:\n",
    "        nodes_dict[n][\"x\"] = pos[n][0]\n",
    "        nodes_dict[n][\"y\"] = pos[n][1]\n",
    "    # Calculate bounds for scaling\n",
    "    x_min = min(pos.values(), key=lambda x: x[0])[0]\n",
    "    x_max = max(pos.values(), key=lambda x: x[0])[0]\n",
    "    y_min = min(pos.values(), key=lambda x: x[1])[1]\n",
    "    y_max = max(pos.values(), key=lambda x: x[1])[1]\n",
    "    x_range = x_max - x_min\n",
    "    y_range = y_max - y_min\n",
    "    max_range = max(x_range, y_range)\n",
    "    # If we have communities, assign color based on community\n",
    "    if colors is None:\n",
    "        colors = [\"{},{},{}\".format(*c) for c in get_colors()]\n",
    "    if communities is not None:\n",
    "        for i, com in enumerate(sorted(communities, key=lambda x: len(x), reverse=True)):\n",
    "            for node in com:\n",
    "                try:\n",
    "                    nodes_dict[node][\"color\"] = \"rgba({},{})\".format(colors[i], node_alpha)\n",
    "                    nodes_dict[node][\"color_index\"] = i\n",
    "                except IndexError:\n",
    "                    nodes_dict[node][\"color\"] = \"rgba({},{})\".format(default_color, node_alpha)\n",
    "    # Update color for bipartite nodes\n",
    "    for node, node_attr in nodes_dict.items():\n",
    "        if node in node_colors:\n",
    "            node_attr[\"color\"] = \"rgba({},{})\".format(node_colors[node], node_alpha)\n",
    "    # Map node labels to contiguous ids\n",
    "    node_map = dict(zip(nodes,range(len(nodes))))\n",
    "    # Determine edge colors\n",
    "    edge_colors_idx = {}\n",
    "    for source, target in edges:\n",
    "        source_color = nodes_dict[source].get(\"color_index\", None)\n",
    "        target_color = nodes_dict[target].get(\"color_index\", None)\n",
    "        if source_color == target_color and source_color is not None:\n",
    "            edge_colors_idx[(source, target)] = source_color\n",
    "    edge_colors = dict(\n",
    "        (e,colors[c])\n",
    "        for e, c in edge_colors_idx.items() if c < len(colors))\n",
    "    # Per-edge properties, use contiguous ids to identify nodes\n",
    "    edge_scale = math.ceil(max_range / 200)\n",
    "    edges_dict = []\n",
    "    for source, target, data in G.edges(data=True):\n",
    "        edge = {\n",
    "            \"source\": node_map[source],\n",
    "            \"target\": node_map[target],\n",
    "            \"title\":'test',\n",
    "            \"color\": \"rgba({},0.3)\".format(edge_colors.get((source,target), default_color)),\n",
    "            \"edge_width_field\": \"value\",\n",
    "            \"value\": data.get(\"value\", 1) * edge_scale\n",
    "        }\n",
    "        edges_dict.append(edge)\n",
    "    # Convert nodes dict to node list\n",
    "    nodes_list = [nodes_dict[n] for n in nodes]\n",
    "    # Check for directed graph\n",
    "    if G.__class__ == nx.classes.digraph.DiGraph:\n",
    "        directed = True\n",
    "    else:\n",
    "        directed = False\n",
    "    # Call visjs\n",
    "    return vjs.visjs_network(\n",
    "        nodes_list, edges_dict,\n",
    "        node_size_field=\"node_size\",\n",
    "        node_size_multiplier=10.0,\n",
    "        edge_width_field=\"value\",\n",
    "        edge_width=edge_width,\n",
    "        edge_arrow_to=directed,\n",
    "        edge_arrow_to_scale_factor=edge_arrow_scale,\n",
    "        edge_smooth_enabled=edge_smooth_enabled,\n",
    "        edge_smooth_type=\"curvedCW\",\n",
    "        graph_id=hash(title))\n"
   ]
  },
  {
   "cell_type": "markdown",
   "metadata": {},
   "source": [
    "## Social status\n",
    "When members of a social group can be ordered in terms of social status, it forms a pecking order. Directed network data can be used to uncover an underlying pecking order if it exists. An unreciprocated friendship can be a sign of a difference in social standing. The person who doesn't list the friendship may do so because they have too many friends to list, or because they don't want to list someone unpopular.\n",
    "\n",
    "### Minimum violation rankings\n",
    "In a perfect pecking order, friendships would only go from lower-ranked nodes to higher-ranked nodes.\n",
    "So to find a pecking order, we look for a _minimum-violation ranking_: an ordering with as few links going from high-status to low-status individuals as possible.\n",
    "Such an ordering may or may not exist.\n",
    "The more violoations in the MVR, the less heirarchical a group is.\n",
    "The example below allows you to test different orderings for the number of violations."
   ]
  },
  {
   "cell_type": "code",
   "execution_count": 137,
   "metadata": {},
   "outputs": [],
   "source": [
    "# Helper functions \n",
    "\n",
    "def scale(x):\n",
    "    return (x - np.mean(x)) / np.std(x)\n",
    "\n",
    "def giant_component(G):\n",
    "    giant_component = sorted(nxalg.weakly_connected_components(G), reverse=True, key=len)[0]\n",
    "    for v in set(G.nodes()) - giant_component:\n",
    "        G.remove_node(v)\n",
    "    return G\n",
    "\n",
    "def get_spring_rank(G):\n",
    "    nodes = list(G.nodes())\n",
    "    A=nx.to_numpy_matrix(G,nodelist=list(nodes))\n",
    "    rank = dict(zip(nodes, scale(SpringRank(A,alpha=0.0,l0=1.0,l1=1.0))))\n",
    "    order = dict((elt[0], i) for i, elt in enumerate(sorted(rank.items(), key=lambda x: x[1], reverse=True)))\n",
    "    return rank, order\n",
    "\n",
    "def get_eigenvector_rank(G):\n",
    "    all_nodes = set(G.nodes())\n",
    "    components = nx.algorithms.components.weakly_connected_components(G)\n",
    "    rank = dict()\n",
    "    for c in components:\n",
    "        H = G.copy()\n",
    "        H.remove_nodes_from(all_nodes - set(c))\n",
    "        component_rank = nx.algorithms.centrality.eigenvector_centrality_numpy(H)\n",
    "        rank.update(component_rank)\n",
    "    nodes, ranks = zip(*list(rank.items()))\n",
    "    ranks = -1 * scale(ranks)\n",
    "    rank = dict(zip(list(nodes), list(ranks)))\n",
    "    order = dict((elt[0], i) for i, elt in enumerate(sorted(rank.items(), key=lambda x: x[1], reverse=True)))\n",
    "    return rank, order\n",
    "\n",
    "def count_violations(G, order):\n",
    "    rank_differences = []\n",
    "    violations = 0\n",
    "    for v, w in G.edges():\n",
    "        difference = order[w] - order[v]\n",
    "        rank_differences.append(difference)\n",
    "        if difference < 0:\n",
    "            violations += 1\n",
    "    return rank_differences, violations\n",
    "    \n",
    "def plot_ordering(G, rank, title=\"Ordering\", scale=150):\n",
    "    nodes = list(G.nodes())\n",
    "    pos = dict((v, (0, r*scale)) for v, r in rank.items())\n",
    "    return visualize_visjs(G, layout=None, pos=pos, scale=scale, title=title, node_alpha=0.5)\n",
    "\n",
    "def mvr_example():\n",
    "    H = nx.DiGraph()\n",
    "    H.add_edges_from([\n",
    "        ('Lemon', 'Cotton'),\n",
    "        ('Mia', 'Cotton'),\n",
    "        ('Mia', 'Lemon'),\n",
    "        ('Mia', 'Bagel'),\n",
    "        ('Bagel', 'Lemon'),\n",
    "        ('Setzer', 'Cotton'),\n",
    "        ('Lemon', 'Setzer')\n",
    "    ])\n",
    "    return H"
   ]
  },
  {
   "cell_type": "markdown",
   "metadata": {},
   "source": [
    "First, visualize the network."
   ]
  },
  {
   "cell_type": "code",
   "execution_count": 138,
   "metadata": {},
   "outputs": [
    {
     "data": {
      "text/html": [
       "<!doctype html><html><head>  <title>Network | Basic usage</title></head><body><script type=\"text/javascript\">function setUpFrame() {     var frame = window.frames[\"style_file0\"];    frame.runVis([{\"id\": \"Lemon\", \"node_size\": 5, \"node_shape\": \"dot\", \"x\": -16.47123508472319, \"y\": 95.87802197543876, \"color\": \"#8BA8D3\", \"border_width\": 0, \"title\": \"Lemon\", \"degree\": 3.0}, {\"id\": \"Cotton\", \"node_size\": 5, \"node_shape\": \"dot\", \"x\": -149.89608963434583, \"y\": -330.9745966533064, \"color\": \"#8BA8D3\", \"border_width\": 0, \"title\": \"Cotton\", \"degree\": 3.0}, {\"id\": \"Mia\", \"node_size\": 5, \"node_shape\": \"dot\", \"x\": 30.102103098073634, \"y\": 13.806815646241489, \"color\": \"#8BA8D3\", \"border_width\": 0, \"title\": \"Mia\", \"degree\": 3.0}, {\"id\": \"Bagel\", \"node_size\": 5, \"node_shape\": \"dot\", \"x\": -191.2391871451602, \"y\": 500.0, \"color\": \"#8BA8D3\", \"border_width\": 0, \"title\": \"Bagel\", \"degree\": 3.0}, {\"id\": \"Setzer\", \"node_size\": 5, \"node_shape\": \"dot\", \"x\": 327.50440876615556, \"y\": -278.7102409683738, \"color\": \"#8BA8D3\", \"border_width\": 0, \"title\": \"Setzer\", \"degree\": 3.0}], [{\"source\": 0, \"target\": 1, \"title\": \"test\", \"color\": \"rgba(192,192,192,0.3)\", \"edge_width_field\": \"value\", \"value\": 5}, {\"source\": 0, \"target\": 4, \"title\": \"test\", \"color\": \"rgba(192,192,192,0.3)\", \"edge_width_field\": \"value\", \"value\": 5}, {\"source\": 2, \"target\": 1, \"title\": \"test\", \"color\": \"rgba(192,192,192,0.3)\", \"edge_width_field\": \"value\", \"value\": 5}, {\"source\": 2, \"target\": 0, \"title\": \"test\", \"color\": \"rgba(192,192,192,0.3)\", \"edge_width_field\": \"value\", \"value\": 5}, {\"source\": 2, \"target\": 3, \"title\": \"test\", \"color\": \"rgba(192,192,192,0.3)\", \"edge_width_field\": \"value\", \"value\": 5}, {\"source\": 3, \"target\": 0, \"title\": \"test\", \"color\": \"rgba(192,192,192,0.3)\", \"edge_width_field\": \"value\", \"value\": 5}, {\"source\": 4, \"target\": 1, \"title\": \"test\", \"color\": \"rgba(192,192,192,0.3)\", \"edge_width_field\": \"value\", \"value\": 5}]);}</script><iframe name=\"style_file0\" src=\"style_file0.html\" width=\"100%;\" height=\"805px\"></iframe></body></html>"
      ],
      "text/plain": [
       "<IPython.core.display.HTML object>"
      ]
     },
     "execution_count": 138,
     "metadata": {},
     "output_type": "execute_result"
    }
   ],
   "source": [
    "H = mvr_example()\n",
    "visualize_visjs(H)"
   ]
  },
  {
   "cell_type": "markdown",
   "metadata": {},
   "source": [
    "Next, let's define an ordering, visualize it, and count the number of violations."
   ]
  },
  {
   "cell_type": "code",
   "execution_count": 144,
   "metadata": {},
   "outputs": [
    {
     "name": "stdout",
     "output_type": "stream",
     "text": [
      "Violations: 5\n"
     ]
    },
    {
     "data": {
      "text/html": [
       "<!doctype html><html><head>  <title>Network | Basic usage</title></head><body><script type=\"text/javascript\">function setUpFrame() {     var frame = window.frames[\"style_file7461214618143701561\"];    frame.runVis([{\"id\": \"Lemon\", \"node_size\": 5, \"node_shape\": \"dot\", \"x\": 0, \"y\": 300, \"color\": \"#8BA8D3\", \"border_width\": 0, \"title\": \"Lemon\", \"degree\": 3.0}, {\"id\": \"Cotton\", \"node_size\": 5, \"node_shape\": \"dot\", \"x\": 0, \"y\": 150, \"color\": \"#8BA8D3\", \"border_width\": 0, \"title\": \"Cotton\", \"degree\": 3.0}, {\"id\": \"Mia\", \"node_size\": 5, \"node_shape\": \"dot\", \"x\": 0, \"y\": 450, \"color\": \"#8BA8D3\", \"border_width\": 0, \"title\": \"Mia\", \"degree\": 3.0}, {\"id\": \"Bagel\", \"node_size\": 5, \"node_shape\": \"dot\", \"x\": 0, \"y\": 0, \"color\": \"#8BA8D3\", \"border_width\": 0, \"title\": \"Bagel\", \"degree\": 3.0}, {\"id\": \"Setzer\", \"node_size\": 5, \"node_shape\": \"dot\", \"x\": 0, \"y\": 600, \"color\": \"#8BA8D3\", \"border_width\": 0, \"title\": \"Setzer\", \"degree\": 3.0}], [{\"source\": 0, \"target\": 1, \"title\": \"test\", \"color\": \"rgba(192,192,192,0.3)\", \"edge_width_field\": \"value\", \"value\": 3}, {\"source\": 0, \"target\": 4, \"title\": \"test\", \"color\": \"rgba(192,192,192,0.3)\", \"edge_width_field\": \"value\", \"value\": 3}, {\"source\": 2, \"target\": 1, \"title\": \"test\", \"color\": \"rgba(192,192,192,0.3)\", \"edge_width_field\": \"value\", \"value\": 3}, {\"source\": 2, \"target\": 0, \"title\": \"test\", \"color\": \"rgba(192,192,192,0.3)\", \"edge_width_field\": \"value\", \"value\": 3}, {\"source\": 2, \"target\": 3, \"title\": \"test\", \"color\": \"rgba(192,192,192,0.3)\", \"edge_width_field\": \"value\", \"value\": 3}, {\"source\": 3, \"target\": 0, \"title\": \"test\", \"color\": \"rgba(192,192,192,0.3)\", \"edge_width_field\": \"value\", \"value\": 3}, {\"source\": 4, \"target\": 1, \"title\": \"test\", \"color\": \"rgba(192,192,192,0.3)\", \"edge_width_field\": \"value\", \"value\": 3}]);}</script><iframe name=\"style_file7461214618143701561\" src=\"style_file7461214618143701561.html\" width=\"100%;\" height=\"805px\"></iframe></body></html>"
      ],
      "text/plain": [
       "<IPython.core.display.HTML object>"
      ]
     },
     "execution_count": 144,
     "metadata": {},
     "output_type": "execute_result"
    }
   ],
   "source": [
    "# To re-order the nodes, change these numbers\n",
    "mvr_order = {\n",
    "    \"Bagel\":  0,\n",
    "    \"Cotton\": 1,\n",
    "    \"Lemon\":  2,\n",
    "    \"Mia\":    3,\n",
    "    \"Setzer\": 4\n",
    "}\n",
    "# Count the violations and visualize\n",
    "rank_differences, violations = count_violations(H, mvr_order)\n",
    "print(\"Violations:\", violations)\n",
    "plot_ordering(H, mvr_order, title=\"MVR Example\")"
   ]
  },
  {
   "cell_type": "markdown",
   "metadata": {},
   "source": [
    "Which edges count as violations? There is an ordering for this network with 0 violations, can you find it? Try re-running the above cell after changing the rank numbers for each node."
   ]
  },
  {
   "cell_type": "markdown",
   "metadata": {},
   "source": [
    "## Teenage Friendship and Lifestyle Study\n",
    "### Load and visualize the social network\n",
    "Now we'll load and visualize friendship data from a real social network. The [MA1997] study determined friendships by asking participants to name their top friends. This method has in interesting feature: it is possible for a participant to list someone as a friend who does not list the participant as a friend. The friendship ties are _directed_. In the visualization, arrows go from the participant to the individuals they named as friends. Reciprocated friendships have arrows on both ends."
   ]
  },
  {
   "cell_type": "code",
   "execution_count": 145,
   "metadata": {},
   "outputs": [
    {
     "data": {
      "text/html": [
       "<!doctype html><html><head>  <title>Network | Basic usage</title></head><body><script type=\"text/javascript\">function setUpFrame() {     var frame = window.frames[\"style_file2823180268241402349\"];    frame.runVis([{\"id\": \"0\", \"node_size\": 5, \"node_shape\": \"dot\", \"x\": -935.3080489358603, \"y\": -256.7270370424428, \"color\": \"#8BA8D3\", \"border_width\": 0, \"title\": \"0\", \"degree\": 3.0}, {\"id\": \"10\", \"node_size\": 5, \"node_shape\": \"dot\", \"x\": -641.0014458356031, \"y\": -384.317533954661, \"color\": \"#8BA8D3\", \"border_width\": 0, \"title\": \"10\", \"degree\": 3.0}, {\"id\": \"13\", \"node_size\": 5, \"node_shape\": \"dot\", \"x\": -859.9515438372076, \"y\": -485.0605204926889, \"color\": \"#8BA8D3\", \"border_width\": 0, \"title\": \"13\", \"degree\": 3.0}, {\"id\": \"1\", \"node_size\": 5, \"node_shape\": \"dot\", \"x\": -268.8670213966355, \"y\": 21.104670239289796, \"color\": \"#8BA8D3\", \"border_width\": 0, \"title\": \"1\", \"degree\": 3.0}, {\"id\": \"6\", \"node_size\": 5, \"node_shape\": \"dot\", \"x\": 189.5725778827192, \"y\": 423.60783232793256, \"color\": \"#8BA8D3\", \"border_width\": 0, \"title\": \"6\", \"degree\": 3.0}, {\"id\": \"2\", \"node_size\": 5, \"node_shape\": \"dot\", \"x\": 770.7038907286143, \"y\": 170.605513798317, \"color\": \"#8BA8D3\", \"border_width\": 0, \"title\": \"2\", \"degree\": 3.0}, {\"id\": \"3\", \"node_size\": 5, \"node_shape\": \"dot\", \"x\": 506.67514253257013, \"y\": 305.94900320476916, \"color\": \"#8BA8D3\", \"border_width\": 0, \"title\": \"3\", \"degree\": 3.0}, {\"id\": \"8\", \"node_size\": 5, \"node_shape\": \"dot\", \"x\": 487.86536849967047, \"y\": 174.40966505105882, \"color\": \"#8BA8D3\", \"border_width\": 0, \"title\": \"8\", \"degree\": 3.0}, {\"id\": \"4\", \"node_size\": 5, \"node_shape\": \"dot\", \"x\": 389.5382575165908, \"y\": 903.7474062457139, \"color\": \"#8BA8D3\", \"border_width\": 0, \"title\": \"4\", \"degree\": 3.0}, {\"id\": \"31\", \"node_size\": 5, \"node_shape\": \"dot\", \"x\": 366.0060407746403, \"y\": 480.36512590481664, \"color\": \"#8BA8D3\", \"border_width\": 0, \"title\": \"31\", \"degree\": 3.0}, {\"id\": \"5\", \"node_size\": 5, \"node_shape\": \"dot\", \"x\": 510.1484570705143, \"y\": 644.0725934546906, \"color\": \"#8BA8D3\", \"border_width\": 0, \"title\": \"5\", \"degree\": 3.0}, {\"id\": \"7\", \"node_size\": 5, \"node_shape\": \"dot\", \"x\": 763.5682112293771, \"y\": 411.43422003647294, \"color\": \"#8BA8D3\", \"border_width\": 0, \"title\": \"7\", \"degree\": 3.0}, {\"id\": \"41\", \"node_size\": 5, \"node_shape\": \"dot\", \"x\": 519.1670188193568, \"y\": 713.794308238061, \"color\": \"#8BA8D3\", \"border_width\": 0, \"title\": \"41\", \"degree\": 3.0}, {\"id\": \"43\", \"node_size\": 5, \"node_shape\": \"dot\", \"x\": 548.1093386864699, \"y\": 598.6221344589455, \"color\": \"#8BA8D3\", \"border_width\": 0, \"title\": \"43\", \"degree\": 3.0}, {\"id\": \"9\", \"node_size\": 5, \"node_shape\": \"dot\", \"x\": -595.0033432290641, \"y\": -670.4198015903709, \"color\": \"#8BA8D3\", \"border_width\": 0, \"title\": \"9\", \"degree\": 3.0}, {\"id\": \"14\", \"node_size\": 5, \"node_shape\": \"dot\", \"x\": -757.1475139087535, \"y\": -694.6601422789832, \"color\": \"#8BA8D3\", \"border_width\": 0, \"title\": \"14\", \"degree\": 3.0}, {\"id\": \"32\", \"node_size\": 5, \"node_shape\": \"dot\", \"x\": -351.41382045004315, \"y\": -531.3631515702834, \"color\": \"#8BA8D3\", \"border_width\": 0, \"title\": \"32\", \"degree\": 3.0}, {\"id\": \"15\", \"node_size\": 5, \"node_shape\": \"dot\", \"x\": -926.2726692688022, \"y\": -584.0900279456215, \"color\": \"#8BA8D3\", \"border_width\": 0, \"title\": \"15\", \"degree\": 3.0}, {\"id\": \"11\", \"node_size\": 5, \"node_shape\": \"dot\", \"x\": 311.11553915937424, \"y\": 618.0878406919883, \"color\": \"#8BA8D3\", \"border_width\": 0, \"title\": \"11\", \"degree\": 3.0}, {\"id\": \"16\", \"node_size\": 5, \"node_shape\": \"dot\", \"x\": 256.56161805829, \"y\": 168.67810374728876, \"color\": \"#8BA8D3\", \"border_width\": 0, \"title\": \"16\", \"degree\": 3.0}, {\"id\": \"17\", \"node_size\": 5, \"node_shape\": \"dot\", \"x\": -158.46288813223316, \"y\": 211.17221486217196, \"color\": \"#8BA8D3\", \"border_width\": 0, \"title\": \"17\", \"degree\": 3.0}, {\"id\": \"18\", \"node_size\": 5, \"node_shape\": \"dot\", \"x\": -53.596651257954115, \"y\": -154.12344756546764, \"color\": \"#8BA8D3\", \"border_width\": 0, \"title\": \"18\", \"degree\": 3.0}, {\"id\": \"20\", \"node_size\": 5, \"node_shape\": \"dot\", \"x\": 754.3041639587329, \"y\": 475.98932878188384, \"color\": \"#8BA8D3\", \"border_width\": 0, \"title\": \"20\", \"degree\": 3.0}, {\"id\": \"21\", \"node_size\": 5, \"node_shape\": \"dot\", \"x\": 412.74150309700036, \"y\": 241.44574918854877, \"color\": \"#8BA8D3\", \"border_width\": 0, \"title\": \"21\", \"degree\": 3.0}, {\"id\": \"23\", \"node_size\": 5, \"node_shape\": \"dot\", \"x\": 372.8108282519266, \"y\": -9.128825687120823, \"color\": \"#8BA8D3\", \"border_width\": 0, \"title\": \"23\", \"degree\": 3.0}, {\"id\": \"34\", \"node_size\": 5, \"node_shape\": \"dot\", \"x\": -329.9700981134194, \"y\": 525.1914013678526, \"color\": \"#8BA8D3\", \"border_width\": 0, \"title\": \"34\", \"degree\": 3.0}, {\"id\": \"25\", \"node_size\": 5, \"node_shape\": \"dot\", \"x\": 359.69607670681864, \"y\": 107.10408080860208, \"color\": \"#8BA8D3\", \"border_width\": 0, \"title\": \"25\", \"degree\": 3.0}, {\"id\": \"29\", \"node_size\": 5, \"node_shape\": \"dot\", \"x\": -154.4116500564497, \"y\": -262.0777666379154, \"color\": \"#8BA8D3\", \"border_width\": 0, \"title\": \"29\", \"degree\": 3.0}, {\"id\": \"30\", \"node_size\": 5, \"node_shape\": \"dot\", \"x\": 187.232936652837, \"y\": 286.16957764559356, \"color\": \"#8BA8D3\", \"border_width\": 0, \"title\": \"30\", \"degree\": 3.0}, {\"id\": \"33\", \"node_size\": 5, \"node_shape\": \"dot\", \"x\": 485.3276152190092, \"y\": -10.361234750406775, \"color\": \"#8BA8D3\", \"border_width\": 0, \"title\": \"33\", \"degree\": 3.0}, {\"id\": \"22\", \"node_size\": 5, \"node_shape\": \"dot\", \"x\": 233.90414589545193, \"y\": -437.5359704276166, \"color\": \"#8BA8D3\", \"border_width\": 0, \"title\": \"22\", \"degree\": 3.0}, {\"id\": \"24\", \"node_size\": 5, \"node_shape\": \"dot\", \"x\": 89.8318100887208, \"y\": 393.38041747591785, \"color\": \"#8BA8D3\", \"border_width\": 0, \"title\": \"24\", \"degree\": 3.0}, {\"id\": \"28\", \"node_size\": 5, \"node_shape\": \"dot\", \"x\": 26.636772927141966, \"y\": -284.99311372489126, \"color\": \"#8BA8D3\", \"border_width\": 0, \"title\": \"28\", \"degree\": 3.0}, {\"id\": \"26\", \"node_size\": 5, \"node_shape\": \"dot\", \"x\": -64.57883194450311, \"y\": -627.8236928295751, \"color\": \"#8BA8D3\", \"border_width\": 0, \"title\": \"26\", \"degree\": 3.0}, {\"id\": \"27\", \"node_size\": 5, \"node_shape\": \"dot\", \"x\": -77.13778942301926, \"y\": -1000.0, \"color\": \"#8BA8D3\", \"border_width\": 0, \"title\": \"27\", \"degree\": 3.0}, {\"id\": \"36\", \"node_size\": 5, \"node_shape\": \"dot\", \"x\": 515.960281710754, \"y\": 159.59609545762666, \"color\": \"#8BA8D3\", \"border_width\": 0, \"title\": \"36\", \"degree\": 3.0}, {\"id\": \"35\", \"node_size\": 5, \"node_shape\": \"dot\", \"x\": 363.82373373817495, \"y\": -771.3397079368067, \"color\": \"#8BA8D3\", \"border_width\": 0, \"title\": \"35\", \"degree\": 3.0}, {\"id\": \"37\", \"node_size\": 5, \"node_shape\": \"dot\", \"x\": 480.71886768256684, \"y\": -889.6471890150145, \"color\": \"#8BA8D3\", \"border_width\": 0, \"title\": \"37\", \"degree\": 3.0}, {\"id\": \"40\", \"node_size\": 5, \"node_shape\": \"dot\", \"x\": 345.24340582741263, \"y\": -967.4455905192195, \"color\": \"#8BA8D3\", \"border_width\": 0, \"title\": \"40\", \"degree\": 3.0}, {\"id\": \"38\", \"node_size\": 5, \"node_shape\": \"dot\", \"x\": -621.6620487770313, \"y\": 315.06237848293404, \"color\": \"#8BA8D3\", \"border_width\": 0, \"title\": \"38\", \"degree\": 3.0}, {\"id\": \"42\", \"node_size\": 5, \"node_shape\": \"dot\", \"x\": -196.8991151810717, \"y\": 247.87361368496676, \"color\": \"#8BA8D3\", \"border_width\": 0, \"title\": \"42\", \"degree\": 3.0}, {\"id\": \"39\", \"node_size\": 5, \"node_shape\": \"dot\", \"x\": -612.7548132923357, \"y\": -184.6930177619762, \"color\": \"#8BA8D3\", \"border_width\": 0, \"title\": \"39\", \"degree\": 3.0}, {\"id\": \"44\", \"node_size\": 5, \"node_shape\": \"dot\", \"x\": -720.6096296978831, \"y\": -187.51225176714127, \"color\": \"#8BA8D3\", \"border_width\": 0, \"title\": \"44\", \"degree\": 3.0}, {\"id\": \"45\", \"node_size\": 5, \"node_shape\": \"dot\", \"x\": -394.4394261762327, \"y\": 207.76029121121417, \"color\": \"#8BA8D3\", \"border_width\": 0, \"title\": \"45\", \"degree\": 3.0}, {\"id\": \"46\", \"node_size\": 5, \"node_shape\": \"dot\", \"x\": -836.4045728162528, \"y\": -663.3016390356963, \"color\": \"#8BA8D3\", \"border_width\": 0, \"title\": \"46\", \"degree\": 3.0}, {\"id\": \"48\", \"node_size\": 5, \"node_shape\": \"dot\", \"x\": -240.0773507098706, \"y\": 641.7594638859536, \"color\": \"#8BA8D3\", \"border_width\": 0, \"title\": \"48\", \"degree\": 3.0}, {\"id\": \"47\", \"node_size\": 5, \"node_shape\": \"dot\", \"x\": -451.2933302745129, \"y\": 609.6386322812904, \"color\": \"#8BA8D3\", \"border_width\": 0, \"title\": \"47\", \"degree\": 3.0}], [{\"source\": 0, \"target\": 1, \"title\": \"test\", \"color\": \"rgba(192,192,192,0.3)\", \"edge_width_field\": \"value\", \"value\": 10.0}, {\"source\": 0, \"target\": 2, \"title\": \"test\", \"color\": \"rgba(192,192,192,0.3)\", \"edge_width_field\": \"value\", \"value\": 10.0}, {\"source\": 1, \"target\": 3, \"title\": \"test\", \"color\": \"rgba(192,192,192,0.3)\", \"edge_width_field\": \"value\", \"value\": 10.0}, {\"source\": 1, \"target\": 15, \"title\": \"test\", \"color\": \"rgba(192,192,192,0.3)\", \"edge_width_field\": \"value\", \"value\": 10.0}, {\"source\": 1, \"target\": 17, \"title\": \"test\", \"color\": \"rgba(192,192,192,0.3)\", \"edge_width_field\": \"value\", \"value\": 10.0}, {\"source\": 2, \"target\": 0, \"title\": \"test\", \"color\": \"rgba(192,192,192,0.3)\", \"edge_width_field\": \"value\", \"value\": 10.0}, {\"source\": 2, \"target\": 14, \"title\": \"test\", \"color\": \"rgba(192,192,192,0.3)\", \"edge_width_field\": \"value\", \"value\": 10.0}, {\"source\": 2, \"target\": 1, \"title\": \"test\", \"color\": \"rgba(192,192,192,0.3)\", \"edge_width_field\": \"value\", \"value\": 10.0}, {\"source\": 3, \"target\": 4, \"title\": \"test\", \"color\": \"rgba(192,192,192,0.3)\", \"edge_width_field\": \"value\", \"value\": 10.0}, {\"source\": 3, \"target\": 1, \"title\": \"test\", \"color\": \"rgba(192,192,192,0.3)\", \"edge_width_field\": \"value\", \"value\": 10.0}, {\"source\": 4, \"target\": 3, \"title\": \"test\", \"color\": \"rgba(192,192,192,0.3)\", \"edge_width_field\": \"value\", \"value\": 10.0}, {\"source\": 4, \"target\": 12, \"title\": \"test\", \"color\": \"rgba(192,192,192,0.3)\", \"edge_width_field\": \"value\", \"value\": 10.0}, {\"source\": 4, \"target\": 13, \"title\": \"test\", \"color\": \"rgba(192,192,192,0.3)\", \"edge_width_field\": \"value\", \"value\": 10.0}, {\"source\": 5, \"target\": 6, \"title\": \"test\", \"color\": \"rgba(192,192,192,0.3)\", \"edge_width_field\": \"value\", \"value\": 10.0}, {\"source\": 5, \"target\": 7, \"title\": \"test\", \"color\": \"rgba(192,192,192,0.3)\", \"edge_width_field\": \"value\", \"value\": 10.0}, {\"source\": 6, \"target\": 5, \"title\": \"test\", \"color\": \"rgba(192,192,192,0.3)\", \"edge_width_field\": \"value\", \"value\": 10.0}, {\"source\": 6, \"target\": 7, \"title\": \"test\", \"color\": \"rgba(192,192,192,0.3)\", \"edge_width_field\": \"value\", \"value\": 10.0}, {\"source\": 7, \"target\": 5, \"title\": \"test\", \"color\": \"rgba(192,192,192,0.3)\", \"edge_width_field\": \"value\", \"value\": 10.0}, {\"source\": 7, \"target\": 6, \"title\": \"test\", \"color\": \"rgba(192,192,192,0.3)\", \"edge_width_field\": \"value\", \"value\": 10.0}, {\"source\": 8, \"target\": 9, \"title\": \"test\", \"color\": \"rgba(192,192,192,0.3)\", \"edge_width_field\": \"value\", \"value\": 10.0}, {\"source\": 9, \"target\": 8, \"title\": \"test\", \"color\": \"rgba(192,192,192,0.3)\", \"edge_width_field\": \"value\", \"value\": 10.0}, {\"source\": 9, \"target\": 22, \"title\": \"test\", \"color\": \"rgba(192,192,192,0.3)\", \"edge_width_field\": \"value\", \"value\": 10.0}, {\"source\": 9, \"target\": 28, \"title\": \"test\", \"color\": \"rgba(192,192,192,0.3)\", \"edge_width_field\": \"value\", \"value\": 10.0}, {\"source\": 9, \"target\": 35, \"title\": \"test\", \"color\": \"rgba(192,192,192,0.3)\", \"edge_width_field\": \"value\", \"value\": 10.0}, {\"source\": 10, \"target\": 11, \"title\": \"test\", \"color\": \"rgba(192,192,192,0.3)\", \"edge_width_field\": \"value\", \"value\": 10.0}, {\"source\": 11, \"target\": 10, \"title\": \"test\", \"color\": \"rgba(192,192,192,0.3)\", \"edge_width_field\": \"value\", \"value\": 10.0}, {\"source\": 12, \"target\": 4, \"title\": \"test\", \"color\": \"rgba(192,192,192,0.3)\", \"edge_width_field\": \"value\", \"value\": 10.0}, {\"source\": 12, \"target\": 13, \"title\": \"test\", \"color\": \"rgba(192,192,192,0.3)\", \"edge_width_field\": \"value\", \"value\": 10.0}, {\"source\": 13, \"target\": 4, \"title\": \"test\", \"color\": \"rgba(192,192,192,0.3)\", \"edge_width_field\": \"value\", \"value\": 10.0}, {\"source\": 13, \"target\": 12, \"title\": \"test\", \"color\": \"rgba(192,192,192,0.3)\", \"edge_width_field\": \"value\", \"value\": 10.0}, {\"source\": 14, \"target\": 1, \"title\": \"test\", \"color\": \"rgba(192,192,192,0.3)\", \"edge_width_field\": \"value\", \"value\": 10.0}, {\"source\": 14, \"target\": 15, \"title\": \"test\", \"color\": \"rgba(192,192,192,0.3)\", \"edge_width_field\": \"value\", \"value\": 10.0}, {\"source\": 14, \"target\": 16, \"title\": \"test\", \"color\": \"rgba(192,192,192,0.3)\", \"edge_width_field\": \"value\", \"value\": 10.0}, {\"source\": 15, \"target\": 14, \"title\": \"test\", \"color\": \"rgba(192,192,192,0.3)\", \"edge_width_field\": \"value\", \"value\": 10.0}, {\"source\": 15, \"target\": 1, \"title\": \"test\", \"color\": \"rgba(192,192,192,0.3)\", \"edge_width_field\": \"value\", \"value\": 10.0}, {\"source\": 15, \"target\": 17, \"title\": \"test\", \"color\": \"rgba(192,192,192,0.3)\", \"edge_width_field\": \"value\", \"value\": 10.0}, {\"source\": 16, \"target\": 14, \"title\": \"test\", \"color\": \"rgba(192,192,192,0.3)\", \"edge_width_field\": \"value\", \"value\": 10.0}, {\"source\": 16, \"target\": 27, \"title\": \"test\", \"color\": \"rgba(192,192,192,0.3)\", \"edge_width_field\": \"value\", \"value\": 10.0}, {\"source\": 17, \"target\": 1, \"title\": \"test\", \"color\": \"rgba(192,192,192,0.3)\", \"edge_width_field\": \"value\", \"value\": 10.0}, {\"source\": 17, \"target\": 15, \"title\": \"test\", \"color\": \"rgba(192,192,192,0.3)\", \"edge_width_field\": \"value\", \"value\": 10.0}, {\"source\": 18, \"target\": 4, \"title\": \"test\", \"color\": \"rgba(192,192,192,0.3)\", \"edge_width_field\": \"value\", \"value\": 10.0}, {\"source\": 18, \"target\": 12, \"title\": \"test\", \"color\": \"rgba(192,192,192,0.3)\", \"edge_width_field\": \"value\", \"value\": 10.0}, {\"source\": 18, \"target\": 13, \"title\": \"test\", \"color\": \"rgba(192,192,192,0.3)\", \"edge_width_field\": \"value\", \"value\": 10.0}, {\"source\": 19, \"target\": 20, \"title\": \"test\", \"color\": \"rgba(192,192,192,0.3)\", \"edge_width_field\": \"value\", \"value\": 10.0}, {\"source\": 19, \"target\": 21, \"title\": \"test\", \"color\": \"rgba(192,192,192,0.3)\", \"edge_width_field\": \"value\", \"value\": 10.0}, {\"source\": 19, \"target\": 22, \"title\": \"test\", \"color\": \"rgba(192,192,192,0.3)\", \"edge_width_field\": \"value\", \"value\": 10.0}, {\"source\": 19, \"target\": 23, \"title\": \"test\", \"color\": \"rgba(192,192,192,0.3)\", \"edge_width_field\": \"value\", \"value\": 10.0}, {\"source\": 19, \"target\": 24, \"title\": \"test\", \"color\": \"rgba(192,192,192,0.3)\", \"edge_width_field\": \"value\", \"value\": 10.0}, {\"source\": 20, \"target\": 21, \"title\": \"test\", \"color\": \"rgba(192,192,192,0.3)\", \"edge_width_field\": \"value\", \"value\": 10.0}, {\"source\": 20, \"target\": 25, \"title\": \"test\", \"color\": \"rgba(192,192,192,0.3)\", \"edge_width_field\": \"value\", \"value\": 10.0}, {\"source\": 21, \"target\": 1, \"title\": \"test\", \"color\": \"rgba(192,192,192,0.3)\", \"edge_width_field\": \"value\", \"value\": 10.0}, {\"source\": 21, \"target\": 24, \"title\": \"test\", \"color\": \"rgba(192,192,192,0.3)\", \"edge_width_field\": \"value\", \"value\": 10.0}, {\"source\": 21, \"target\": 26, \"title\": \"test\", \"color\": \"rgba(192,192,192,0.3)\", \"edge_width_field\": \"value\", \"value\": 10.0}, {\"source\": 21, \"target\": 27, \"title\": \"test\", \"color\": \"rgba(192,192,192,0.3)\", \"edge_width_field\": \"value\", \"value\": 10.0}, {\"source\": 22, \"target\": 23, \"title\": \"test\", \"color\": \"rgba(192,192,192,0.3)\", \"edge_width_field\": \"value\", \"value\": 10.0}, {\"source\": 23, \"target\": 19, \"title\": \"test\", \"color\": \"rgba(192,192,192,0.3)\", \"edge_width_field\": \"value\", \"value\": 10.0}, {\"source\": 23, \"target\": 22, \"title\": \"test\", \"color\": \"rgba(192,192,192,0.3)\", \"edge_width_field\": \"value\", \"value\": 10.0}, {\"source\": 23, \"target\": 28, \"title\": \"test\", \"color\": \"rgba(192,192,192,0.3)\", \"edge_width_field\": \"value\", \"value\": 10.0}, {\"source\": 23, \"target\": 29, \"title\": \"test\", \"color\": \"rgba(192,192,192,0.3)\", \"edge_width_field\": \"value\", \"value\": 10.0}, {\"source\": 24, \"target\": 19, \"title\": \"test\", \"color\": \"rgba(192,192,192,0.3)\", \"edge_width_field\": \"value\", \"value\": 10.0}, {\"source\": 24, \"target\": 21, \"title\": \"test\", \"color\": \"rgba(192,192,192,0.3)\", \"edge_width_field\": \"value\", \"value\": 10.0}, {\"source\": 24, \"target\": 22, \"title\": \"test\", \"color\": \"rgba(192,192,192,0.3)\", \"edge_width_field\": \"value\", \"value\": 10.0}, {\"source\": 24, \"target\": 23, \"title\": \"test\", \"color\": \"rgba(192,192,192,0.3)\", \"edge_width_field\": \"value\", \"value\": 10.0}, {\"source\": 24, \"target\": 30, \"title\": \"test\", \"color\": \"rgba(192,192,192,0.3)\", \"edge_width_field\": \"value\", \"value\": 10.0}, {\"source\": 25, \"target\": 20, \"title\": \"test\", \"color\": \"rgba(192,192,192,0.3)\", \"edge_width_field\": \"value\", \"value\": 10.0}, {\"source\": 26, \"target\": 4, \"title\": \"test\", \"color\": \"rgba(192,192,192,0.3)\", \"edge_width_field\": \"value\", \"value\": 10.0}, {\"source\": 26, \"target\": 32, \"title\": \"test\", \"color\": \"rgba(192,192,192,0.3)\", \"edge_width_field\": \"value\", \"value\": 10.0}, {\"source\": 26, \"target\": 13, \"title\": \"test\", \"color\": \"rgba(192,192,192,0.3)\", \"edge_width_field\": \"value\", \"value\": 10.0}, {\"source\": 27, \"target\": 1, \"title\": \"test\", \"color\": \"rgba(192,192,192,0.3)\", \"edge_width_field\": \"value\", \"value\": 10.0}, {\"source\": 27, \"target\": 26, \"title\": \"test\", \"color\": \"rgba(192,192,192,0.3)\", \"edge_width_field\": \"value\", \"value\": 10.0}, {\"source\": 27, \"target\": 32, \"title\": \"test\", \"color\": \"rgba(192,192,192,0.3)\", \"edge_width_field\": \"value\", \"value\": 10.0}, {\"source\": 27, \"target\": 16, \"title\": \"test\", \"color\": \"rgba(192,192,192,0.3)\", \"edge_width_field\": \"value\", \"value\": 10.0}, {\"source\": 28, \"target\": 22, \"title\": \"test\", \"color\": \"rgba(192,192,192,0.3)\", \"edge_width_field\": \"value\", \"value\": 10.0}, {\"source\": 28, \"target\": 31, \"title\": \"test\", \"color\": \"rgba(192,192,192,0.3)\", \"edge_width_field\": \"value\", \"value\": 10.0}, {\"source\": 28, \"target\": 9, \"title\": \"test\", \"color\": \"rgba(192,192,192,0.3)\", \"edge_width_field\": \"value\", \"value\": 10.0}, {\"source\": 29, \"target\": 28, \"title\": \"test\", \"color\": \"rgba(192,192,192,0.3)\", \"edge_width_field\": \"value\", \"value\": 10.0}, {\"source\": 29, \"target\": 35, \"title\": \"test\", \"color\": \"rgba(192,192,192,0.3)\", \"edge_width_field\": \"value\", \"value\": 10.0}, {\"source\": 30, \"target\": 24, \"title\": \"test\", \"color\": \"rgba(192,192,192,0.3)\", \"edge_width_field\": \"value\", \"value\": 10.0}, {\"source\": 31, \"target\": 23, \"title\": \"test\", \"color\": \"rgba(192,192,192,0.3)\", \"edge_width_field\": \"value\", \"value\": 10.0}, {\"source\": 31, \"target\": 28, \"title\": \"test\", \"color\": \"rgba(192,192,192,0.3)\", \"edge_width_field\": \"value\", \"value\": 10.0}, {\"source\": 31, \"target\": 9, \"title\": \"test\", \"color\": \"rgba(192,192,192,0.3)\", \"edge_width_field\": \"value\", \"value\": 10.0}, {\"source\": 32, \"target\": 26, \"title\": \"test\", \"color\": \"rgba(192,192,192,0.3)\", \"edge_width_field\": \"value\", \"value\": 10.0}, {\"source\": 32, \"target\": 27, \"title\": \"test\", \"color\": \"rgba(192,192,192,0.3)\", \"edge_width_field\": \"value\", \"value\": 10.0}, {\"source\": 32, \"target\": 16, \"title\": \"test\", \"color\": \"rgba(192,192,192,0.3)\", \"edge_width_field\": \"value\", \"value\": 10.0}, {\"source\": 33, \"target\": 34, \"title\": \"test\", \"color\": \"rgba(192,192,192,0.3)\", \"edge_width_field\": \"value\", \"value\": 10.0}, {\"source\": 33, \"target\": 32, \"title\": \"test\", \"color\": \"rgba(192,192,192,0.3)\", \"edge_width_field\": \"value\", \"value\": 10.0}, {\"source\": 33, \"target\": 27, \"title\": \"test\", \"color\": \"rgba(192,192,192,0.3)\", \"edge_width_field\": \"value\", \"value\": 10.0}, {\"source\": 34, \"target\": 33, \"title\": \"test\", \"color\": \"rgba(192,192,192,0.3)\", \"edge_width_field\": \"value\", \"value\": 10.0}, {\"source\": 35, \"target\": 28, \"title\": \"test\", \"color\": \"rgba(192,192,192,0.3)\", \"edge_width_field\": \"value\", \"value\": 10.0}, {\"source\": 35, \"target\": 9, \"title\": \"test\", \"color\": \"rgba(192,192,192,0.3)\", \"edge_width_field\": \"value\", \"value\": 10.0}, {\"source\": 35, \"target\": 29, \"title\": \"test\", \"color\": \"rgba(192,192,192,0.3)\", \"edge_width_field\": \"value\", \"value\": 10.0}, {\"source\": 36, \"target\": 37, \"title\": \"test\", \"color\": \"rgba(192,192,192,0.3)\", \"edge_width_field\": \"value\", \"value\": 10.0}, {\"source\": 36, \"target\": 38, \"title\": \"test\", \"color\": \"rgba(192,192,192,0.3)\", \"edge_width_field\": \"value\", \"value\": 10.0}, {\"source\": 37, \"target\": 36, \"title\": \"test\", \"color\": \"rgba(192,192,192,0.3)\", \"edge_width_field\": \"value\", \"value\": 10.0}, {\"source\": 37, \"target\": 38, \"title\": \"test\", \"color\": \"rgba(192,192,192,0.3)\", \"edge_width_field\": \"value\", \"value\": 10.0}, {\"source\": 38, \"target\": 36, \"title\": \"test\", \"color\": \"rgba(192,192,192,0.3)\", \"edge_width_field\": \"value\", \"value\": 10.0}, {\"source\": 38, \"target\": 37, \"title\": \"test\", \"color\": \"rgba(192,192,192,0.3)\", \"edge_width_field\": \"value\", \"value\": 10.0}, {\"source\": 39, \"target\": 40, \"title\": \"test\", \"color\": \"rgba(192,192,192,0.3)\", \"edge_width_field\": \"value\", \"value\": 10.0}, {\"source\": 40, \"target\": 23, \"title\": \"test\", \"color\": \"rgba(192,192,192,0.3)\", \"edge_width_field\": \"value\", \"value\": 10.0}, {\"source\": 40, \"target\": 39, \"title\": \"test\", \"color\": \"rgba(192,192,192,0.3)\", \"edge_width_field\": \"value\", \"value\": 10.0}, {\"source\": 41, \"target\": 42, \"title\": \"test\", \"color\": \"rgba(192,192,192,0.3)\", \"edge_width_field\": \"value\", \"value\": 10.0}, {\"source\": 41, \"target\": 43, \"title\": \"test\", \"color\": \"rgba(192,192,192,0.3)\", \"edge_width_field\": \"value\", \"value\": 10.0}, {\"source\": 41, \"target\": 44, \"title\": \"test\", \"color\": \"rgba(192,192,192,0.3)\", \"edge_width_field\": \"value\", \"value\": 10.0}, {\"source\": 42, \"target\": 41, \"title\": \"test\", \"color\": \"rgba(192,192,192,0.3)\", \"edge_width_field\": \"value\", \"value\": 10.0}, {\"source\": 42, \"target\": 43, \"title\": \"test\", \"color\": \"rgba(192,192,192,0.3)\", \"edge_width_field\": \"value\", \"value\": 10.0}, {\"source\": 42, \"target\": 44, \"title\": \"test\", \"color\": \"rgba(192,192,192,0.3)\", \"edge_width_field\": \"value\", \"value\": 10.0}, {\"source\": 43, \"target\": 41, \"title\": \"test\", \"color\": \"rgba(192,192,192,0.3)\", \"edge_width_field\": \"value\", \"value\": 10.0}, {\"source\": 43, \"target\": 42, \"title\": \"test\", \"color\": \"rgba(192,192,192,0.3)\", \"edge_width_field\": \"value\", \"value\": 10.0}, {\"source\": 43, \"target\": 45, \"title\": \"test\", \"color\": \"rgba(192,192,192,0.3)\", \"edge_width_field\": \"value\", \"value\": 10.0}, {\"source\": 45, \"target\": 43, \"title\": \"test\", \"color\": \"rgba(192,192,192,0.3)\", \"edge_width_field\": \"value\", \"value\": 10.0}, {\"source\": 45, \"target\": 46, \"title\": \"test\", \"color\": \"rgba(192,192,192,0.3)\", \"edge_width_field\": \"value\", \"value\": 10.0}, {\"source\": 46, \"target\": 43, \"title\": \"test\", \"color\": \"rgba(192,192,192,0.3)\", \"edge_width_field\": \"value\", \"value\": 10.0}, {\"source\": 46, \"target\": 45, \"title\": \"test\", \"color\": \"rgba(192,192,192,0.3)\", \"edge_width_field\": \"value\", \"value\": 10.0}]);}</script><iframe name=\"style_file2823180268241402349\" src=\"style_file2823180268241402349.html\" width=\"100%;\" height=\"805px\"></iframe></body></html>"
      ],
      "text/plain": [
       "<IPython.core.display.HTML object>"
      ]
     },
     "execution_count": 145,
     "metadata": {},
     "output_type": "execute_result"
    }
   ],
   "source": [
    "G = load_tfls()\n",
    "visualize_visjs(G, scale=1000, title=\"Full Network\")"
   ]
  },
  {
   "cell_type": "markdown",
   "metadata": {},
   "source": [
    "### Approximate MVRs\n",
    "\n",
    "We'd like to find the MVR. Unfortunately, finding the MVR is very difficult even with a lot of computing power (in computer science terms, it's NP-hard).\n",
    "However, several approximation methods exist. Some common approximations are explored below.\n",
    "\n",
    "\n",
    "TODO different approx different order / violations.\n",
    "\n",
    "### Eigenvector centrality"
   ]
  },
  {
   "cell_type": "code",
   "execution_count": 146,
   "metadata": {
    "scrolled": false
   },
   "outputs": [
    {
     "data": {
      "text/html": [
       "<!doctype html><html><head>  <title>Network | Basic usage</title></head><body><script type=\"text/javascript\">function setUpFrame() {     var frame = window.frames[\"style_file5604282836543899562\"];    frame.runVis([{\"id\": \"0\", \"node_size\": 5, \"node_shape\": \"dot\", \"x\": 0, \"y\": 1175.4374153568058, \"color\": \"#8BA8D3\", \"border_width\": 0, \"title\": \"0\", \"degree\": 3.0}, {\"id\": \"10\", \"node_size\": 5, \"node_shape\": \"dot\", \"x\": 0, \"y\": -2418.4975785864185, \"color\": \"#8BA8D3\", \"border_width\": 0, \"title\": \"10\", \"degree\": 3.0}, {\"id\": \"13\", \"node_size\": 5, \"node_shape\": \"dot\", \"x\": 0, \"y\": 1175.4374153568056, \"color\": \"#8BA8D3\", \"border_width\": 0, \"title\": \"13\", \"degree\": 3.0}, {\"id\": \"1\", \"node_size\": 5, \"node_shape\": \"dot\", \"x\": 0, \"y\": -879.5087338245536, \"color\": \"#8BA8D3\", \"border_width\": 0, \"title\": \"1\", \"degree\": 3.0}, {\"id\": \"6\", \"node_size\": 5, \"node_shape\": \"dot\", \"x\": 0, \"y\": -921.8294450073838, \"color\": \"#8BA8D3\", \"border_width\": 0, \"title\": \"6\", \"degree\": 3.0}, {\"id\": \"4\", \"node_size\": 5, \"node_shape\": \"dot\", \"x\": 0, \"y\": 410.8617843495654, \"color\": \"#8BA8D3\", \"border_width\": 0, \"title\": \"4\", \"degree\": 3.0}, {\"id\": \"31\", \"node_size\": 5, \"node_shape\": \"dot\", \"x\": 0, \"y\": -942.065396422541, \"color\": \"#8BA8D3\", \"border_width\": 0, \"title\": \"31\", \"degree\": 3.0}, {\"id\": \"41\", \"node_size\": 5, \"node_shape\": \"dot\", \"x\": 0, \"y\": -142.26130258748296, \"color\": \"#8BA8D3\", \"border_width\": 0, \"title\": \"41\", \"degree\": 3.0}, {\"id\": \"43\", \"node_size\": 5, \"node_shape\": \"dot\", \"x\": 0, \"y\": -376.68059500692, \"color\": \"#8BA8D3\", \"border_width\": 0, \"title\": \"43\", \"degree\": 3.0}, {\"id\": \"9\", \"node_size\": 5, \"node_shape\": \"dot\", \"x\": 0, \"y\": -129.4985210059766, \"color\": \"#8BA8D3\", \"border_width\": 0, \"title\": \"9\", \"degree\": 3.0}, {\"id\": \"14\", \"node_size\": 5, \"node_shape\": \"dot\", \"x\": 0, \"y\": -1397.4101474116283, \"color\": \"#8BA8D3\", \"border_width\": 0, \"title\": \"14\", \"degree\": 3.0}, {\"id\": \"32\", \"node_size\": 5, \"node_shape\": \"dot\", \"x\": 0, \"y\": 134.24680795769203, \"color\": \"#8BA8D3\", \"border_width\": 0, \"title\": \"32\", \"degree\": 3.0}, {\"id\": \"15\", \"node_size\": 5, \"node_shape\": \"dot\", \"x\": 0, \"y\": -1051.2286548621287, \"color\": \"#8BA8D3\", \"border_width\": 0, \"title\": \"15\", \"degree\": 3.0}, {\"id\": \"11\", \"node_size\": 5, \"node_shape\": \"dot\", \"x\": 0, \"y\": 1175.4374153568056, \"color\": \"#8BA8D3\", \"border_width\": 0, \"title\": \"11\", \"degree\": 3.0}, {\"id\": \"16\", \"node_size\": 5, \"node_shape\": \"dot\", \"x\": 0, \"y\": 58.20920589116807, \"color\": \"#8BA8D3\", \"border_width\": 0, \"title\": \"16\", \"degree\": 3.0}, {\"id\": \"17\", \"node_size\": 5, \"node_shape\": \"dot\", \"x\": 0, \"y\": 711.556910242149, \"color\": \"#8BA8D3\", \"border_width\": 0, \"title\": \"17\", \"degree\": 3.0}, {\"id\": \"18\", \"node_size\": 5, \"node_shape\": \"dot\", \"x\": 0, \"y\": 306.82131215622667, \"color\": \"#8BA8D3\", \"border_width\": 0, \"title\": \"18\", \"degree\": 3.0}, {\"id\": \"20\", \"node_size\": 5, \"node_shape\": \"dot\", \"x\": 0, \"y\": -2139.1881467282, \"color\": \"#8BA8D3\", \"border_width\": 0, \"title\": \"20\", \"degree\": 3.0}, {\"id\": \"21\", \"node_size\": 5, \"node_shape\": \"dot\", \"x\": 0, \"y\": -1094.2059748122538, \"color\": \"#8BA8D3\", \"border_width\": 0, \"title\": \"21\", \"degree\": 3.0}, {\"id\": \"23\", \"node_size\": 5, \"node_shape\": \"dot\", \"x\": 0, \"y\": 350.90178777963064, \"color\": \"#8BA8D3\", \"border_width\": 0, \"title\": \"23\", \"degree\": 3.0}, {\"id\": \"34\", \"node_size\": 5, \"node_shape\": \"dot\", \"x\": 0, \"y\": 1007.9421336801951, \"color\": \"#8BA8D3\", \"border_width\": 0, \"title\": \"34\", \"degree\": 3.0}, {\"id\": \"25\", \"node_size\": 5, \"node_shape\": \"dot\", \"x\": 0, \"y\": 291.7906420934491, \"color\": \"#8BA8D3\", \"border_width\": 0, \"title\": \"25\", \"degree\": 3.0}, {\"id\": \"29\", \"node_size\": 5, \"node_shape\": \"dot\", \"x\": 0, \"y\": 249.99643739470935, \"color\": \"#8BA8D3\", \"border_width\": 0, \"title\": \"29\", \"degree\": 3.0}, {\"id\": \"30\", \"node_size\": 5, \"node_shape\": \"dot\", \"x\": 0, \"y\": -1675.554000874039, \"color\": \"#8BA8D3\", \"border_width\": 0, \"title\": \"30\", \"degree\": 3.0}, {\"id\": \"33\", \"node_size\": 5, \"node_shape\": \"dot\", \"x\": 0, \"y\": -84.39029060934406, \"color\": \"#8BA8D3\", \"border_width\": 0, \"title\": \"33\", \"degree\": 3.0}, {\"id\": \"22\", \"node_size\": 5, \"node_shape\": \"dot\", \"x\": 0, \"y\": 877.7188743301583, \"color\": \"#8BA8D3\", \"border_width\": 0, \"title\": \"22\", \"degree\": 3.0}, {\"id\": \"24\", \"node_size\": 5, \"node_shape\": \"dot\", \"x\": 0, \"y\": 146.01797424200018, \"color\": \"#8BA8D3\", \"border_width\": 0, \"title\": \"24\", \"degree\": 3.0}, {\"id\": \"28\", \"node_size\": 5, \"node_shape\": \"dot\", \"x\": 0, \"y\": 522.2225052059308, \"color\": \"#8BA8D3\", \"border_width\": 0, \"title\": \"28\", \"degree\": 3.0}, {\"id\": \"26\", \"node_size\": 5, \"node_shape\": \"dot\", \"x\": 0, \"y\": 1175.4374153568058, \"color\": \"#8BA8D3\", \"border_width\": 0, \"title\": \"26\", \"degree\": 3.0}, {\"id\": \"27\", \"node_size\": 5, \"node_shape\": \"dot\", \"x\": 0, \"y\": 1175.4374153568058, \"color\": \"#8BA8D3\", \"border_width\": 0, \"title\": \"27\", \"degree\": 3.0}, {\"id\": \"36\", \"node_size\": 5, \"node_shape\": \"dot\", \"x\": 0, \"y\": -44.02949508163591, \"color\": \"#8BA8D3\", \"border_width\": 0, \"title\": \"36\", \"degree\": 3.0}, {\"id\": \"38\", \"node_size\": 5, \"node_shape\": \"dot\", \"x\": 0, \"y\": 1175.4374153568058, \"color\": \"#8BA8D3\", \"border_width\": 0, \"title\": \"38\", \"degree\": 3.0}, {\"id\": \"42\", \"node_size\": 5, \"node_shape\": \"dot\", \"x\": 0, \"y\": 1175.4374153568056, \"color\": \"#8BA8D3\", \"border_width\": 0, \"title\": \"42\", \"degree\": 3.0}], [{\"source\": 0, \"target\": 1, \"title\": \"test\", \"color\": \"rgba(192,192,192,0.3)\", \"edge_width_field\": \"value\", \"value\": 18.0}, {\"source\": 0, \"target\": 2, \"title\": \"test\", \"color\": \"rgba(192,192,192,0.3)\", \"edge_width_field\": \"value\", \"value\": 18.0}, {\"source\": 1, \"target\": 3, \"title\": \"test\", \"color\": \"rgba(192,192,192,0.3)\", \"edge_width_field\": \"value\", \"value\": 18.0}, {\"source\": 1, \"target\": 10, \"title\": \"test\", \"color\": \"rgba(192,192,192,0.3)\", \"edge_width_field\": \"value\", \"value\": 18.0}, {\"source\": 1, \"target\": 12, \"title\": \"test\", \"color\": \"rgba(192,192,192,0.3)\", \"edge_width_field\": \"value\", \"value\": 18.0}, {\"source\": 2, \"target\": 0, \"title\": \"test\", \"color\": \"rgba(192,192,192,0.3)\", \"edge_width_field\": \"value\", \"value\": 18.0}, {\"source\": 2, \"target\": 9, \"title\": \"test\", \"color\": \"rgba(192,192,192,0.3)\", \"edge_width_field\": \"value\", \"value\": 18.0}, {\"source\": 2, \"target\": 1, \"title\": \"test\", \"color\": \"rgba(192,192,192,0.3)\", \"edge_width_field\": \"value\", \"value\": 18.0}, {\"source\": 3, \"target\": 4, \"title\": \"test\", \"color\": \"rgba(192,192,192,0.3)\", \"edge_width_field\": \"value\", \"value\": 18.0}, {\"source\": 3, \"target\": 1, \"title\": \"test\", \"color\": \"rgba(192,192,192,0.3)\", \"edge_width_field\": \"value\", \"value\": 18.0}, {\"source\": 4, \"target\": 3, \"title\": \"test\", \"color\": \"rgba(192,192,192,0.3)\", \"edge_width_field\": \"value\", \"value\": 18.0}, {\"source\": 4, \"target\": 7, \"title\": \"test\", \"color\": \"rgba(192,192,192,0.3)\", \"edge_width_field\": \"value\", \"value\": 18.0}, {\"source\": 4, \"target\": 8, \"title\": \"test\", \"color\": \"rgba(192,192,192,0.3)\", \"edge_width_field\": \"value\", \"value\": 18.0}, {\"source\": 5, \"target\": 6, \"title\": \"test\", \"color\": \"rgba(192,192,192,0.3)\", \"edge_width_field\": \"value\", \"value\": 18.0}, {\"source\": 6, \"target\": 5, \"title\": \"test\", \"color\": \"rgba(192,192,192,0.3)\", \"edge_width_field\": \"value\", \"value\": 18.0}, {\"source\": 6, \"target\": 17, \"title\": \"test\", \"color\": \"rgba(192,192,192,0.3)\", \"edge_width_field\": \"value\", \"value\": 18.0}, {\"source\": 6, \"target\": 23, \"title\": \"test\", \"color\": \"rgba(192,192,192,0.3)\", \"edge_width_field\": \"value\", \"value\": 18.0}, {\"source\": 6, \"target\": 30, \"title\": \"test\", \"color\": \"rgba(192,192,192,0.3)\", \"edge_width_field\": \"value\", \"value\": 18.0}, {\"source\": 7, \"target\": 4, \"title\": \"test\", \"color\": \"rgba(192,192,192,0.3)\", \"edge_width_field\": \"value\", \"value\": 18.0}, {\"source\": 7, \"target\": 8, \"title\": \"test\", \"color\": \"rgba(192,192,192,0.3)\", \"edge_width_field\": \"value\", \"value\": 18.0}, {\"source\": 8, \"target\": 4, \"title\": \"test\", \"color\": \"rgba(192,192,192,0.3)\", \"edge_width_field\": \"value\", \"value\": 18.0}, {\"source\": 8, \"target\": 7, \"title\": \"test\", \"color\": \"rgba(192,192,192,0.3)\", \"edge_width_field\": \"value\", \"value\": 18.0}, {\"source\": 9, \"target\": 1, \"title\": \"test\", \"color\": \"rgba(192,192,192,0.3)\", \"edge_width_field\": \"value\", \"value\": 18.0}, {\"source\": 9, \"target\": 10, \"title\": \"test\", \"color\": \"rgba(192,192,192,0.3)\", \"edge_width_field\": \"value\", \"value\": 18.0}, {\"source\": 9, \"target\": 11, \"title\": \"test\", \"color\": \"rgba(192,192,192,0.3)\", \"edge_width_field\": \"value\", \"value\": 18.0}, {\"source\": 10, \"target\": 9, \"title\": \"test\", \"color\": \"rgba(192,192,192,0.3)\", \"edge_width_field\": \"value\", \"value\": 18.0}, {\"source\": 10, \"target\": 1, \"title\": \"test\", \"color\": \"rgba(192,192,192,0.3)\", \"edge_width_field\": \"value\", \"value\": 18.0}, {\"source\": 10, \"target\": 12, \"title\": \"test\", \"color\": \"rgba(192,192,192,0.3)\", \"edge_width_field\": \"value\", \"value\": 18.0}, {\"source\": 11, \"target\": 9, \"title\": \"test\", \"color\": \"rgba(192,192,192,0.3)\", \"edge_width_field\": \"value\", \"value\": 18.0}, {\"source\": 11, \"target\": 22, \"title\": \"test\", \"color\": \"rgba(192,192,192,0.3)\", \"edge_width_field\": \"value\", \"value\": 18.0}, {\"source\": 12, \"target\": 1, \"title\": \"test\", \"color\": \"rgba(192,192,192,0.3)\", \"edge_width_field\": \"value\", \"value\": 18.0}, {\"source\": 12, \"target\": 10, \"title\": \"test\", \"color\": \"rgba(192,192,192,0.3)\", \"edge_width_field\": \"value\", \"value\": 18.0}, {\"source\": 13, \"target\": 4, \"title\": \"test\", \"color\": \"rgba(192,192,192,0.3)\", \"edge_width_field\": \"value\", \"value\": 18.0}, {\"source\": 13, \"target\": 7, \"title\": \"test\", \"color\": \"rgba(192,192,192,0.3)\", \"edge_width_field\": \"value\", \"value\": 18.0}, {\"source\": 13, \"target\": 8, \"title\": \"test\", \"color\": \"rgba(192,192,192,0.3)\", \"edge_width_field\": \"value\", \"value\": 18.0}, {\"source\": 14, \"target\": 15, \"title\": \"test\", \"color\": \"rgba(192,192,192,0.3)\", \"edge_width_field\": \"value\", \"value\": 18.0}, {\"source\": 14, \"target\": 16, \"title\": \"test\", \"color\": \"rgba(192,192,192,0.3)\", \"edge_width_field\": \"value\", \"value\": 18.0}, {\"source\": 14, \"target\": 17, \"title\": \"test\", \"color\": \"rgba(192,192,192,0.3)\", \"edge_width_field\": \"value\", \"value\": 18.0}, {\"source\": 14, \"target\": 18, \"title\": \"test\", \"color\": \"rgba(192,192,192,0.3)\", \"edge_width_field\": \"value\", \"value\": 18.0}, {\"source\": 14, \"target\": 19, \"title\": \"test\", \"color\": \"rgba(192,192,192,0.3)\", \"edge_width_field\": \"value\", \"value\": 18.0}, {\"source\": 15, \"target\": 16, \"title\": \"test\", \"color\": \"rgba(192,192,192,0.3)\", \"edge_width_field\": \"value\", \"value\": 18.0}, {\"source\": 15, \"target\": 20, \"title\": \"test\", \"color\": \"rgba(192,192,192,0.3)\", \"edge_width_field\": \"value\", \"value\": 18.0}, {\"source\": 16, \"target\": 1, \"title\": \"test\", \"color\": \"rgba(192,192,192,0.3)\", \"edge_width_field\": \"value\", \"value\": 18.0}, {\"source\": 16, \"target\": 19, \"title\": \"test\", \"color\": \"rgba(192,192,192,0.3)\", \"edge_width_field\": \"value\", \"value\": 18.0}, {\"source\": 16, \"target\": 21, \"title\": \"test\", \"color\": \"rgba(192,192,192,0.3)\", \"edge_width_field\": \"value\", \"value\": 18.0}, {\"source\": 16, \"target\": 22, \"title\": \"test\", \"color\": \"rgba(192,192,192,0.3)\", \"edge_width_field\": \"value\", \"value\": 18.0}, {\"source\": 17, \"target\": 18, \"title\": \"test\", \"color\": \"rgba(192,192,192,0.3)\", \"edge_width_field\": \"value\", \"value\": 18.0}, {\"source\": 18, \"target\": 14, \"title\": \"test\", \"color\": \"rgba(192,192,192,0.3)\", \"edge_width_field\": \"value\", \"value\": 18.0}, {\"source\": 18, \"target\": 17, \"title\": \"test\", \"color\": \"rgba(192,192,192,0.3)\", \"edge_width_field\": \"value\", \"value\": 18.0}, {\"source\": 18, \"target\": 23, \"title\": \"test\", \"color\": \"rgba(192,192,192,0.3)\", \"edge_width_field\": \"value\", \"value\": 18.0}, {\"source\": 18, \"target\": 24, \"title\": \"test\", \"color\": \"rgba(192,192,192,0.3)\", \"edge_width_field\": \"value\", \"value\": 18.0}, {\"source\": 19, \"target\": 14, \"title\": \"test\", \"color\": \"rgba(192,192,192,0.3)\", \"edge_width_field\": \"value\", \"value\": 18.0}, {\"source\": 19, \"target\": 16, \"title\": \"test\", \"color\": \"rgba(192,192,192,0.3)\", \"edge_width_field\": \"value\", \"value\": 18.0}, {\"source\": 19, \"target\": 17, \"title\": \"test\", \"color\": \"rgba(192,192,192,0.3)\", \"edge_width_field\": \"value\", \"value\": 18.0}, {\"source\": 19, \"target\": 18, \"title\": \"test\", \"color\": \"rgba(192,192,192,0.3)\", \"edge_width_field\": \"value\", \"value\": 18.0}, {\"source\": 19, \"target\": 25, \"title\": \"test\", \"color\": \"rgba(192,192,192,0.3)\", \"edge_width_field\": \"value\", \"value\": 18.0}, {\"source\": 20, \"target\": 15, \"title\": \"test\", \"color\": \"rgba(192,192,192,0.3)\", \"edge_width_field\": \"value\", \"value\": 18.0}, {\"source\": 21, \"target\": 4, \"title\": \"test\", \"color\": \"rgba(192,192,192,0.3)\", \"edge_width_field\": \"value\", \"value\": 18.0}, {\"source\": 21, \"target\": 27, \"title\": \"test\", \"color\": \"rgba(192,192,192,0.3)\", \"edge_width_field\": \"value\", \"value\": 18.0}, {\"source\": 21, \"target\": 8, \"title\": \"test\", \"color\": \"rgba(192,192,192,0.3)\", \"edge_width_field\": \"value\", \"value\": 18.0}, {\"source\": 22, \"target\": 1, \"title\": \"test\", \"color\": \"rgba(192,192,192,0.3)\", \"edge_width_field\": \"value\", \"value\": 18.0}, {\"source\": 22, \"target\": 21, \"title\": \"test\", \"color\": \"rgba(192,192,192,0.3)\", \"edge_width_field\": \"value\", \"value\": 18.0}, {\"source\": 22, \"target\": 27, \"title\": \"test\", \"color\": \"rgba(192,192,192,0.3)\", \"edge_width_field\": \"value\", \"value\": 18.0}, {\"source\": 22, \"target\": 11, \"title\": \"test\", \"color\": \"rgba(192,192,192,0.3)\", \"edge_width_field\": \"value\", \"value\": 18.0}, {\"source\": 23, \"target\": 17, \"title\": \"test\", \"color\": \"rgba(192,192,192,0.3)\", \"edge_width_field\": \"value\", \"value\": 18.0}, {\"source\": 23, \"target\": 26, \"title\": \"test\", \"color\": \"rgba(192,192,192,0.3)\", \"edge_width_field\": \"value\", \"value\": 18.0}, {\"source\": 23, \"target\": 6, \"title\": \"test\", \"color\": \"rgba(192,192,192,0.3)\", \"edge_width_field\": \"value\", \"value\": 18.0}, {\"source\": 24, \"target\": 23, \"title\": \"test\", \"color\": \"rgba(192,192,192,0.3)\", \"edge_width_field\": \"value\", \"value\": 18.0}, {\"source\": 24, \"target\": 30, \"title\": \"test\", \"color\": \"rgba(192,192,192,0.3)\", \"edge_width_field\": \"value\", \"value\": 18.0}, {\"source\": 25, \"target\": 19, \"title\": \"test\", \"color\": \"rgba(192,192,192,0.3)\", \"edge_width_field\": \"value\", \"value\": 18.0}, {\"source\": 26, \"target\": 18, \"title\": \"test\", \"color\": \"rgba(192,192,192,0.3)\", \"edge_width_field\": \"value\", \"value\": 18.0}, {\"source\": 26, \"target\": 23, \"title\": \"test\", \"color\": \"rgba(192,192,192,0.3)\", \"edge_width_field\": \"value\", \"value\": 18.0}, {\"source\": 26, \"target\": 6, \"title\": \"test\", \"color\": \"rgba(192,192,192,0.3)\", \"edge_width_field\": \"value\", \"value\": 18.0}, {\"source\": 27, \"target\": 21, \"title\": \"test\", \"color\": \"rgba(192,192,192,0.3)\", \"edge_width_field\": \"value\", \"value\": 18.0}, {\"source\": 27, \"target\": 22, \"title\": \"test\", \"color\": \"rgba(192,192,192,0.3)\", \"edge_width_field\": \"value\", \"value\": 18.0}, {\"source\": 27, \"target\": 11, \"title\": \"test\", \"color\": \"rgba(192,192,192,0.3)\", \"edge_width_field\": \"value\", \"value\": 18.0}, {\"source\": 28, \"target\": 29, \"title\": \"test\", \"color\": \"rgba(192,192,192,0.3)\", \"edge_width_field\": \"value\", \"value\": 18.0}, {\"source\": 28, \"target\": 27, \"title\": \"test\", \"color\": \"rgba(192,192,192,0.3)\", \"edge_width_field\": \"value\", \"value\": 18.0}, {\"source\": 28, \"target\": 22, \"title\": \"test\", \"color\": \"rgba(192,192,192,0.3)\", \"edge_width_field\": \"value\", \"value\": 18.0}, {\"source\": 29, \"target\": 28, \"title\": \"test\", \"color\": \"rgba(192,192,192,0.3)\", \"edge_width_field\": \"value\", \"value\": 18.0}, {\"source\": 30, \"target\": 23, \"title\": \"test\", \"color\": \"rgba(192,192,192,0.3)\", \"edge_width_field\": \"value\", \"value\": 18.0}, {\"source\": 30, \"target\": 6, \"title\": \"test\", \"color\": \"rgba(192,192,192,0.3)\", \"edge_width_field\": \"value\", \"value\": 18.0}, {\"source\": 30, \"target\": 24, \"title\": \"test\", \"color\": \"rgba(192,192,192,0.3)\", \"edge_width_field\": \"value\", \"value\": 18.0}, {\"source\": 31, \"target\": 32, \"title\": \"test\", \"color\": \"rgba(192,192,192,0.3)\", \"edge_width_field\": \"value\", \"value\": 18.0}, {\"source\": 32, \"target\": 18, \"title\": \"test\", \"color\": \"rgba(192,192,192,0.3)\", \"edge_width_field\": \"value\", \"value\": 18.0}, {\"source\": 32, \"target\": 31, \"title\": \"test\", \"color\": \"rgba(192,192,192,0.3)\", \"edge_width_field\": \"value\", \"value\": 18.0}]);}</script><iframe name=\"style_file5604282836543899562\" src=\"style_file5604282836543899562.html\" width=\"100%;\" height=\"805px\"></iframe></body></html>"
      ],
      "text/plain": [
       "<IPython.core.display.HTML object>"
      ]
     },
     "execution_count": 146,
     "metadata": {},
     "output_type": "execute_result"
    }
   ],
   "source": [
    "G = giant_component(G)\n",
    "# Calculate the rank\n",
    "er_rank, er_order = get_eigenvector_rank(G)\n",
    "# Plot the ordering\n",
    "plot_ordering(G, er_rank, title=\"Eigenvector Rank\", scale=1000)"
   ]
  },
  {
   "cell_type": "code",
   "execution_count": 123,
   "metadata": {},
   "outputs": [
    {
     "name": "stdout",
     "output_type": "stream",
     "text": [
      "Violations: 31\n",
      "Violation percent: 0.36046511627906974\n",
      "Mean rank difference: 4.0\n"
     ]
    }
   ],
   "source": [
    "rank_differences, violations = count_violations(G, er_order)\n",
    "print(\"Violations:\", violations)\n",
    "print(\"Violation percent:\", violations / len(list(G.edges())))\n",
    "print(\"Mean rank difference:\", np.mean(rank_differences))"
   ]
  },
  {
   "cell_type": "markdown",
   "metadata": {},
   "source": [
    "### SpringRank\n",
    "The example below uses SpringRank [BLN2013] to find an approximate MVR by modeling individuals as particles connected by springs that pull towards popular individuals and push away from unpopular ones."
   ]
  },
  {
   "cell_type": "code",
   "execution_count": 147,
   "metadata": {},
   "outputs": [
    {
     "name": "stdout",
     "output_type": "stream",
     "text": [
      "Using faster computation: fixing a rank degree of freedom\n",
      "Switched to scipy.sparse.linalg.bicgstab(A,B)[0]\n"
     ]
    },
    {
     "data": {
      "text/html": [
       "<!doctype html><html><head>  <title>Network | Basic usage</title></head><body><script type=\"text/javascript\">function setUpFrame() {     var frame = window.frames[\"style_file-7442600775503904713\"];    frame.runVis([{\"id\": \"0\", \"node_size\": 5, \"node_shape\": \"dot\", \"x\": 0, \"y\": -52.77998422289424, \"color\": \"#8BA8D3\", \"border_width\": 0, \"title\": \"0\", \"degree\": 3.0}, {\"id\": \"10\", \"node_size\": 5, \"node_shape\": \"dot\", \"x\": 0, \"y\": -1332.6092752077818, \"color\": \"#8BA8D3\", \"border_width\": 0, \"title\": \"10\", \"degree\": 3.0}, {\"id\": \"13\", \"node_size\": 5, \"node_shape\": \"dot\", \"x\": 0, \"y\": 3.2609238146562487, \"color\": \"#8BA8D3\", \"border_width\": 0, \"title\": \"13\", \"degree\": 3.0}, {\"id\": \"1\", \"node_size\": 5, \"node_shape\": \"dot\", \"x\": 0, \"y\": -1507.5082501558927, \"color\": \"#8BA8D3\", \"border_width\": 0, \"title\": \"1\", \"degree\": 3.0}, {\"id\": \"6\", \"node_size\": 5, \"node_shape\": \"dot\", \"x\": 0, \"y\": -1682.411828617211, \"color\": \"#8BA8D3\", \"border_width\": 0, \"title\": \"6\", \"degree\": 3.0}, {\"id\": \"4\", \"node_size\": 5, \"node_shape\": \"dot\", \"x\": 0, \"y\": 520.9101810162002, \"color\": \"#8BA8D3\", \"border_width\": 0, \"title\": \"4\", \"degree\": 3.0}, {\"id\": \"31\", \"node_size\": 5, \"node_shape\": \"dot\", \"x\": 0, \"y\": 520.9088482472051, \"color\": \"#8BA8D3\", \"border_width\": 0, \"title\": \"31\", \"degree\": 3.0}, {\"id\": \"41\", \"node_size\": 5, \"node_shape\": \"dot\", \"x\": 0, \"y\": -1704.26666465579, \"color\": \"#8BA8D3\", \"border_width\": 0, \"title\": \"41\", \"degree\": 3.0}, {\"id\": \"43\", \"node_size\": 5, \"node_shape\": \"dot\", \"x\": 0, \"y\": -1726.135695687292, \"color\": \"#8BA8D3\", \"border_width\": 0, \"title\": \"43\", \"degree\": 3.0}, {\"id\": \"9\", \"node_size\": 5, \"node_shape\": \"dot\", \"x\": 0, \"y\": -884.2991096993028, \"color\": \"#8BA8D3\", \"border_width\": 0, \"title\": \"9\", \"degree\": 3.0}, {\"id\": \"14\", \"node_size\": 5, \"node_shape\": \"dot\", \"x\": 0, \"y\": -1153.287611538133, \"color\": \"#8BA8D3\", \"border_width\": 0, \"title\": \"14\", \"degree\": 3.0}, {\"id\": \"32\", \"node_size\": 5, \"node_shape\": \"dot\", \"x\": 0, \"y\": -834.9277974920736, \"color\": \"#8BA8D3\", \"border_width\": 0, \"title\": \"32\", \"degree\": 3.0}, {\"id\": \"15\", \"node_size\": 5, \"node_shape\": \"dot\", \"x\": 0, \"y\": -1242.9513566114354, \"color\": \"#8BA8D3\", \"border_width\": 0, \"title\": \"15\", \"degree\": 3.0}, {\"id\": \"11\", \"node_size\": 5, \"node_shape\": \"dot\", \"x\": 0, \"y\": -536.5009065322932, \"color\": \"#8BA8D3\", \"border_width\": 0, \"title\": \"11\", \"degree\": 3.0}, {\"id\": \"16\", \"node_size\": 5, \"node_shape\": \"dot\", \"x\": 0, \"y\": 1088.7665904613132, \"color\": \"#8BA8D3\", \"border_width\": 0, \"title\": \"16\", \"degree\": 3.0}, {\"id\": \"17\", \"node_size\": 5, \"node_shape\": \"dot\", \"x\": 0, \"y\": 716.9690578670715, \"color\": \"#8BA8D3\", \"border_width\": 0, \"title\": \"17\", \"degree\": 3.0}, {\"id\": \"18\", \"node_size\": 5, \"node_shape\": \"dot\", \"x\": 0, \"y\": 345.16678087648717, \"color\": \"#8BA8D3\", \"border_width\": 0, \"title\": \"18\", \"degree\": 3.0}, {\"id\": \"20\", \"node_size\": 5, \"node_shape\": \"dot\", \"x\": 0, \"y\": -89.44610771921883, \"color\": \"#8BA8D3\", \"border_width\": 0, \"title\": \"20\", \"degree\": 3.0}, {\"id\": \"21\", \"node_size\": 5, \"node_shape\": \"dot\", \"x\": 0, \"y\": 617.460420319644, \"color\": \"#8BA8D3\", \"border_width\": 0, \"title\": \"21\", \"degree\": 3.0}, {\"id\": \"23\", \"node_size\": 5, \"node_shape\": \"dot\", \"x\": 0, \"y\": 955.2347591024962, \"color\": \"#8BA8D3\", \"border_width\": 0, \"title\": \"23\", \"degree\": 3.0}, {\"id\": \"34\", \"node_size\": 5, \"node_shape\": \"dot\", \"x\": 0, \"y\": 716.9703099396245, \"color\": \"#8BA8D3\", \"border_width\": 0, \"title\": \"34\", \"degree\": 3.0}, {\"id\": \"25\", \"node_size\": 5, \"node_shape\": \"dot\", \"x\": 0, \"y\": -711.4524394948412, \"color\": \"#8BA8D3\", \"border_width\": 0, \"title\": \"25\", \"degree\": 3.0}, {\"id\": \"29\", \"node_size\": 5, \"node_shape\": \"dot\", \"x\": 0, \"y\": -423.73543870770123, \"color\": \"#8BA8D3\", \"border_width\": 0, \"title\": \"29\", \"degree\": 3.0}, {\"id\": \"30\", \"node_size\": 5, \"node_shape\": \"dot\", \"x\": 0, \"y\": 334.5444609996343, \"color\": \"#8BA8D3\", \"border_width\": 0, \"title\": \"30\", \"degree\": 3.0}, {\"id\": \"33\", \"node_size\": 5, \"node_shape\": \"dot\", \"x\": 0, \"y\": 615.517160699616, \"color\": \"#8BA8D3\", \"border_width\": 0, \"title\": \"33\", \"degree\": 3.0}, {\"id\": \"22\", \"node_size\": 5, \"node_shape\": \"dot\", \"x\": 0, \"y\": 955.2346968273467, \"color\": \"#8BA8D3\", \"border_width\": 0, \"title\": \"22\", \"degree\": 3.0}, {\"id\": \"24\", \"node_size\": 5, \"node_shape\": \"dot\", \"x\": 0, \"y\": 1035.7454167047133, \"color\": \"#8BA8D3\", \"border_width\": 0, \"title\": \"24\", \"degree\": 3.0}, {\"id\": \"28\", \"node_size\": 5, \"node_shape\": \"dot\", \"x\": 0, \"y\": -390.80446208276686, \"color\": \"#8BA8D3\", \"border_width\": 0, \"title\": \"28\", \"degree\": 3.0}, {\"id\": \"26\", \"node_size\": 5, \"node_shape\": \"dot\", \"x\": 0, \"y\": 760.482921156434, \"color\": \"#8BA8D3\", \"border_width\": 0, \"title\": \"26\", \"degree\": 3.0}, {\"id\": \"27\", \"node_size\": 5, \"node_shape\": \"dot\", \"x\": 0, \"y\": 760.4770732823212, \"color\": \"#8BA8D3\", \"border_width\": 0, \"title\": \"27\", \"degree\": 3.0}, {\"id\": \"36\", \"node_size\": 5, \"node_shape\": \"dot\", \"x\": 0, \"y\": 755.0321831202825, \"color\": \"#8BA8D3\", \"border_width\": 0, \"title\": \"36\", \"degree\": 3.0}, {\"id\": \"38\", \"node_size\": 5, \"node_shape\": \"dot\", \"x\": 0, \"y\": 1785.2170106919414, \"color\": \"#8BA8D3\", \"border_width\": 0, \"title\": \"38\", \"degree\": 3.0}, {\"id\": \"42\", \"node_size\": 5, \"node_shape\": \"dot\", \"x\": 0, \"y\": 1785.218133297645, \"color\": \"#8BA8D3\", \"border_width\": 0, \"title\": \"42\", \"degree\": 3.0}], [{\"source\": 0, \"target\": 1, \"title\": \"test\", \"color\": \"rgba(192,192,192,0.3)\", \"edge_width_field\": \"value\", \"value\": 18.0}, {\"source\": 0, \"target\": 2, \"title\": \"test\", \"color\": \"rgba(192,192,192,0.3)\", \"edge_width_field\": \"value\", \"value\": 18.0}, {\"source\": 1, \"target\": 3, \"title\": \"test\", \"color\": \"rgba(192,192,192,0.3)\", \"edge_width_field\": \"value\", \"value\": 18.0}, {\"source\": 1, \"target\": 10, \"title\": \"test\", \"color\": \"rgba(192,192,192,0.3)\", \"edge_width_field\": \"value\", \"value\": 18.0}, {\"source\": 1, \"target\": 12, \"title\": \"test\", \"color\": \"rgba(192,192,192,0.3)\", \"edge_width_field\": \"value\", \"value\": 18.0}, {\"source\": 2, \"target\": 0, \"title\": \"test\", \"color\": \"rgba(192,192,192,0.3)\", \"edge_width_field\": \"value\", \"value\": 18.0}, {\"source\": 2, \"target\": 9, \"title\": \"test\", \"color\": \"rgba(192,192,192,0.3)\", \"edge_width_field\": \"value\", \"value\": 18.0}, {\"source\": 2, \"target\": 1, \"title\": \"test\", \"color\": \"rgba(192,192,192,0.3)\", \"edge_width_field\": \"value\", \"value\": 18.0}, {\"source\": 3, \"target\": 4, \"title\": \"test\", \"color\": \"rgba(192,192,192,0.3)\", \"edge_width_field\": \"value\", \"value\": 18.0}, {\"source\": 3, \"target\": 1, \"title\": \"test\", \"color\": \"rgba(192,192,192,0.3)\", \"edge_width_field\": \"value\", \"value\": 18.0}, {\"source\": 4, \"target\": 3, \"title\": \"test\", \"color\": \"rgba(192,192,192,0.3)\", \"edge_width_field\": \"value\", \"value\": 18.0}, {\"source\": 4, \"target\": 7, \"title\": \"test\", \"color\": \"rgba(192,192,192,0.3)\", \"edge_width_field\": \"value\", \"value\": 18.0}, {\"source\": 4, \"target\": 8, \"title\": \"test\", \"color\": \"rgba(192,192,192,0.3)\", \"edge_width_field\": \"value\", \"value\": 18.0}, {\"source\": 5, \"target\": 6, \"title\": \"test\", \"color\": \"rgba(192,192,192,0.3)\", \"edge_width_field\": \"value\", \"value\": 18.0}, {\"source\": 6, \"target\": 5, \"title\": \"test\", \"color\": \"rgba(192,192,192,0.3)\", \"edge_width_field\": \"value\", \"value\": 18.0}, {\"source\": 6, \"target\": 17, \"title\": \"test\", \"color\": \"rgba(192,192,192,0.3)\", \"edge_width_field\": \"value\", \"value\": 18.0}, {\"source\": 6, \"target\": 23, \"title\": \"test\", \"color\": \"rgba(192,192,192,0.3)\", \"edge_width_field\": \"value\", \"value\": 18.0}, {\"source\": 6, \"target\": 30, \"title\": \"test\", \"color\": \"rgba(192,192,192,0.3)\", \"edge_width_field\": \"value\", \"value\": 18.0}, {\"source\": 7, \"target\": 4, \"title\": \"test\", \"color\": \"rgba(192,192,192,0.3)\", \"edge_width_field\": \"value\", \"value\": 18.0}, {\"source\": 7, \"target\": 8, \"title\": \"test\", \"color\": \"rgba(192,192,192,0.3)\", \"edge_width_field\": \"value\", \"value\": 18.0}, {\"source\": 8, \"target\": 4, \"title\": \"test\", \"color\": \"rgba(192,192,192,0.3)\", \"edge_width_field\": \"value\", \"value\": 18.0}, {\"source\": 8, \"target\": 7, \"title\": \"test\", \"color\": \"rgba(192,192,192,0.3)\", \"edge_width_field\": \"value\", \"value\": 18.0}, {\"source\": 9, \"target\": 1, \"title\": \"test\", \"color\": \"rgba(192,192,192,0.3)\", \"edge_width_field\": \"value\", \"value\": 18.0}, {\"source\": 9, \"target\": 10, \"title\": \"test\", \"color\": \"rgba(192,192,192,0.3)\", \"edge_width_field\": \"value\", \"value\": 18.0}, {\"source\": 9, \"target\": 11, \"title\": \"test\", \"color\": \"rgba(192,192,192,0.3)\", \"edge_width_field\": \"value\", \"value\": 18.0}, {\"source\": 10, \"target\": 9, \"title\": \"test\", \"color\": \"rgba(192,192,192,0.3)\", \"edge_width_field\": \"value\", \"value\": 18.0}, {\"source\": 10, \"target\": 1, \"title\": \"test\", \"color\": \"rgba(192,192,192,0.3)\", \"edge_width_field\": \"value\", \"value\": 18.0}, {\"source\": 10, \"target\": 12, \"title\": \"test\", \"color\": \"rgba(192,192,192,0.3)\", \"edge_width_field\": \"value\", \"value\": 18.0}, {\"source\": 11, \"target\": 9, \"title\": \"test\", \"color\": \"rgba(192,192,192,0.3)\", \"edge_width_field\": \"value\", \"value\": 18.0}, {\"source\": 11, \"target\": 22, \"title\": \"test\", \"color\": \"rgba(192,192,192,0.3)\", \"edge_width_field\": \"value\", \"value\": 18.0}, {\"source\": 12, \"target\": 1, \"title\": \"test\", \"color\": \"rgba(192,192,192,0.3)\", \"edge_width_field\": \"value\", \"value\": 18.0}, {\"source\": 12, \"target\": 10, \"title\": \"test\", \"color\": \"rgba(192,192,192,0.3)\", \"edge_width_field\": \"value\", \"value\": 18.0}, {\"source\": 13, \"target\": 4, \"title\": \"test\", \"color\": \"rgba(192,192,192,0.3)\", \"edge_width_field\": \"value\", \"value\": 18.0}, {\"source\": 13, \"target\": 7, \"title\": \"test\", \"color\": \"rgba(192,192,192,0.3)\", \"edge_width_field\": \"value\", \"value\": 18.0}, {\"source\": 13, \"target\": 8, \"title\": \"test\", \"color\": \"rgba(192,192,192,0.3)\", \"edge_width_field\": \"value\", \"value\": 18.0}, {\"source\": 14, \"target\": 15, \"title\": \"test\", \"color\": \"rgba(192,192,192,0.3)\", \"edge_width_field\": \"value\", \"value\": 18.0}, {\"source\": 14, \"target\": 16, \"title\": \"test\", \"color\": \"rgba(192,192,192,0.3)\", \"edge_width_field\": \"value\", \"value\": 18.0}, {\"source\": 14, \"target\": 17, \"title\": \"test\", \"color\": \"rgba(192,192,192,0.3)\", \"edge_width_field\": \"value\", \"value\": 18.0}, {\"source\": 14, \"target\": 18, \"title\": \"test\", \"color\": \"rgba(192,192,192,0.3)\", \"edge_width_field\": \"value\", \"value\": 18.0}, {\"source\": 14, \"target\": 19, \"title\": \"test\", \"color\": \"rgba(192,192,192,0.3)\", \"edge_width_field\": \"value\", \"value\": 18.0}, {\"source\": 15, \"target\": 16, \"title\": \"test\", \"color\": \"rgba(192,192,192,0.3)\", \"edge_width_field\": \"value\", \"value\": 18.0}, {\"source\": 15, \"target\": 20, \"title\": \"test\", \"color\": \"rgba(192,192,192,0.3)\", \"edge_width_field\": \"value\", \"value\": 18.0}, {\"source\": 16, \"target\": 1, \"title\": \"test\", \"color\": \"rgba(192,192,192,0.3)\", \"edge_width_field\": \"value\", \"value\": 18.0}, {\"source\": 16, \"target\": 19, \"title\": \"test\", \"color\": \"rgba(192,192,192,0.3)\", \"edge_width_field\": \"value\", \"value\": 18.0}, {\"source\": 16, \"target\": 21, \"title\": \"test\", \"color\": \"rgba(192,192,192,0.3)\", \"edge_width_field\": \"value\", \"value\": 18.0}, {\"source\": 16, \"target\": 22, \"title\": \"test\", \"color\": \"rgba(192,192,192,0.3)\", \"edge_width_field\": \"value\", \"value\": 18.0}, {\"source\": 17, \"target\": 18, \"title\": \"test\", \"color\": \"rgba(192,192,192,0.3)\", \"edge_width_field\": \"value\", \"value\": 18.0}, {\"source\": 18, \"target\": 14, \"title\": \"test\", \"color\": \"rgba(192,192,192,0.3)\", \"edge_width_field\": \"value\", \"value\": 18.0}, {\"source\": 18, \"target\": 17, \"title\": \"test\", \"color\": \"rgba(192,192,192,0.3)\", \"edge_width_field\": \"value\", \"value\": 18.0}, {\"source\": 18, \"target\": 23, \"title\": \"test\", \"color\": \"rgba(192,192,192,0.3)\", \"edge_width_field\": \"value\", \"value\": 18.0}, {\"source\": 18, \"target\": 24, \"title\": \"test\", \"color\": \"rgba(192,192,192,0.3)\", \"edge_width_field\": \"value\", \"value\": 18.0}, {\"source\": 19, \"target\": 14, \"title\": \"test\", \"color\": \"rgba(192,192,192,0.3)\", \"edge_width_field\": \"value\", \"value\": 18.0}, {\"source\": 19, \"target\": 16, \"title\": \"test\", \"color\": \"rgba(192,192,192,0.3)\", \"edge_width_field\": \"value\", \"value\": 18.0}, {\"source\": 19, \"target\": 17, \"title\": \"test\", \"color\": \"rgba(192,192,192,0.3)\", \"edge_width_field\": \"value\", \"value\": 18.0}, {\"source\": 19, \"target\": 18, \"title\": \"test\", \"color\": \"rgba(192,192,192,0.3)\", \"edge_width_field\": \"value\", \"value\": 18.0}, {\"source\": 19, \"target\": 25, \"title\": \"test\", \"color\": \"rgba(192,192,192,0.3)\", \"edge_width_field\": \"value\", \"value\": 18.0}, {\"source\": 20, \"target\": 15, \"title\": \"test\", \"color\": \"rgba(192,192,192,0.3)\", \"edge_width_field\": \"value\", \"value\": 18.0}, {\"source\": 21, \"target\": 4, \"title\": \"test\", \"color\": \"rgba(192,192,192,0.3)\", \"edge_width_field\": \"value\", \"value\": 18.0}, {\"source\": 21, \"target\": 27, \"title\": \"test\", \"color\": \"rgba(192,192,192,0.3)\", \"edge_width_field\": \"value\", \"value\": 18.0}, {\"source\": 21, \"target\": 8, \"title\": \"test\", \"color\": \"rgba(192,192,192,0.3)\", \"edge_width_field\": \"value\", \"value\": 18.0}, {\"source\": 22, \"target\": 1, \"title\": \"test\", \"color\": \"rgba(192,192,192,0.3)\", \"edge_width_field\": \"value\", \"value\": 18.0}, {\"source\": 22, \"target\": 21, \"title\": \"test\", \"color\": \"rgba(192,192,192,0.3)\", \"edge_width_field\": \"value\", \"value\": 18.0}, {\"source\": 22, \"target\": 27, \"title\": \"test\", \"color\": \"rgba(192,192,192,0.3)\", \"edge_width_field\": \"value\", \"value\": 18.0}, {\"source\": 22, \"target\": 11, \"title\": \"test\", \"color\": \"rgba(192,192,192,0.3)\", \"edge_width_field\": \"value\", \"value\": 18.0}, {\"source\": 23, \"target\": 17, \"title\": \"test\", \"color\": \"rgba(192,192,192,0.3)\", \"edge_width_field\": \"value\", \"value\": 18.0}, {\"source\": 23, \"target\": 26, \"title\": \"test\", \"color\": \"rgba(192,192,192,0.3)\", \"edge_width_field\": \"value\", \"value\": 18.0}, {\"source\": 23, \"target\": 6, \"title\": \"test\", \"color\": \"rgba(192,192,192,0.3)\", \"edge_width_field\": \"value\", \"value\": 18.0}, {\"source\": 24, \"target\": 23, \"title\": \"test\", \"color\": \"rgba(192,192,192,0.3)\", \"edge_width_field\": \"value\", \"value\": 18.0}, {\"source\": 24, \"target\": 30, \"title\": \"test\", \"color\": \"rgba(192,192,192,0.3)\", \"edge_width_field\": \"value\", \"value\": 18.0}, {\"source\": 25, \"target\": 19, \"title\": \"test\", \"color\": \"rgba(192,192,192,0.3)\", \"edge_width_field\": \"value\", \"value\": 18.0}, {\"source\": 26, \"target\": 18, \"title\": \"test\", \"color\": \"rgba(192,192,192,0.3)\", \"edge_width_field\": \"value\", \"value\": 18.0}, {\"source\": 26, \"target\": 23, \"title\": \"test\", \"color\": \"rgba(192,192,192,0.3)\", \"edge_width_field\": \"value\", \"value\": 18.0}, {\"source\": 26, \"target\": 6, \"title\": \"test\", \"color\": \"rgba(192,192,192,0.3)\", \"edge_width_field\": \"value\", \"value\": 18.0}, {\"source\": 27, \"target\": 21, \"title\": \"test\", \"color\": \"rgba(192,192,192,0.3)\", \"edge_width_field\": \"value\", \"value\": 18.0}, {\"source\": 27, \"target\": 22, \"title\": \"test\", \"color\": \"rgba(192,192,192,0.3)\", \"edge_width_field\": \"value\", \"value\": 18.0}, {\"source\": 27, \"target\": 11, \"title\": \"test\", \"color\": \"rgba(192,192,192,0.3)\", \"edge_width_field\": \"value\", \"value\": 18.0}, {\"source\": 28, \"target\": 29, \"title\": \"test\", \"color\": \"rgba(192,192,192,0.3)\", \"edge_width_field\": \"value\", \"value\": 18.0}, {\"source\": 28, \"target\": 27, \"title\": \"test\", \"color\": \"rgba(192,192,192,0.3)\", \"edge_width_field\": \"value\", \"value\": 18.0}, {\"source\": 28, \"target\": 22, \"title\": \"test\", \"color\": \"rgba(192,192,192,0.3)\", \"edge_width_field\": \"value\", \"value\": 18.0}, {\"source\": 29, \"target\": 28, \"title\": \"test\", \"color\": \"rgba(192,192,192,0.3)\", \"edge_width_field\": \"value\", \"value\": 18.0}, {\"source\": 30, \"target\": 23, \"title\": \"test\", \"color\": \"rgba(192,192,192,0.3)\", \"edge_width_field\": \"value\", \"value\": 18.0}, {\"source\": 30, \"target\": 6, \"title\": \"test\", \"color\": \"rgba(192,192,192,0.3)\", \"edge_width_field\": \"value\", \"value\": 18.0}, {\"source\": 30, \"target\": 24, \"title\": \"test\", \"color\": \"rgba(192,192,192,0.3)\", \"edge_width_field\": \"value\", \"value\": 18.0}, {\"source\": 31, \"target\": 32, \"title\": \"test\", \"color\": \"rgba(192,192,192,0.3)\", \"edge_width_field\": \"value\", \"value\": 18.0}, {\"source\": 32, \"target\": 18, \"title\": \"test\", \"color\": \"rgba(192,192,192,0.3)\", \"edge_width_field\": \"value\", \"value\": 18.0}, {\"source\": 32, \"target\": 31, \"title\": \"test\", \"color\": \"rgba(192,192,192,0.3)\", \"edge_width_field\": \"value\", \"value\": 18.0}]);}</script><iframe name=\"style_file-7442600775503904713\" src=\"style_file-7442600775503904713.html\" width=\"100%;\" height=\"805px\"></iframe></body></html>"
      ],
      "text/plain": [
       "<IPython.core.display.HTML object>"
      ]
     },
     "execution_count": 147,
     "metadata": {},
     "output_type": "execute_result"
    }
   ],
   "source": [
    "# Find the largest connected component\n",
    "G = giant_component(G)\n",
    "# Calculate the rank\n",
    "sr_rank, sr_order = get_spring_rank(G)\n",
    "# Plot the ordering\n",
    "plot_ordering(G, sr_rank, title=\"Spring Rank\", scale=1000)"
   ]
  },
  {
   "cell_type": "code",
   "execution_count": 126,
   "metadata": {
    "scrolled": true
   },
   "outputs": [
    {
     "name": "stdout",
     "output_type": "stream",
     "text": [
      "Violations: 27\n",
      "Violation percent: 0.313953488372093\n",
      "Mean rank difference: 3.08139534884\n"
     ]
    }
   ],
   "source": [
    "rank_differences, violations = count_violations(G, sr_order)\n",
    "print(\"Violations:\", violations)\n",
    "print(\"Violation percent:\", violations / len(list(G.edges())))\n",
    "print(\"Mean rank difference:\", np.mean(rank_differences))"
   ]
  },
  {
   "cell_type": "markdown",
   "metadata": {},
   "source": [
    "### Compare approximations\n",
    "\n",
    "TODO violations"
   ]
  },
  {
   "cell_type": "code",
   "execution_count": 148,
   "metadata": {},
   "outputs": [
    {
     "data": {
      "image/png": "[encoded data removed]",
      "text/plain": [
       "<matplotlib.figure.Figure at 0x118754ef0>"
      ]
     },
     "metadata": {},
     "output_type": "display_data"
    }
   ],
   "source": [
    "nodes = er_order.keys()\n",
    "plt.figure(figsize=(8,4))\n",
    "subplot(1,2,1)\n",
    "plt.plot([er_order[v] for v in nodes], [sr_order[v] for v in nodes], '.')\n",
    "title(\"Rank order\"); xlabel(\"Eigenvector\"); ylabel(\"SpringRank\")\n",
    "subplot(1,2,2)\n",
    "plt.plot([er_rank[v] for v in nodes], [sr_rank[v] for v in nodes], '.')\n",
    "title(\"Centrality score\"); xlabel(\"Eigenvector\"); ylabel(\"SpringRank\")\n",
    "plt.tight_layout()"
   ]
  },
  {
   "cell_type": "markdown",
   "metadata": {},
   "source": [
    "### Analyze friendships"
   ]
  },
  {
   "cell_type": "code",
   "execution_count": null,
   "metadata": {},
   "outputs": [],
   "source": [
    "bins = np.arange(min(rank_differences) - 0.5, max(rank_differences) + 0.5)\n",
    "plt.hist(rank_differences, bins=bins)\n",
    "xlabel(\"Rank difference\"); ylabel(\"Count\");\n",
    "plt.tight_layout()"
   ]
  },
  {
   "cell_type": "markdown",
   "metadata": {},
   "source": [
    "### Behavioral data"
   ]
  },
  {
   "cell_type": "code",
   "execution_count": 149,
   "metadata": {},
   "outputs": [],
   "source": [
    "# Helper functions\n",
    "\n",
    "def load_tfls_behavior():\n",
    "    result = dict()\n",
    "    t1 = []\n",
    "    t2 = []\n",
    "    t3 = []\n",
    "    with open(\"external/s50_data/s50-alcohol.dat\") as f:\n",
    "        for row in f:\n",
    "            a, b, c = re.split('\\s+', row.strip())\n",
    "            t1.append(float(a))\n",
    "            t2.append(float(b))\n",
    "            t3.append(float(c))\n",
    "    result[\"alcohol\"] = [t1, t2, t3]\n",
    "    return result"
   ]
  },
  {
   "cell_type": "code",
   "execution_count": 150,
   "metadata": {},
   "outputs": [
    {
     "data": {
      "image/png": "[encoded data removed]",
      "text/plain": [
       "<matplotlib.figure.Figure at 0x1186342b0>"
      ]
     },
     "metadata": {},
     "output_type": "display_data"
    }
   ],
   "source": [
    "behavior = load_tfls_behavior()\n",
    "nodes = sr_rank.keys()\n",
    "x = [sr_rank[n] for n in nodes]\n",
    "y = [behavior[\"alcohol\"][1][n] for n in nodes]\n",
    "plt.plot(x, y, '.')\n",
    "r, p = spstats.pearsonr(x, y)\n",
    "plt.title(\"r={:.2}, p={:.3}\".format(r, p))\n",
    "plt.xlabel(\"Spring Rank\"); plt.ylabel(\"Alcohol Use\");\n",
    "plt.tight_layout()"
   ]
  },
  {
   "cell_type": "markdown",
   "metadata": {},
   "source": [
    "## References\n",
    "[BLN2013] De Bacco, C., Larremore, D. B., & Moore, C. (2017). A physical model for efficient ranking in networks. arXiv preprint arXiv:1709.09002.\n",
    "\n",
    "[MA1997] L. Michell, and A. Amos, \"Girls, pecking order and smoking.\" Social Science & Medicine 44(12), 1861-1869 (1997)\n",
    "\n",
    "[KONECT2017] Facebook wall posts network dataset -- KONECT, April 2017.\n",
    "\n",
    "[VMCG2009] Bimal Viswanath, Alan Mislove, Meeyoung Cha, and Krishna P. Gummadi. On the evolution of user interaction in Facebook. In Proc. Workshop on Online Social Networks, pages 37--42, 2009."
   ]
  },
  {
   "cell_type": "code",
   "execution_count": null,
   "metadata": {},
   "outputs": [],
   "source": []
  }
 ],
 "metadata": {
  "kernelspec": {
   "display_name": "Python 3",
   "language": "python",
   "name": "python3"
  },
  "language_info": {
   "codemirror_mode": {
    "name": "ipython",
    "version": 3
   },
   "file_extension": ".py",
   "mimetype": "text/x-python",
   "name": "python",
   "nbconvert_exporter": "python",
   "pygments_lexer": "ipython3",
   "version": "3.6.2"
  }
 },
 "nbformat": 4,
 "nbformat_minor": 2
}
