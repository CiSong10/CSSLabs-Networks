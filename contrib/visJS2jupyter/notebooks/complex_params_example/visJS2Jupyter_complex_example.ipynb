{
 "cells": [
  {
   "cell_type": "markdown",
   "metadata": {},
   "source": [
    "# More complex network styling for visJS2jupyter\n",
    "\n",
    "------------\n",
    "\n",
    "Authors: Brin Rosenthal (sbrosenthal@ucsd.edu), Mikayla Webster (m1webste@ucsd.edu), Julia Len (jlen@ucsd.edu)\n",
    "\n",
    "-----------\n"
   ]
  },
  {
   "cell_type": "markdown",
   "metadata": {},
   "source": [
    "## Import packages"
   ]
  },
  {
   "cell_type": "code",
   "execution_count": 29,
   "metadata": {},
   "outputs": [
    {
     "data": {
      "text/plain": [
       "<module 'visJS2jupyter.visJS_module' from 'C:\\Users\\m1webste\\Anaconda2\\lib\\site-packages\\visJS2jupyter\\visJS_module.pyc'>"
      ]
     },
     "execution_count": 29,
     "metadata": {},
     "output_type": "execute_result"
    }
   ],
   "source": [
    "import math\n",
    "import matplotlib as mpl\n",
    "import networkx as nx\n",
    "import visJS2jupyter.visJS_module as visJS_module\n",
    "reload(visJS_module)"
   ]
  },
  {
   "cell_type": "code",
   "execution_count": 39,
   "metadata": {
    "collapsed": true
   },
   "outputs": [],
   "source": [
    "# create a simple graph\n",
    "G = nx.connected_watts_strogatz_graph(30,5,.2)\n",
    "nodes = list(G.nodes()) # type cast to list in order to make compatible with networkx 1.11 and 2.0\n",
    "edges = list(G.edges()) # for nx 2.0, returns an \"EdgeView\" object rather than an iterable"
   ]
  },
  {
   "cell_type": "markdown",
   "metadata": {},
   "source": [
    "# Map node attributes to visual properties, and style the nodes and edges\n",
    "\n",
    "- To map node attributes to properties, simply add the property to the graph as a node-attribute, and use the return_node_to_color function"
   ]
  },
  {
   "cell_type": "code",
   "execution_count": 40,
   "metadata": {
    "collapsed": true
   },
   "outputs": [],
   "source": [
    "# add a node attributes to color-code by\n",
    "cc = nx.clustering(G)\n",
    "degree = dict(G.degree()) # nx 2.0 returns a \"DegreeView\" object. Cast to dict to maintain compatibility with nx 1.11\n",
    "bc = nx.betweenness_centrality(G)\n",
    "\n",
    "nx.set_node_attributes(G, name = 'clustering_coefficient', values = cc) # parameter order for name and values is switched \n",
    "nx.set_node_attributes(G, name = 'degree', values = degree)             # between networkx 1.11 and 2.0, therefore we must\n",
    "nx.set_node_attributes(G, name = 'betweenness_centrality', values = bc) # explicitly pass our arguments \n",
    "                                                                        # (not implicitly through position) "
   ]
  },
  {
   "cell_type": "code",
   "execution_count": 47,
   "metadata": {},
   "outputs": [],
   "source": [
    "# setting shape of each node using a dictionary\n",
    "stars = ['star']*20 # some will be stars\n",
    "circles = ['dot']*10 # some will be circles\n",
    "shapes = stars + circles\n",
    "node_to_shape = dict(zip(nodes, shapes))"
   ]
  },
  {
   "cell_type": "markdown",
   "metadata": {},
   "source": [
    "<a id='interactive_network'></a>\n",
    "### Interactive network"
   ]
  },
  {
   "cell_type": "code",
   "execution_count": 48,
   "metadata": {},
   "outputs": [
    {
     "data": {
      "text/html": [
       "<!doctype html><html><head>  <title>Network | Basic usage</title></head><body><script type=\"text/javascript\">function setUpFrame() {     var frame = window.frames[\"style_file0\"];    frame.runVis([{\"node_shape\": \"star\", \"degree\": 4, \"title\": 0, \"color\": \"rgba(256, 140, 115, 1)\", \"y\": 99.02496867161048, \"x\": 323.62681988447946, \"border_width\": 0, \"id\": 0}, {\"node_shape\": \"star\", \"degree\": 3, \"title\": 1, \"color\": \"rgba(256, 210, 45, 1)\", \"y\": 26.101796985534282, \"x\": 220.3833537874147, \"border_width\": 0, \"id\": 1}, {\"node_shape\": \"star\", \"degree\": 5, \"title\": 2, \"color\": \"rgba(256, 141, 114, 1)\", \"y\": 103.87873176689561, \"x\": 174.87937070518797, \"border_width\": 0, \"id\": 2}, {\"node_shape\": \"star\", \"degree\": 5, \"title\": 3, \"color\": \"rgba(256, 153, 102, 1)\", \"y\": 14.560965795275669, \"x\": 280.1882668773394, \"border_width\": 0, \"id\": 3}, {\"node_shape\": \"star\", \"degree\": 4, \"title\": 4, \"color\": \"rgba(256, 200, 55, 1)\", \"y\": 0.0, \"x\": 391.8813202606626, \"border_width\": 0, \"id\": 4}, {\"node_shape\": \"star\", \"degree\": 4, \"title\": 5, \"color\": \"rgba(256, 184, 71, 1)\", \"y\": 44.5201215831736, \"x\": 522.737877923984, \"border_width\": 0, \"id\": 5}, {\"node_shape\": \"star\", \"degree\": 5, \"title\": 6, \"color\": \"rgba(256, 140, 115, 1)\", \"y\": 160.39481939046757, \"x\": 629.7790980786481, \"border_width\": 0, \"id\": 6}, {\"node_shape\": \"star\", \"degree\": 4, \"title\": 7, \"color\": \"rgba(256, 71, 184, 1)\", \"y\": 319.4679382975751, \"x\": 540.8812597482429, \"border_width\": 0, \"id\": 7}, {\"node_shape\": \"star\", \"degree\": 3, \"title\": 8, \"color\": \"rgba(256, 157, 98, 1)\", \"y\": 419.5676607431442, \"x\": 597.8246835879606, \"border_width\": 0, \"id\": 8}, {\"node_shape\": \"star\", \"degree\": 3, \"title\": 9, \"color\": \"rgba(256, 137, 118, 1)\", \"y\": 597.8423423399951, \"x\": 572.3359298106163, \"border_width\": 0, \"id\": 9}, {\"node_shape\": \"star\", \"degree\": 3, \"title\": 10, \"color\": \"rgba(256, 220, 35, 1)\", \"y\": 670.3547285754879, \"x\": 497.5294333735121, \"border_width\": 0, \"id\": 10}, {\"node_shape\": \"star\", \"degree\": 4, \"title\": 11, \"color\": \"rgba(256, 190, 65, 1)\", \"y\": 700.0, \"x\": 362.7768236107336, \"border_width\": 0, \"id\": 11}, {\"node_shape\": \"star\", \"degree\": 4, \"title\": 12, \"color\": \"rgba(256, 200, 55, 1)\", \"y\": 698.7566150324798, \"x\": 399.69225500935994, \"border_width\": 0, \"id\": 12}, {\"node_shape\": \"star\", \"degree\": 5, \"title\": 13, \"color\": \"rgba(256, 139, 116, 1)\", \"y\": 663.4188947362475, \"x\": 191.39832218103368, \"border_width\": 0, \"id\": 13}, {\"node_shape\": \"star\", \"degree\": 4, \"title\": 14, \"color\": \"rgba(256, 169, 86, 1)\", \"y\": 678.9352994695796, \"x\": 258.56135958754464, \"border_width\": 0, \"id\": 14}, {\"node_shape\": \"star\", \"degree\": 4, \"title\": 15, \"color\": \"rgba(256, 185, 70, 1)\", \"y\": 595.2107985817289, \"x\": 127.70590808195617, \"border_width\": 0, \"id\": 15}, {\"node_shape\": \"star\", \"degree\": 6, \"title\": 16, \"color\": \"rgba(256, 45, 210, 1)\", \"y\": 459.33173872624445, \"x\": 300.4832227874902, \"border_width\": 0, \"id\": 16}, {\"node_shape\": \"star\", \"degree\": 4, \"title\": 17, \"color\": \"rgba(256, 142, 113, 1)\", \"y\": 392.89569874932033, \"x\": 113.68685142234828, \"border_width\": 0, \"id\": 17}, {\"node_shape\": \"star\", \"degree\": 3, \"title\": 18, \"color\": \"rgba(256, 166, 89, 1)\", \"y\": 278.9009854756995, \"x\": 156.47739821471163, \"border_width\": 0, \"id\": 18}, {\"node_shape\": \"star\", \"degree\": 4, \"title\": 19, \"color\": \"rgba(256, 193, 62, 1)\", \"y\": 376.35883283969343, \"x\": 0.0, \"border_width\": 0, \"id\": 19}, {\"node_shape\": \"dot\", \"degree\": 4, \"title\": 20, \"color\": \"rgba(256, 143, 112, 1)\", \"y\": 483.41128365702383, \"x\": 29.000887693014253, \"border_width\": 0, \"id\": 20}, {\"node_shape\": \"dot\", \"degree\": 3, \"title\": 21, \"color\": \"rgba(256, 216, 39, 1)\", \"y\": 213.45308811935794, \"x\": 47.449703762131065, \"border_width\": 0, \"id\": 21}, {\"node_shape\": \"dot\", \"degree\": 4, \"title\": 22, \"color\": \"rgba(256, 175, 80, 1)\", \"y\": 300.92456467732137, \"x\": 23.551967925998095, \"border_width\": 0, \"id\": 22}, {\"node_shape\": \"dot\", \"degree\": 6, \"title\": 23, \"color\": \"rgba(256, 25, 230, 1)\", \"y\": 260.5017286964267, \"x\": 332.4941919530056, \"border_width\": 0, \"id\": 23}, {\"node_shape\": \"dot\", \"degree\": 3, \"title\": 24, \"color\": \"rgba(256, 222, 33, 1)\", \"y\": 229.29752360079584, \"x\": 585.1670461350476, \"border_width\": 0, \"id\": 24}, {\"node_shape\": \"dot\", \"degree\": 5, \"title\": 25, \"color\": \"rgba(256, 166, 89, 1)\", \"y\": 302.5356161418712, \"x\": 632.1640335157316, \"border_width\": 0, \"id\": 25}, {\"node_shape\": \"dot\", \"degree\": 4, \"title\": 26, \"color\": \"rgba(256, 197, 58, 1)\", \"y\": 246.82894019978286, \"x\": 684.3629586887772, \"border_width\": 0, \"id\": 26}, {\"node_shape\": \"dot\", \"degree\": 4, \"title\": 27, \"color\": \"rgba(256, 187, 68, 1)\", \"y\": 115.6103172690572, \"x\": 591.7959013343261, \"border_width\": 0, \"id\": 27}, {\"node_shape\": \"dot\", \"degree\": 3, \"title\": 28, \"color\": \"rgba(256, 172, 83, 1)\", \"y\": 239.54423900750507, \"x\": 424.52220040423634, \"border_width\": 0, \"id\": 28}, {\"node_shape\": \"dot\", \"degree\": 3, \"title\": 29, \"color\": \"rgba(256, 207, 48, 1)\", \"y\": 14.98875950217239, \"x\": 438.48157169191984, \"border_width\": 0, \"id\": 29}], [{\"color\": \"gray\", \"source\": 0, \"target\": 2}, {\"color\": \"gray\", \"source\": 0, \"target\": 28}, {\"color\": \"gray\", \"source\": 0, \"target\": 29}, {\"color\": \"gray\", \"source\": 0, \"target\": 23}, {\"color\": \"gray\", \"source\": 1, \"target\": 2}, {\"color\": \"gray\", \"source\": 1, \"target\": 3}, {\"color\": \"gray\", \"source\": 1, \"target\": 29}, {\"color\": \"gray\", \"source\": 2, \"target\": 3}, {\"color\": \"gray\", \"source\": 2, \"target\": 4}, {\"color\": \"gray\", \"source\": 2, \"target\": 17}, {\"color\": \"gray\", \"source\": 3, \"target\": 18}, {\"color\": \"gray\", \"source\": 3, \"target\": 4}, {\"color\": \"gray\", \"source\": 3, \"target\": 5}, {\"color\": \"gray\", \"source\": 4, \"target\": 5}, {\"color\": \"gray\", \"source\": 4, \"target\": 6}, {\"color\": \"gray\", \"source\": 5, \"target\": 6}, {\"color\": \"gray\", \"source\": 5, \"target\": 7}, {\"color\": \"gray\", \"source\": 6, \"target\": 8}, {\"color\": \"gray\", \"source\": 6, \"target\": 26}, {\"color\": \"gray\", \"source\": 6, \"target\": 7}, {\"color\": \"gray\", \"source\": 7, \"target\": 9}, {\"color\": \"gray\", \"source\": 7, \"target\": 23}, {\"color\": \"gray\", \"source\": 8, \"target\": 16}, {\"color\": \"gray\", \"source\": 8, \"target\": 25}, {\"color\": \"gray\", \"source\": 9, \"target\": 10}, {\"color\": \"gray\", \"source\": 9, \"target\": 11}, {\"color\": \"gray\", \"source\": 10, \"target\": 11}, {\"color\": \"gray\", \"source\": 10, \"target\": 12}, {\"color\": \"gray\", \"source\": 11, \"target\": 12}, {\"color\": \"gray\", \"source\": 11, \"target\": 13}, {\"color\": \"gray\", \"source\": 12, \"target\": 13}, {\"color\": \"gray\", \"source\": 12, \"target\": 14}, {\"color\": \"gray\", \"source\": 13, \"target\": 20}, {\"color\": \"gray\", \"source\": 13, \"target\": 14}, {\"color\": \"gray\", \"source\": 13, \"target\": 15}, {\"color\": \"gray\", \"source\": 14, \"target\": 16}, {\"color\": \"gray\", \"source\": 14, \"target\": 15}, {\"color\": \"gray\", \"source\": 15, \"target\": 16}, {\"color\": \"gray\", \"source\": 15, \"target\": 17}, {\"color\": \"gray\", \"source\": 16, \"target\": 17}, {\"color\": \"gray\", \"source\": 16, \"target\": 18}, {\"color\": \"gray\", \"source\": 16, \"target\": 28}, {\"color\": \"gray\", \"source\": 17, \"target\": 19}, {\"color\": \"gray\", \"source\": 18, \"target\": 20}, {\"color\": \"gray\", \"source\": 19, \"target\": 20}, {\"color\": \"gray\", \"source\": 19, \"target\": 21}, {\"color\": \"gray\", \"source\": 19, \"target\": 22}, {\"color\": \"gray\", \"source\": 20, \"target\": 22}, {\"color\": \"gray\", \"source\": 21, \"target\": 22}, {\"color\": \"gray\", \"source\": 21, \"target\": 23}, {\"color\": \"gray\", \"source\": 22, \"target\": 23}, {\"color\": \"gray\", \"source\": 23, \"target\": 24}, {\"color\": \"gray\", \"source\": 23, \"target\": 25}, {\"color\": \"gray\", \"source\": 24, \"target\": 25}, {\"color\": \"gray\", \"source\": 24, \"target\": 26}, {\"color\": \"gray\", \"source\": 25, \"target\": 26}, {\"color\": \"gray\", \"source\": 25, \"target\": 27}, {\"color\": \"gray\", \"source\": 26, \"target\": 27}, {\"color\": \"gray\", \"source\": 27, \"target\": 28}, {\"color\": \"gray\", \"source\": 27, \"target\": 29}]);}</script><iframe name=\"style_file0\" src=\"style_file0.html\" width=\"100%;\" height=\"805px\"></iframe></body></html>"
      ],
      "text/plain": [
       "<IPython.core.display.HTML object>"
      ]
     },
     "execution_count": 48,
     "metadata": {},
     "output_type": "execute_result"
    }
   ],
   "source": [
    "# map the betweenness centrality to the node color, using matplotlib spring_r colormap\n",
    "node_to_color = visJS2jupyter.visJS_module.return_node_to_color(G,field_to_map='betweenness_centrality',cmap=mpl.cm.spring_r,alpha = 1,\n",
    "                                                 color_max_frac = .9,color_min_frac = .1)\n",
    "\n",
    "# set node initial positions using networkx's spring_layout function\n",
    "pos = nx.spring_layout(G)\n",
    "\n",
    "# per node attributes\n",
    "nodes_dict = [{\"id\":n,\n",
    "               \"color\":node_to_color[n],\n",
    "               \"degree\":nx.degree(G,n),\n",
    "               \"node_shape\": node_to_shape[n],\n",
    "               \"x\":pos[n][0]*700,\n",
    "               \"y\":pos[n][1]*700} for n in nodes\n",
    "              ]\n",
    "\n",
    "# map to indices for source/target in edges\n",
    "node_map = dict(zip(nodes,range(len(nodes))))\n",
    "\n",
    "# per edge attributes\n",
    "edges_dict = [{\"source\":node_map[edges[i][0]], \"target\":node_map[edges[i][1]], \n",
    "              \"color\":\"gray\"} for i in range(len(edges))]\n",
    "\n",
    "# set some network-wide styles\n",
    "visJS2jupyter.visJS_module.visjs_network(nodes_dict,edges_dict,\n",
    "                          node_size_multiplier=7,\n",
    "                          node_size_transform = '',\n",
    "                          node_color_highlight_border='red',\n",
    "                          node_color_highlight_background='#D3918B',\n",
    "                          node_color_hover_border='blue',\n",
    "                          node_color_hover_background='#8BADD3',\n",
    "                          node_font_size=25,\n",
    "                          edge_arrow_to=True,\n",
    "                          physics_enabled=True,\n",
    "                          edge_color_highlight='#8A324E',\n",
    "                          edge_color_hover='#8BADD3',\n",
    "                          edge_width=3,\n",
    "                          max_velocity=15,\n",
    "                          min_velocity=1)\n",
    "\n"
   ]
  },
  {
   "cell_type": "code",
   "execution_count": null,
   "metadata": {
    "collapsed": true
   },
   "outputs": [],
   "source": []
  }
 ],
 "metadata": {
  "kernelspec": {
   "display_name": "Python 2",
   "language": "python",
   "name": "python2"
  },
  "language_info": {
   "codemirror_mode": {
    "name": "ipython",
    "version": 2
   },
   "file_extension": ".py",
   "mimetype": "text/x-python",
   "name": "python",
   "nbconvert_exporter": "python",
   "pygments_lexer": "ipython2",
   "version": "2.7.14"
  }
 },
 "nbformat": 4,
 "nbformat_minor": 1
}
