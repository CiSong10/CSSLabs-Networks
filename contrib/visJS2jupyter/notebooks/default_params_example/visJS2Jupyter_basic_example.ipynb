{
 "cells": [
  {
   "cell_type": "markdown",
   "metadata": {},
   "source": [
    "# Basic use example of visJS2jupyter\n",
    "\n",
    "------------\n",
    "\n",
    "Authors: Brin Rosenthal (sbrosenthal@ucsd.edu), Mikayla Webster (m1webste@ucsd.edu), Julia Len (ljen@ucsd.edu)\n",
    "\n",
    "-----------\n"
   ]
  },
  {
   "cell_type": "markdown",
   "metadata": {},
   "source": [
    "## Import packages"
   ]
  },
  {
   "cell_type": "code",
   "execution_count": 1,
   "metadata": {
    "collapsed": false
   },
   "outputs": [],
   "source": [
    "import matplotlib as mpl\n",
    "import networkx as nx\n",
    "import visJS2jupyter.visJS_module\n"
   ]
  },
  {
   "cell_type": "markdown",
   "metadata": {},
   "source": [
    "# Draw a simple network with default parameters"
   ]
  },
  {
   "cell_type": "code",
   "execution_count": 2,
   "metadata": {
    "collapsed": true
   },
   "outputs": [],
   "source": [
    "G = nx.connected_watts_strogatz_graph(30,5,.2)\n",
    "nodes = list(G.nodes()) # must cast to list to maintain compatibility between nx 1.11 and 2.0\n",
    "edges = list(G.edges()) # will return an \"EdgeView\" object in nx 2.0\n"
   ]
  },
  {
   "cell_type": "code",
   "execution_count": 3,
   "metadata": {
    "collapsed": false
   },
   "outputs": [
    {
     "data": {
      "text/html": [
       "<!doctype html><html><head>  <title>Network | Basic usage</title></head><body><script type=\"text/javascript\">function setUpFrame() {     var frame = window.frames[\"style_file0\"];    frame.runVis([{\"node_shape\": \"dot\", \"degree\": 3.0, \"title\": 0, \"color\": \"#8BA8D3\", \"y\": 131.68879000232874, \"x\": -281.23660966012858, \"border_width\": 0, \"id\": 0}, {\"node_shape\": \"dot\", \"degree\": 3.0, \"title\": 1, \"color\": \"#8BA8D3\", \"y\": 341.99735448116184, \"x\": 60.765262022297243, \"border_width\": 0, \"id\": 1}, {\"node_shape\": \"dot\", \"degree\": 3.0, \"title\": 2, \"color\": \"#8BA8D3\", \"y\": 179.94764524512533, \"x\": 1000.0, \"border_width\": 0, \"id\": 2}, {\"node_shape\": \"dot\", \"degree\": 3.0, \"title\": 3, \"color\": \"#8BA8D3\", \"y\": 458.37286763657374, \"x\": 926.1167011794513, \"border_width\": 0, \"id\": 3}, {\"node_shape\": \"dot\", \"degree\": 3.0, \"title\": 4, \"color\": \"#8BA8D3\", \"y\": 359.11937605947361, \"x\": 933.33248902556841, \"border_width\": 0, \"id\": 4}, {\"node_shape\": \"dot\", \"degree\": 3.0, \"title\": 5, \"color\": \"#8BA8D3\", \"y\": 354.07718276198284, \"x\": 619.36579262679641, \"border_width\": 0, \"id\": 5}, {\"node_shape\": \"dot\", \"degree\": 3.0, \"title\": 6, \"color\": \"#8BA8D3\", \"y\": 230.21771284403286, \"x\": 843.71105487395926, \"border_width\": 0, \"id\": 6}, {\"node_shape\": \"dot\", \"degree\": 3.0, \"title\": 7, \"color\": \"#8BA8D3\", \"y\": 125.98555246429363, \"x\": 769.84676318682193, \"border_width\": 0, \"id\": 7}, {\"node_shape\": \"dot\", \"degree\": 3.0, \"title\": 8, \"color\": \"#8BA8D3\", \"y\": -26.98479237590908, \"x\": 793.07107681955415, \"border_width\": 0, \"id\": 8}, {\"node_shape\": \"dot\", \"degree\": 3.0, \"title\": 9, \"color\": \"#8BA8D3\", \"y\": -86.828573066308394, \"x\": 719.79783894909417, \"border_width\": 0, \"id\": 9}, {\"node_shape\": \"dot\", \"degree\": 3.0, \"title\": 10, \"color\": \"#8BA8D3\", \"y\": -138.83328420893264, \"x\": 467.88265190849108, \"border_width\": 0, \"id\": 10}, {\"node_shape\": \"dot\", \"degree\": 3.0, \"title\": 11, \"color\": \"#8BA8D3\", \"y\": -255.39842545907194, \"x\": 339.18956772858741, \"border_width\": 0, \"id\": 11}, {\"node_shape\": \"dot\", \"degree\": 3.0, \"title\": 12, \"color\": \"#8BA8D3\", \"y\": -97.632921225214574, \"x\": 100.93390296441837, \"border_width\": 0, \"id\": 12}, {\"node_shape\": \"dot\", \"degree\": 3.0, \"title\": 13, \"color\": \"#8BA8D3\", \"y\": -423.03480084959176, \"x\": -24.733606310956116, \"border_width\": 0, \"id\": 13}, {\"node_shape\": \"dot\", \"degree\": 3.0, \"title\": 14, \"color\": \"#8BA8D3\", \"y\": -355.0310505177539, \"x\": -142.42002501227506, \"border_width\": 0, \"id\": 14}, {\"node_shape\": \"dot\", \"degree\": 3.0, \"title\": 15, \"color\": \"#8BA8D3\", \"y\": -193.2586703227135, \"x\": -294.39870283578244, \"border_width\": 0, \"id\": 15}, {\"node_shape\": \"dot\", \"degree\": 3.0, \"title\": 16, \"color\": \"#8BA8D3\", \"y\": -589.06068747894278, \"x\": -320.75949279310612, \"border_width\": 0, \"id\": 16}, {\"node_shape\": \"dot\", \"degree\": 3.0, \"title\": 17, \"color\": \"#8BA8D3\", \"y\": -710.93818809619665, \"x\": -596.15878174705881, \"border_width\": 0, \"id\": 17}, {\"node_shape\": \"dot\", \"degree\": 3.0, \"title\": 18, \"color\": \"#8BA8D3\", \"y\": -537.01613510031427, \"x\": -591.40959703397107, \"border_width\": 0, \"id\": 18}, {\"node_shape\": \"dot\", \"degree\": 3.0, \"title\": 19, \"color\": \"#8BA8D3\", \"y\": -490.40244692098298, \"x\": -757.58673560974898, \"border_width\": 0, \"id\": 19}, {\"node_shape\": \"dot\", \"degree\": 3.0, \"title\": 20, \"color\": \"#8BA8D3\", \"y\": -275.88664876407614, \"x\": -833.25108028423222, \"border_width\": 0, \"id\": 20}, {\"node_shape\": \"dot\", \"degree\": 3.0, \"title\": 21, \"color\": \"#8BA8D3\", \"y\": -204.6922314732704, \"x\": -616.74152127885361, \"border_width\": 0, \"id\": 21}, {\"node_shape\": \"dot\", \"degree\": 3.0, \"title\": 22, \"color\": \"#8BA8D3\", \"y\": -74.271427315172417, \"x\": -627.53808136278656, \"border_width\": 0, \"id\": 22}, {\"node_shape\": \"dot\", \"degree\": 3.0, \"title\": 23, \"color\": \"#8BA8D3\", \"y\": 103.04679538070003, \"x\": -631.93695695429369, \"border_width\": 0, \"id\": 23}, {\"node_shape\": \"dot\", \"degree\": 3.0, \"title\": 24, \"color\": \"#8BA8D3\", \"y\": 203.08724557230306, \"x\": -526.68458258902228, \"border_width\": 0, \"id\": 24}, {\"node_shape\": \"dot\", \"degree\": 3.0, \"title\": 25, \"color\": \"#8BA8D3\", \"y\": 323.65447614559838, \"x\": -355.93479496043437, \"border_width\": 0, \"id\": 25}, {\"node_shape\": \"dot\", \"degree\": 3.0, \"title\": 26, \"color\": \"#8BA8D3\", \"y\": 245.85472247585326, \"x\": -212.81892974133982, \"border_width\": 0, \"id\": 26}, {\"node_shape\": \"dot\", \"degree\": 3.0, \"title\": 27, \"color\": \"#8BA8D3\", \"y\": 538.91386240621603, \"x\": -310.80965282706404, \"border_width\": 0, \"id\": 27}, {\"node_shape\": \"dot\", \"degree\": 3.0, \"title\": 28, \"color\": \"#8BA8D3\", \"y\": 425.04136794934357, \"x\": -297.18382629178342, \"border_width\": 0, \"id\": 28}, {\"node_shape\": \"dot\", \"degree\": 3.0, \"title\": 29, \"color\": \"#8BA8D3\", \"y\": 438.26533174946718, \"x\": -152.41012399220116, \"border_width\": 0, \"id\": 29}], [{\"source\": 0, \"target\": 1, \"title\": \"test\"}, {\"source\": 0, \"target\": 21, \"title\": \"test\"}, {\"source\": 0, \"target\": 28, \"title\": \"test\"}, {\"source\": 0, \"target\": 29, \"title\": \"test\"}, {\"source\": 0, \"target\": 15, \"title\": \"test\"}, {\"source\": 1, \"target\": 5, \"title\": \"test\"}, {\"source\": 1, \"target\": 25, \"title\": \"test\"}, {\"source\": 1, \"target\": 29, \"title\": \"test\"}, {\"source\": 2, \"target\": 9, \"title\": \"test\"}, {\"source\": 2, \"target\": 3, \"title\": \"test\"}, {\"source\": 2, \"target\": 4, \"title\": \"test\"}, {\"source\": 3, \"target\": 4, \"title\": \"test\"}, {\"source\": 3, \"target\": 5, \"title\": \"test\"}, {\"source\": 4, \"target\": 5, \"title\": \"test\"}, {\"source\": 4, \"target\": 6, \"title\": \"test\"}, {\"source\": 5, \"target\": 6, \"title\": \"test\"}, {\"source\": 5, \"target\": 7, \"title\": \"test\"}, {\"source\": 6, \"target\": 8, \"title\": \"test\"}, {\"source\": 6, \"target\": 7, \"title\": \"test\"}, {\"source\": 7, \"target\": 8, \"title\": \"test\"}, {\"source\": 7, \"target\": 9, \"title\": \"test\"}, {\"source\": 8, \"target\": 9, \"title\": \"test\"}, {\"source\": 8, \"target\": 10, \"title\": \"test\"}, {\"source\": 9, \"target\": 11, \"title\": \"test\"}, {\"source\": 10, \"target\": 11, \"title\": \"test\"}, {\"source\": 10, \"target\": 12, \"title\": \"test\"}, {\"source\": 11, \"target\": 12, \"title\": \"test\"}, {\"source\": 11, \"target\": 13, \"title\": \"test\"}, {\"source\": 12, \"target\": 26, \"title\": \"test\"}, {\"source\": 12, \"target\": 14, \"title\": \"test\"}, {\"source\": 13, \"target\": 16, \"title\": \"test\"}, {\"source\": 13, \"target\": 15, \"title\": \"test\"}, {\"source\": 14, \"target\": 16, \"title\": \"test\"}, {\"source\": 14, \"target\": 15, \"title\": \"test\"}, {\"source\": 15, \"target\": 22, \"title\": \"test\"}, {\"source\": 16, \"target\": 17, \"title\": \"test\"}, {\"source\": 16, \"target\": 18, \"title\": \"test\"}, {\"source\": 17, \"target\": 18, \"title\": \"test\"}, {\"source\": 17, \"target\": 19, \"title\": \"test\"}, {\"source\": 18, \"target\": 19, \"title\": \"test\"}, {\"source\": 18, \"target\": 21, \"title\": \"test\"}, {\"source\": 19, \"target\": 20, \"title\": \"test\"}, {\"source\": 19, \"target\": 21, \"title\": \"test\"}, {\"source\": 20, \"target\": 21, \"title\": \"test\"}, {\"source\": 20, \"target\": 22, \"title\": \"test\"}, {\"source\": 21, \"target\": 22, \"title\": \"test\"}, {\"source\": 21, \"target\": 23, \"title\": \"test\"}, {\"source\": 22, \"target\": 24, \"title\": \"test\"}, {\"source\": 22, \"target\": 23, \"title\": \"test\"}, {\"source\": 23, \"target\": 24, \"title\": \"test\"}, {\"source\": 23, \"target\": 25, \"title\": \"test\"}, {\"source\": 24, \"target\": 25, \"title\": \"test\"}, {\"source\": 24, \"target\": 26, \"title\": \"test\"}, {\"source\": 25, \"target\": 26, \"title\": \"test\"}, {\"source\": 25, \"target\": 27, \"title\": \"test\"}, {\"source\": 26, \"target\": 27, \"title\": \"test\"}, {\"source\": 26, \"target\": 28, \"title\": \"test\"}, {\"source\": 27, \"target\": 28, \"title\": \"test\"}, {\"source\": 27, \"target\": 29, \"title\": \"test\"}, {\"source\": 28, \"target\": 29, \"title\": \"test\"}]);}</script><iframe name=\"style_file0\" src=\"style_file0.html\" height=\"1200px\" width=\"100%;\"></iframe></body></html>"
      ],
      "text/plain": [
       "<IPython.core.display.HTML object>"
      ]
     },
     "execution_count": 3,
     "metadata": {},
     "output_type": "execute_result"
    }
   ],
   "source": [
    "# define the initial positions of the nodes using networkx's spring_layout function, and add to the nodes_dict.\n",
    "pos = nx.spring_layout(G)\n",
    "nodes_dict = [{\"id\":n,\n",
    "              \"x\":pos[n][0]*1000,\n",
    "              \"y\":pos[n][1]*1000} for n in nodes]\n",
    "node_map = dict(zip(nodes,range(len(nodes))))  # map to indices for source/target in edges\n",
    "\n",
    "edges_dict = [{\"source\":node_map[edges[i][0]], \"target\":node_map[edges[i][1]], \n",
    "              \"title\":'test'} for i in range(len(edges))]\n",
    "\n",
    "visJS2jupyter.visJS_module.visjs_network(nodes_dict,edges_dict)"
   ]
  },
  {
   "cell_type": "code",
   "execution_count": null,
   "metadata": {
    "collapsed": true
   },
   "outputs": [],
   "source": []
  }
 ],
 "metadata": {
  "kernelspec": {
   "display_name": "Python 2",
   "language": "python",
   "name": "python2"
  },
  "language_info": {
   "codemirror_mode": {
    "name": "ipython",
    "version": 2
   },
   "file_extension": ".py",
   "mimetype": "text/x-python",
   "name": "python",
   "nbconvert_exporter": "python",
   "pygments_lexer": "ipython2",
   "version": "2.7.11"
  }
 },
 "nbformat": 4,
 "nbformat_minor": 0
}
