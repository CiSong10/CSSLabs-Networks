{
 "cells": [
  {
   "cell_type": "markdown",
   "metadata": {},
   "source": [
    "# Multigraph Network Styling for visJS2jupyter\n",
    "\n",
    "------------\n",
    "\n",
    "Authors: Brin Rosenthal (sbrosenthal@ucsd.edu), Mikayla Webster (m1webste@ucsd.edu), Julia Len (jlen@ucsd.edu)\n",
    "\n",
    "-----------\n",
    "\n",
    "## Import packages"
   ]
  },
  {
   "cell_type": "code",
   "execution_count": 1,
   "metadata": {
    "collapsed": true
   },
   "outputs": [],
   "source": [
    "import matplotlib as mpl\n",
    "import networkx as nx\n",
    "import pandas as pd\n",
    "import random\n",
    "\n",
    "import visJS2jupyter.visJS_module "
   ]
  },
  {
   "cell_type": "markdown",
   "metadata": {},
   "source": [
    "We start by creating a randomized, single-edged graph, and convert that to a multigraph"
   ]
  },
  {
   "cell_type": "code",
   "execution_count": 2,
   "metadata": {
    "collapsed": false
   },
   "outputs": [],
   "source": [
    "G = nx.connected_watts_strogatz_graph(30,5,.2)\n",
    "G = nx.MultiGraph(G)\n",
    "edges = G.edges(keys = True) # for multigraphs every edge has to be represented by a three-tuple (source, target, key)"
   ]
  },
  {
   "cell_type": "markdown",
   "metadata": {},
   "source": [
    "We duplicate every edge in the graph to make it a true multigraph. \n",
    "\n",
    "Note: NetworkX does not support duplicate edges with opposite directions. NetworkX will flip any backwards edges you try to add to your graph. For example, if your graph currently contains the edges [(0,1), (1,2)] and you add the edge (1,0) to your graph, your graph will now contain edges [(0,1), (0,1), (1,2)]"
   ]
  },
  {
   "cell_type": "code",
   "execution_count": 3,
   "metadata": {
    "collapsed": false
   },
   "outputs": [],
   "source": [
    "sources = list(zip(*edges)[0])\n",
    "targets = list(zip(*edges)[1])\n",
    "backward_edges = list(zip(targets, sources)) # demonstarting adding backwards edges"
   ]
  },
  {
   "cell_type": "code",
   "execution_count": 4,
   "metadata": {
    "collapsed": false,
    "scrolled": true
   },
   "outputs": [],
   "source": [
    "G.add_edges_from(backward_edges)\n",
    "edges = list(G.edges(data = True))"
   ]
  },
  {
   "cell_type": "code",
   "execution_count": 5,
   "metadata": {
    "collapsed": false
   },
   "outputs": [],
   "source": [
    "nodes = list(G.nodes()) # type cast to list in order to make compatible with networkx 1.11 and 2.0\n",
    "edges = list(G.edges(keys = True)) # for nx 2.0, returns an \"EdgeView\" object rather than an iterable"
   ]
  },
  {
   "cell_type": "markdown",
   "metadata": {},
   "source": [
    "## Multigraph Node and Edge Styling\n",
    "There is no difference between multigraph and single-edged-graph styling. Just map the node and edge attributes to some visual properties, and style the nodes and edges according to these properties (like usual!)"
   ]
  },
  {
   "cell_type": "code",
   "execution_count": 6,
   "metadata": {
    "collapsed": false
   },
   "outputs": [],
   "source": [
    "# add some node attributes to color-code by\n",
    "degree = dict(G.degree()) # nx 2.0 returns a \"DegreeView\" object. Cast to dict to maintain compatibility with nx 1.11\n",
    "bc = nx.betweenness_centrality(G)\n",
    "nx.set_node_attributes(G, name = 'degree', values = degree)             # between networkx 1.11 and 2.0, therefore we must\n",
    "nx.set_node_attributes(G, name = 'betweenness_centrality', values = bc) # explicitly pass our arguments \n",
    "                                                                        # (not implicitly through position)\n",
    "\n",
    "# add the edge attribute 'weight' to color-code by\n",
    "weights = []\n",
    "for i in range(len(edges)):\n",
    "    weights.append(float(random.randint(1,5))) \n",
    "    \n",
    "w_dict = dict(zip(edges, weights))\n",
    "nx.set_edge_attributes(G, name = 'weight', values = w_dict)\n"
   ]
  },
  {
   "cell_type": "code",
   "execution_count": 7,
   "metadata": {
    "collapsed": false
   },
   "outputs": [],
   "source": [
    "# map the betweenness centrality to the node color, using matplotlib spring_r colormap\n",
    "node_to_color = visJS_module.return_node_to_color(G,field_to_map='betweenness_centrality',cmap=mpl.cm.spring_r,alpha = 1,\n",
    "                                                 color_max_frac = .9,color_min_frac = .1)\n",
    "\n",
    "# map weight to edge color, using default settings\n",
    "edge_to_color = visJS_module.return_edge_to_color(G,field_to_map='weight')"
   ]
  },
  {
   "cell_type": "markdown",
   "metadata": {},
   "source": [
    "## Interactive network\n",
    "\n",
    "Note that this example is simply the multigraph version of our \"Complex Parameters\" notebook."
   ]
  },
  {
   "cell_type": "code",
   "execution_count": 8,
   "metadata": {
    "collapsed": false
   },
   "outputs": [
    {
     "data": {
      "text/html": [
       "<!doctype html><html><head>  <title>Network | Basic usage</title></head><body><script type=\"text/javascript\">function setUpFrame() {     var frame = window.frames[\"style_file0\"];    frame.runVis([{\"node_shape\": \"dot\", \"degree\": 8, \"title\": 0, \"color\": \"rgba(256, 183, 72, 1)\", \"y\": -161.49319476257475, \"x\": -135.41749224956831, \"border_width\": 0, \"id\": 0}, {\"node_shape\": \"dot\", \"degree\": 6, \"title\": 1, \"color\": \"rgba(256, 221, 34, 1)\", \"y\": -499.67863167119174, \"x\": -2.8912583760445281, \"border_width\": 0, \"id\": 1}, {\"node_shape\": \"dot\", \"degree\": 10, \"title\": 2, \"color\": \"rgba(256, 172, 83, 1)\", \"y\": -388.65710483845544, \"x\": -161.80910792386911, \"border_width\": 0, \"id\": 2}, {\"node_shape\": \"dot\", \"degree\": 10, \"title\": 3, \"color\": \"rgba(256, 101, 154, 1)\", \"y\": -361.22594232556315, \"x\": 76.14206502548123, \"border_width\": 0, \"id\": 3}, {\"node_shape\": \"dot\", \"degree\": 10, \"title\": 4, \"color\": \"rgba(256, 133, 122, 1)\", \"y\": -297.38927212650668, \"x\": -67.159337381129916, \"border_width\": 0, \"id\": 4}, {\"node_shape\": \"dot\", \"degree\": 8, \"title\": 5, \"color\": \"rgba(256, 156, 99, 1)\", \"y\": -396.54519978241728, \"x\": -333.88148970942461, \"border_width\": 0, \"id\": 5}, {\"node_shape\": \"dot\", \"degree\": 6, \"title\": 6, \"color\": \"rgba(256, 217, 38, 1)\", \"y\": -502.34925274251827, \"x\": -362.31089649135168, \"border_width\": 0, \"id\": 6}, {\"node_shape\": \"dot\", \"degree\": 10, \"title\": 7, \"color\": \"rgba(256, 194, 61, 1)\", \"y\": -373.00757959013117, \"x\": -599.61923505093432, \"border_width\": 0, \"id\": 7}, {\"node_shape\": \"dot\", \"degree\": 12, \"title\": 8, \"color\": \"rgba(256, 121, 134, 1)\", \"y\": -290.45866758607912, \"x\": -434.34644429320144, \"border_width\": 0, \"id\": 8}, {\"node_shape\": \"dot\", \"degree\": 10, \"title\": 9, \"color\": \"rgba(256, 173, 82, 1)\", \"y\": -345.17897542384776, \"x\": -701.72301678828148, \"border_width\": 0, \"id\": 9}, {\"node_shape\": \"dot\", \"degree\": 6, \"title\": 10, \"color\": \"rgba(256, 229, 26, 1)\", \"y\": -250.22113861760471, \"x\": -1000.0, \"border_width\": 0, \"id\": 10}, {\"node_shape\": \"dot\", \"degree\": 8, \"title\": 11, \"color\": \"rgba(256, 207, 48, 1)\", \"y\": -60.680853587718929, \"x\": -989.95429607670951, \"border_width\": 0, \"id\": 11}, {\"node_shape\": \"dot\", \"degree\": 8, \"title\": 12, \"color\": \"rgba(256, 203, 52, 1)\", \"y\": -86.515295444091123, \"x\": -837.62883728835493, \"border_width\": 0, \"id\": 12}, {\"node_shape\": \"dot\", \"degree\": 8, \"title\": 13, \"color\": \"rgba(256, 139, 116, 1)\", \"y\": 147.76217543346215, \"x\": -650.91742217836997, \"border_width\": 0, \"id\": 13}, {\"node_shape\": \"dot\", \"degree\": 6, \"title\": 14, \"color\": \"rgba(256, 175, 80, 1)\", \"y\": 106.74127581517384, \"x\": -431.02186909834006, \"border_width\": 0, \"id\": 14}, {\"node_shape\": \"dot\", \"degree\": 10, \"title\": 15, \"color\": \"rgba(256, 25, 230, 1)\", \"y\": 319.22846237159746, \"x\": -73.162491217868151, \"border_width\": 0, \"id\": 15}, {\"node_shape\": \"dot\", \"degree\": 8, \"title\": 16, \"color\": \"rgba(256, 182, 73, 1)\", \"y\": 367.82996603938784, \"x\": 251.17683488947483, \"border_width\": 0, \"id\": 16}, {\"node_shape\": \"dot\", \"degree\": 10, \"title\": 17, \"color\": \"rgba(256, 104, 151, 1)\", \"y\": 448.61913055606601, \"x\": 419.70662466280589, \"border_width\": 0, \"id\": 17}, {\"node_shape\": \"dot\", \"degree\": 8, \"title\": 18, \"color\": \"rgba(256, 188, 67, 1)\", \"y\": 161.26708750720832, \"x\": 492.85411181402355, \"border_width\": 0, \"id\": 18}, {\"node_shape\": \"dot\", \"degree\": 6, \"title\": 19, \"color\": \"rgba(256, 129, 126, 1)\", \"y\": -156.0682192818976, \"x\": 451.80948500016274, \"border_width\": 0, \"id\": 19}, {\"node_shape\": \"dot\", \"degree\": 8, \"title\": 20, \"color\": \"rgba(256, 175, 80, 1)\", \"y\": 50.829253897033247, \"x\": 716.5785546679723, \"border_width\": 0, \"id\": 20}, {\"node_shape\": \"dot\", \"degree\": 8, \"title\": 21, \"color\": \"rgba(256, 188, 67, 1)\", \"y\": 297.42469178834938, \"x\": 838.86499711948443, \"border_width\": 0, \"id\": 21}, {\"node_shape\": \"dot\", \"degree\": 8, \"title\": 22, \"color\": \"rgba(256, 213, 42, 1)\", \"y\": 304.80102319747817, \"x\": 971.68695634415144, \"border_width\": 0, \"id\": 22}, {\"node_shape\": \"dot\", \"degree\": 8, \"title\": 23, \"color\": \"rgba(256, 224, 31, 1)\", \"y\": 512.35433765888774, \"x\": 918.68937060259157, \"border_width\": 0, \"id\": 23}, {\"node_shape\": \"dot\", \"degree\": 8, \"title\": 24, \"color\": \"rgba(256, 208, 47, 1)\", \"y\": 464.93302829748615, \"x\": 768.01318735277096, \"border_width\": 0, \"id\": 24}, {\"node_shape\": \"dot\", \"degree\": 8, \"title\": 25, \"color\": \"rgba(256, 197, 58, 1)\", \"y\": 559.38300885997273, \"x\": 664.31455526805394, \"border_width\": 0, \"id\": 25}, {\"node_shape\": \"dot\", \"degree\": 8, \"title\": 26, \"color\": \"rgba(256, 142, 113, 1)\", \"y\": 339.51069065421899, \"x\": 462.35726145925923, \"border_width\": 0, \"id\": 26}, {\"node_shape\": \"dot\", \"degree\": 6, \"title\": 27, \"color\": \"rgba(256, 133, 122, 1)\", \"y\": 66.583309196972806, \"x\": 206.60078327064872, \"border_width\": 0, \"id\": 27}, {\"node_shape\": \"dot\", \"degree\": 6, \"title\": 28, \"color\": \"rgba(256, 166, 89, 1)\", \"y\": 114.99956656828138, \"x\": -55.065286138055463, \"border_width\": 0, \"id\": 28}, {\"node_shape\": \"dot\", \"degree\": 4, \"title\": 29, \"color\": \"rgba(256, 221, 34, 1)\", \"y\": -92.797680060979062, \"x\": -401.88630721537999, \"border_width\": 0, \"id\": 29}], [{\"color\": \"rgba(0, 76, 256, 1.0)\", \"source\": 0, \"target\": 1, \"title\": \"test\"}, {\"color\": \"rgba(256, 104, 0, 1.0)\", \"source\": 0, \"target\": 1, \"title\": \"test\"}, {\"color\": \"rgba(256, 104, 0, 1.0)\", \"source\": 0, \"target\": 2, \"title\": \"test\"}, {\"color\": \"rgba(0, 76, 256, 1.0)\", \"source\": 0, \"target\": 2, \"title\": \"test\"}, {\"color\": \"rgba(256, 104, 0, 1.0)\", \"source\": 0, \"target\": 28, \"title\": \"test\"}, {\"color\": \"rgba(256, 104, 0, 1.0)\", \"source\": 0, \"target\": 28, \"title\": \"test\"}, {\"color\": \"rgba(0, 76, 256, 1.0)\", \"source\": 0, \"target\": 29, \"title\": \"test\"}, {\"color\": \"rgba(256, 104, 0, 1.0)\", \"source\": 0, \"target\": 29, \"title\": \"test\"}, {\"color\": \"rgba(0, 76, 256, 1.0)\", \"source\": 1, \"target\": 2, \"title\": \"test\"}, {\"color\": \"rgba(256, 104, 0, 1.0)\", \"source\": 1, \"target\": 2, \"title\": \"test\"}, {\"color\": \"rgba(256, 104, 0, 1.0)\", \"source\": 1, \"target\": 3, \"title\": \"test\"}, {\"color\": \"rgba(206, 256, 41, 1.0)\", \"source\": 1, \"target\": 3, \"title\": \"test\"}, {\"color\": \"rgba(256, 104, 0, 1.0)\", \"source\": 2, \"target\": 3, \"title\": \"test\"}, {\"color\": \"rgba(128, 0, 0, 1.0)\", \"source\": 2, \"target\": 3, \"title\": \"test\"}, {\"color\": \"rgba(41, 256, 206, 1.0)\", \"source\": 2, \"target\": 4, \"title\": \"test\"}, {\"color\": \"rgba(128, 0, 0, 1.0)\", \"source\": 2, \"target\": 4, \"title\": \"test\"}, {\"color\": \"rgba(128, 0, 0, 1.0)\", \"source\": 2, \"target\": 8, \"title\": \"test\"}, {\"color\": \"rgba(128, 0, 0, 1.0)\", \"source\": 2, \"target\": 8, \"title\": \"test\"}, {\"color\": \"rgba(256, 104, 0, 1.0)\", \"source\": 3, \"target\": 19, \"title\": \"test\"}, {\"color\": \"rgba(256, 104, 0, 1.0)\", \"source\": 3, \"target\": 19, \"title\": \"test\"}, {\"color\": \"rgba(206, 256, 41, 1.0)\", \"source\": 3, \"target\": 4, \"title\": \"test\"}, {\"color\": \"rgba(128, 0, 0, 1.0)\", \"source\": 3, \"target\": 4, \"title\": \"test\"}, {\"color\": \"rgba(206, 256, 41, 1.0)\", \"source\": 3, \"target\": 5, \"title\": \"test\"}, {\"color\": \"rgba(256, 104, 0, 1.0)\", \"source\": 3, \"target\": 5, \"title\": \"test\"}, {\"color\": \"rgba(41, 256, 206, 1.0)\", \"source\": 4, \"target\": 27, \"title\": \"test\"}, {\"color\": \"rgba(256, 104, 0, 1.0)\", \"source\": 4, \"target\": 27, \"title\": \"test\"}, {\"color\": \"rgba(128, 0, 0, 1.0)\", \"source\": 4, \"target\": 5, \"title\": \"test\"}, {\"color\": \"rgba(0, 76, 256, 1.0)\", \"source\": 4, \"target\": 5, \"title\": \"test\"}, {\"color\": \"rgba(128, 0, 0, 1.0)\", \"source\": 4, \"target\": 6, \"title\": \"test\"}, {\"color\": \"rgba(0, 76, 256, 1.0)\", \"source\": 4, \"target\": 6, \"title\": \"test\"}, {\"color\": \"rgba(206, 256, 41, 1.0)\", \"source\": 5, \"target\": 9, \"title\": \"test\"}, {\"color\": \"rgba(256, 104, 0, 1.0)\", \"source\": 5, \"target\": 9, \"title\": \"test\"}, {\"color\": \"rgba(256, 104, 0, 1.0)\", \"source\": 5, \"target\": 7, \"title\": \"test\"}, {\"color\": \"rgba(256, 104, 0, 1.0)\", \"source\": 5, \"target\": 7, \"title\": \"test\"}, {\"color\": \"rgba(128, 0, 0, 1.0)\", \"source\": 6, \"target\": 8, \"title\": \"test\"}, {\"color\": \"rgba(128, 0, 0, 1.0)\", \"source\": 6, \"target\": 8, \"title\": \"test\"}, {\"color\": \"rgba(41, 256, 206, 1.0)\", \"source\": 6, \"target\": 7, \"title\": \"test\"}, {\"color\": \"rgba(0, 76, 256, 1.0)\", \"source\": 6, \"target\": 7, \"title\": \"test\"}, {\"color\": \"rgba(0, 76, 256, 1.0)\", \"source\": 7, \"target\": 8, \"title\": \"test\"}, {\"color\": \"rgba(128, 0, 0, 1.0)\", \"source\": 7, \"target\": 8, \"title\": \"test\"}, {\"color\": \"rgba(128, 0, 0, 1.0)\", \"source\": 7, \"target\": 9, \"title\": \"test\"}, {\"color\": \"rgba(128, 0, 0, 1.0)\", \"source\": 7, \"target\": 9, \"title\": \"test\"}, {\"color\": \"rgba(41, 256, 206, 1.0)\", \"source\": 7, \"target\": 12, \"title\": \"test\"}, {\"color\": \"rgba(206, 256, 41, 1.0)\", \"source\": 7, \"target\": 12, \"title\": \"test\"}, {\"color\": \"rgba(41, 256, 206, 1.0)\", \"source\": 8, \"target\": 9, \"title\": \"test\"}, {\"color\": \"rgba(256, 104, 0, 1.0)\", \"source\": 8, \"target\": 9, \"title\": \"test\"}, {\"color\": \"rgba(128, 0, 0, 1.0)\", \"source\": 8, \"target\": 14, \"title\": \"test\"}, {\"color\": \"rgba(0, 76, 256, 1.0)\", \"source\": 8, \"target\": 14, \"title\": \"test\"}, {\"color\": \"rgba(41, 256, 206, 1.0)\", \"source\": 8, \"target\": 29, \"title\": \"test\"}, {\"color\": \"rgba(0, 76, 256, 1.0)\", \"source\": 8, \"target\": 29, \"title\": \"test\"}, {\"color\": \"rgba(41, 256, 206, 1.0)\", \"source\": 9, \"target\": 10, \"title\": \"test\"}, {\"color\": \"rgba(256, 104, 0, 1.0)\", \"source\": 9, \"target\": 10, \"title\": \"test\"}, {\"color\": \"rgba(0, 76, 256, 1.0)\", \"source\": 9, \"target\": 11, \"title\": \"test\"}, {\"color\": \"rgba(0, 76, 256, 1.0)\", \"source\": 9, \"target\": 11, \"title\": \"test\"}, {\"color\": \"rgba(206, 256, 41, 1.0)\", \"source\": 10, \"target\": 11, \"title\": \"test\"}, {\"color\": \"rgba(206, 256, 41, 1.0)\", \"source\": 10, \"target\": 11, \"title\": \"test\"}, {\"color\": \"rgba(206, 256, 41, 1.0)\", \"source\": 10, \"target\": 12, \"title\": \"test\"}, {\"color\": \"rgba(206, 256, 41, 1.0)\", \"source\": 10, \"target\": 12, \"title\": \"test\"}, {\"color\": \"rgba(206, 256, 41, 1.0)\", \"source\": 11, \"target\": 12, \"title\": \"test\"}, {\"color\": \"rgba(128, 0, 0, 1.0)\", \"source\": 11, \"target\": 12, \"title\": \"test\"}, {\"color\": \"rgba(0, 76, 256, 1.0)\", \"source\": 11, \"target\": 13, \"title\": \"test\"}, {\"color\": \"rgba(41, 256, 206, 1.0)\", \"source\": 11, \"target\": 13, \"title\": \"test\"}, {\"color\": \"rgba(256, 104, 0, 1.0)\", \"source\": 12, \"target\": 13, \"title\": \"test\"}, {\"color\": \"rgba(256, 104, 0, 1.0)\", \"source\": 12, \"target\": 13, \"title\": \"test\"}, {\"color\": \"rgba(256, 104, 0, 1.0)\", \"source\": 13, \"target\": 14, \"title\": \"test\"}, {\"color\": \"rgba(41, 256, 206, 1.0)\", \"source\": 13, \"target\": 14, \"title\": \"test\"}, {\"color\": \"rgba(41, 256, 206, 1.0)\", \"source\": 13, \"target\": 15, \"title\": \"test\"}, {\"color\": \"rgba(0, 76, 256, 1.0)\", \"source\": 13, \"target\": 15, \"title\": \"test\"}, {\"color\": \"rgba(206, 256, 41, 1.0)\", \"source\": 14, \"target\": 15, \"title\": \"test\"}, {\"color\": \"rgba(0, 76, 256, 1.0)\", \"source\": 14, \"target\": 15, \"title\": \"test\"}, {\"color\": \"rgba(206, 256, 41, 1.0)\", \"source\": 15, \"target\": 16, \"title\": \"test\"}, {\"color\": \"rgba(128, 0, 0, 1.0)\", \"source\": 15, \"target\": 16, \"title\": \"test\"}, {\"color\": \"rgba(206, 256, 41, 1.0)\", \"source\": 15, \"target\": 17, \"title\": \"test\"}, {\"color\": \"rgba(0, 76, 256, 1.0)\", \"source\": 15, \"target\": 17, \"title\": \"test\"}, {\"color\": \"rgba(256, 104, 0, 1.0)\", \"source\": 15, \"target\": 28, \"title\": \"test\"}, {\"color\": \"rgba(128, 0, 0, 1.0)\", \"source\": 15, \"target\": 28, \"title\": \"test\"}, {\"color\": \"rgba(41, 256, 206, 1.0)\", \"source\": 16, \"target\": 17, \"title\": \"test\"}, {\"color\": \"rgba(206, 256, 41, 1.0)\", \"source\": 16, \"target\": 17, \"title\": \"test\"}, {\"color\": \"rgba(128, 0, 0, 1.0)\", \"source\": 16, \"target\": 18, \"title\": \"test\"}, {\"color\": \"rgba(0, 76, 256, 1.0)\", \"source\": 16, \"target\": 18, \"title\": \"test\"}, {\"color\": \"rgba(128, 0, 0, 1.0)\", \"source\": 16, \"target\": 26, \"title\": \"test\"}, {\"color\": \"rgba(206, 256, 41, 1.0)\", \"source\": 16, \"target\": 26, \"title\": \"test\"}, {\"color\": \"rgba(128, 0, 0, 1.0)\", \"source\": 17, \"target\": 25, \"title\": \"test\"}, {\"color\": \"rgba(41, 256, 206, 1.0)\", \"source\": 17, \"target\": 25, \"title\": \"test\"}, {\"color\": \"rgba(41, 256, 206, 1.0)\", \"source\": 17, \"target\": 18, \"title\": \"test\"}, {\"color\": \"rgba(41, 256, 206, 1.0)\", \"source\": 17, \"target\": 18, \"title\": \"test\"}, {\"color\": \"rgba(41, 256, 206, 1.0)\", \"source\": 17, \"target\": 21, \"title\": \"test\"}, {\"color\": \"rgba(0, 76, 256, 1.0)\", \"source\": 17, \"target\": 21, \"title\": \"test\"}, {\"color\": \"rgba(41, 256, 206, 1.0)\", \"source\": 18, \"target\": 19, \"title\": \"test\"}, {\"color\": \"rgba(206, 256, 41, 1.0)\", \"source\": 18, \"target\": 19, \"title\": \"test\"}, {\"color\": \"rgba(256, 104, 0, 1.0)\", \"source\": 18, \"target\": 20, \"title\": \"test\"}, {\"color\": \"rgba(41, 256, 206, 1.0)\", \"source\": 18, \"target\": 20, \"title\": \"test\"}, {\"color\": \"rgba(128, 0, 0, 1.0)\", \"source\": 19, \"target\": 20, \"title\": \"test\"}, {\"color\": \"rgba(256, 104, 0, 1.0)\", \"source\": 19, \"target\": 20, \"title\": \"test\"}, {\"color\": \"rgba(128, 0, 0, 1.0)\", \"source\": 20, \"target\": 21, \"title\": \"test\"}, {\"color\": \"rgba(0, 76, 256, 1.0)\", \"source\": 20, \"target\": 21, \"title\": \"test\"}, {\"color\": \"rgba(0, 76, 256, 1.0)\", \"source\": 20, \"target\": 22, \"title\": \"test\"}, {\"color\": \"rgba(256, 104, 0, 1.0)\", \"source\": 20, \"target\": 22, \"title\": \"test\"}, {\"color\": \"rgba(256, 104, 0, 1.0)\", \"source\": 21, \"target\": 22, \"title\": \"test\"}, {\"color\": \"rgba(206, 256, 41, 1.0)\", \"source\": 21, \"target\": 22, \"title\": \"test\"}, {\"color\": \"rgba(256, 104, 0, 1.0)\", \"source\": 21, \"target\": 23, \"title\": \"test\"}, {\"color\": \"rgba(0, 76, 256, 1.0)\", \"source\": 21, \"target\": 23, \"title\": \"test\"}, {\"color\": \"rgba(41, 256, 206, 1.0)\", \"source\": 22, \"target\": 24, \"title\": \"test\"}, {\"color\": \"rgba(41, 256, 206, 1.0)\", \"source\": 22, \"target\": 24, \"title\": \"test\"}, {\"color\": \"rgba(41, 256, 206, 1.0)\", \"source\": 22, \"target\": 23, \"title\": \"test\"}, {\"color\": \"rgba(128, 0, 0, 1.0)\", \"source\": 22, \"target\": 23, \"title\": \"test\"}, {\"color\": \"rgba(256, 104, 0, 1.0)\", \"source\": 23, \"target\": 24, \"title\": \"test\"}, {\"color\": \"rgba(206, 256, 41, 1.0)\", \"source\": 23, \"target\": 24, \"title\": \"test\"}, {\"color\": \"rgba(128, 0, 0, 1.0)\", \"source\": 23, \"target\": 25, \"title\": \"test\"}, {\"color\": \"rgba(256, 104, 0, 1.0)\", \"source\": 23, \"target\": 25, \"title\": \"test\"}, {\"color\": \"rgba(0, 76, 256, 1.0)\", \"source\": 24, \"target\": 25, \"title\": \"test\"}, {\"color\": \"rgba(256, 104, 0, 1.0)\", \"source\": 24, \"target\": 25, \"title\": \"test\"}, {\"color\": \"rgba(41, 256, 206, 1.0)\", \"source\": 24, \"target\": 26, \"title\": \"test\"}, {\"color\": \"rgba(128, 0, 0, 1.0)\", \"source\": 24, \"target\": 26, \"title\": \"test\"}, {\"color\": \"rgba(128, 0, 0, 1.0)\", \"source\": 25, \"target\": 26, \"title\": \"test\"}, {\"color\": \"rgba(0, 76, 256, 1.0)\", \"source\": 25, \"target\": 26, \"title\": \"test\"}, {\"color\": \"rgba(256, 104, 0, 1.0)\", \"source\": 26, \"target\": 27, \"title\": \"test\"}, {\"color\": \"rgba(128, 0, 0, 1.0)\", \"source\": 26, \"target\": 27, \"title\": \"test\"}, {\"color\": \"rgba(41, 256, 206, 1.0)\", \"source\": 27, \"target\": 28, \"title\": \"test\"}, {\"color\": \"rgba(41, 256, 206, 1.0)\", \"source\": 27, \"target\": 28, \"title\": \"test\"}]);}</script><iframe name=\"style_file0\" src=\"style_file0.html\" height=\"1200px\" width=\"100%;\"></iframe></body></html>"
      ],
      "text/plain": [
       "<IPython.core.display.HTML object>"
      ]
     },
     "execution_count": 8,
     "metadata": {},
     "output_type": "execute_result"
    }
   ],
   "source": [
    "# set node initial positions using networkx's spring_layout function\n",
    "pos = nx.spring_layout(G)\n",
    "\n",
    "nodes_dict = [{\"id\":n,\"color\":node_to_color[n],\n",
    "               \"degree\":nx.degree(G,n),\n",
    "              \"x\":pos[n][0]*1000,\n",
    "              \"y\":pos[n][1]*1000} for n in nodes\n",
    "              ]\n",
    "node_map = dict(zip(nodes,range(len(nodes))))  # map to indices for source/target in edges\n",
    "edges_dict = [{\"source\":node_map[edges[i][0]], \"target\":node_map[edges[i][1]], \n",
    "              \"color\":edge_to_color[(edges[i][0],edges[i][1],edges[i][2])],\"title\":'test'} # remeber (source, target, key)\n",
    "              for i in range(len(edges))]\n",
    "\n",
    "# set some network-wide styles\n",
    "visJS_module.visjs_network(nodes_dict,edges_dict,\n",
    "                          node_size_multiplier=3,\n",
    "                          node_size_transform = '',\n",
    "                          node_color_highlight_border='red',\n",
    "                          node_color_highlight_background='#D3918B',\n",
    "                          node_color_hover_border='blue',\n",
    "                          node_color_hover_background='#8BADD3',\n",
    "                          node_font_size=25,\n",
    "                          edge_arrow_to=True,\n",
    "                          physics_enabled=True,\n",
    "                          edge_color_highlight='#8A324E',\n",
    "                          edge_color_hover='#8BADD3',\n",
    "                          edge_width=3,\n",
    "                          max_velocity=15,\n",
    "                          min_velocity=1,\n",
    "                          edge_smooth_enabled = True)"
   ]
  },
  {
   "cell_type": "code",
   "execution_count": null,
   "metadata": {
    "collapsed": true
   },
   "outputs": [],
   "source": []
  }
 ],
 "metadata": {
  "kernelspec": {
   "display_name": "Python 2",
   "language": "python",
   "name": "python2"
  },
  "language_info": {
   "codemirror_mode": {
    "name": "ipython",
    "version": 2
   },
   "file_extension": ".py",
   "mimetype": "text/x-python",
   "name": "python",
   "nbconvert_exporter": "python",
   "pygments_lexer": "ipython2",
   "version": "2.7.11"
  }
 },
 "nbformat": 4,
 "nbformat_minor": 0
}
